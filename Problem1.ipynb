{
 "cells": [
  {
   "cell_type": "code",
   "execution_count": 7,
   "id": "33e5586f",
   "metadata": {},
   "outputs": [
    {
     "data": {
      "text/html": [
       "<div><div style = \"float: left;\"><span>5000×8 DataFrame</span></div><div style = \"float: right;\"><span style = \"font-style: italic;\">4975 rows omitted</span></div><div style = \"clear: both;\"></div></div><div class = \"data-frame\" style = \"overflow-x: scroll;\"><table class = \"data-frame\" style = \"margin-bottom: 6px;\"><thead><tr class = \"header\"><th class = \"rowNumber\" style = \"font-weight: bold; text-align: right;\">Row</th><th style = \"text-align: left;\">Country</th><th style = \"text-align: left;\">Year</th><th style = \"text-align: left;\">Food Category</th><th style = \"text-align: left;\">Total Waste (Tons)</th><th style = \"text-align: left;\">Economic Loss (Million $)</th><th style = \"text-align: left;\">Avg Waste per Capita (Kg)</th><th style = \"text-align: left;\">Population (Million)</th><th style = \"text-align: left;\">Household Waste (%)</th></tr><tr class = \"subheader headerLastRow\"><th class = \"rowNumber\" style = \"font-weight: bold; text-align: right;\"></th><th title = \"String15\" style = \"text-align: left;\">String15</th><th title = \"Int64\" style = \"text-align: left;\">Int64</th><th title = \"String31\" style = \"text-align: left;\">String31</th><th title = \"Float64\" style = \"text-align: left;\">Float64</th><th title = \"Float64\" style = \"text-align: left;\">Float64</th><th title = \"Float64\" style = \"text-align: left;\">Float64</th><th title = \"Float64\" style = \"text-align: left;\">Float64</th><th title = \"Float64\" style = \"text-align: left;\">Float64</th></tr></thead><tbody><tr><td class = \"rowNumber\" style = \"font-weight: bold; text-align: right;\">1</td><td style = \"text-align: left;\">Australia</td><td style = \"text-align: right;\">2019</td><td style = \"text-align: left;\">Fruits &amp; Vegetables</td><td style = \"text-align: right;\">19268.6</td><td style = \"text-align: right;\">18686.7</td><td style = \"text-align: right;\">72.69</td><td style = \"text-align: right;\">87.59</td><td style = \"text-align: right;\">53.64</td></tr><tr><td class = \"rowNumber\" style = \"font-weight: bold; text-align: right;\">2</td><td style = \"text-align: left;\">Indonesia</td><td style = \"text-align: right;\">2019</td><td style = \"text-align: left;\">Prepared Food</td><td style = \"text-align: right;\">3916.97</td><td style = \"text-align: right;\">4394.48</td><td style = \"text-align: right;\">192.52</td><td style = \"text-align: right;\">1153.99</td><td style = \"text-align: right;\">30.61</td></tr><tr><td class = \"rowNumber\" style = \"font-weight: bold; text-align: right;\">3</td><td style = \"text-align: left;\">Germany</td><td style = \"text-align: right;\">2022</td><td style = \"text-align: left;\">Dairy Products</td><td style = \"text-align: right;\">9700.16</td><td style = \"text-align: right;\">8909.16</td><td style = \"text-align: right;\">166.94</td><td style = \"text-align: right;\">1006.11</td><td style = \"text-align: right;\">48.08</td></tr><tr><td class = \"rowNumber\" style = \"font-weight: bold; text-align: right;\">4</td><td style = \"text-align: left;\">France</td><td style = \"text-align: right;\">2023</td><td style = \"text-align: left;\">Fruits &amp; Vegetables</td><td style = \"text-align: right;\">46299.7</td><td style = \"text-align: right;\">40551.2</td><td style = \"text-align: right;\">120.19</td><td style = \"text-align: right;\">953.05</td><td style = \"text-align: right;\">31.91</td></tr><tr><td class = \"rowNumber\" style = \"font-weight: bold; text-align: right;\">5</td><td style = \"text-align: left;\">France</td><td style = \"text-align: right;\">2023</td><td style = \"text-align: left;\">Beverages</td><td style = \"text-align: right;\">33096.6</td><td style = \"text-align: right;\">36980.8</td><td style = \"text-align: right;\">104.74</td><td style = \"text-align: right;\">1105.47</td><td style = \"text-align: right;\">36.06</td></tr><tr><td class = \"rowNumber\" style = \"font-weight: bold; text-align: right;\">6</td><td style = \"text-align: left;\">India</td><td style = \"text-align: right;\">2024</td><td style = \"text-align: left;\">Fruits &amp; Vegetables</td><td style = \"text-align: right;\">11962.9</td><td style = \"text-align: right;\">11196.0</td><td style = \"text-align: right;\">136.21</td><td style = \"text-align: right;\">1311.91</td><td style = \"text-align: right;\">37.09</td></tr><tr><td class = \"rowNumber\" style = \"font-weight: bold; text-align: right;\">7</td><td style = \"text-align: left;\">Germany</td><td style = \"text-align: right;\">2024</td><td style = \"text-align: left;\">Prepared Food</td><td style = \"text-align: right;\">45038.7</td><td style = \"text-align: right;\">39191.2</td><td style = \"text-align: right;\">179.27</td><td style = \"text-align: right;\">1349.45</td><td style = \"text-align: right;\">68.93</td></tr><tr><td class = \"rowNumber\" style = \"font-weight: bold; text-align: right;\">8</td><td style = \"text-align: left;\">China</td><td style = \"text-align: right;\">2019</td><td style = \"text-align: left;\">Fruits &amp; Vegetables</td><td style = \"text-align: right;\">12791.2</td><td style = \"text-align: right;\">12233.3</td><td style = \"text-align: right;\">90.8</td><td style = \"text-align: right;\">1229.29</td><td style = \"text-align: right;\">59.9</td></tr><tr><td class = \"rowNumber\" style = \"font-weight: bold; text-align: right;\">9</td><td style = \"text-align: left;\">UK</td><td style = \"text-align: right;\">2019</td><td style = \"text-align: left;\">Meat &amp; Seafood</td><td style = \"text-align: right;\">14795.6</td><td style = \"text-align: right;\">14347.0</td><td style = \"text-align: right;\">128.91</td><td style = \"text-align: right;\">450.33</td><td style = \"text-align: right;\">59.01</td></tr><tr><td class = \"rowNumber\" style = \"font-weight: bold; text-align: right;\">10</td><td style = \"text-align: left;\">India</td><td style = \"text-align: right;\">2019</td><td style = \"text-align: left;\">Grains &amp; Cereals</td><td style = \"text-align: right;\">12118.3</td><td style = \"text-align: right;\">13631.2</td><td style = \"text-align: right;\">141.75</td><td style = \"text-align: right;\">359.26</td><td style = \"text-align: right;\">42.42</td></tr><tr><td class = \"rowNumber\" style = \"font-weight: bold; text-align: right;\">11</td><td style = \"text-align: left;\">South Africa</td><td style = \"text-align: right;\">2024</td><td style = \"text-align: left;\">Frozen Food</td><td style = \"text-align: right;\">39478.7</td><td style = \"text-align: right;\">40087.3</td><td style = \"text-align: right;\">155.55</td><td style = \"text-align: right;\">375.84</td><td style = \"text-align: right;\">31.16</td></tr><tr><td class = \"rowNumber\" style = \"font-weight: bold; text-align: right;\">12</td><td style = \"text-align: left;\">Japan</td><td style = \"text-align: right;\">2022</td><td style = \"text-align: left;\">Frozen Food</td><td style = \"text-align: right;\">41025.9</td><td style = \"text-align: right;\">35437.9</td><td style = \"text-align: right;\">49.95</td><td style = \"text-align: right;\">1219.43</td><td style = \"text-align: right;\">33.79</td></tr><tr><td class = \"rowNumber\" style = \"font-weight: bold; text-align: right;\">13</td><td style = \"text-align: left;\">USA</td><td style = \"text-align: right;\">2024</td><td style = \"text-align: left;\">Beverages</td><td style = \"text-align: right;\">22924.8</td><td style = \"text-align: right;\">22406.2</td><td style = \"text-align: right;\">89.59</td><td style = \"text-align: right;\">836.05</td><td style = \"text-align: right;\">45.43</td></tr><tr><td style = \"text-align: right;\">&vellip;</td><td style = \"text-align: right;\">&vellip;</td><td style = \"text-align: right;\">&vellip;</td><td style = \"text-align: right;\">&vellip;</td><td style = \"text-align: right;\">&vellip;</td><td style = \"text-align: right;\">&vellip;</td><td style = \"text-align: right;\">&vellip;</td><td style = \"text-align: right;\">&vellip;</td><td style = \"text-align: right;\">&vellip;</td></tr><tr><td class = \"rowNumber\" style = \"font-weight: bold; text-align: right;\">4989</td><td style = \"text-align: left;\">Saudi Arabia</td><td style = \"text-align: right;\">2019</td><td style = \"text-align: left;\">Fruits &amp; Vegetables</td><td style = \"text-align: right;\">44319.6</td><td style = \"text-align: right;\">37349.5</td><td style = \"text-align: right;\">113.72</td><td style = \"text-align: right;\">1378.23</td><td style = \"text-align: right;\">61.61</td></tr><tr><td class = \"rowNumber\" style = \"font-weight: bold; text-align: right;\">4990</td><td style = \"text-align: left;\">South Africa</td><td style = \"text-align: right;\">2022</td><td style = \"text-align: left;\">Meat &amp; Seafood</td><td style = \"text-align: right;\">3925.48</td><td style = \"text-align: right;\">4499.38</td><td style = \"text-align: right;\">47.21</td><td style = \"text-align: right;\">79.18</td><td style = \"text-align: right;\">38.1</td></tr><tr><td class = \"rowNumber\" style = \"font-weight: bold; text-align: right;\">4991</td><td style = \"text-align: left;\">UK</td><td style = \"text-align: right;\">2021</td><td style = \"text-align: left;\">Frozen Food</td><td style = \"text-align: right;\">21794.8</td><td style = \"text-align: right;\">22964.5</td><td style = \"text-align: right;\">90.37</td><td style = \"text-align: right;\">726.54</td><td style = \"text-align: right;\">60.1</td></tr><tr><td class = \"rowNumber\" style = \"font-weight: bold; text-align: right;\">4992</td><td style = \"text-align: left;\">France</td><td style = \"text-align: right;\">2019</td><td style = \"text-align: left;\">Meat &amp; Seafood</td><td style = \"text-align: right;\">26583.1</td><td style = \"text-align: right;\">23562.8</td><td style = \"text-align: right;\">125.57</td><td style = \"text-align: right;\">571.09</td><td style = \"text-align: right;\">31.78</td></tr><tr><td class = \"rowNumber\" style = \"font-weight: bold; text-align: right;\">4993</td><td style = \"text-align: left;\">China</td><td style = \"text-align: right;\">2018</td><td style = \"text-align: left;\">Grains &amp; Cereals</td><td style = \"text-align: right;\">48984.2</td><td style = \"text-align: right;\">49978.4</td><td style = \"text-align: right;\">28.07</td><td style = \"text-align: right;\">1380.08</td><td style = \"text-align: right;\">60.39</td></tr><tr><td class = \"rowNumber\" style = \"font-weight: bold; text-align: right;\">4994</td><td style = \"text-align: left;\">France</td><td style = \"text-align: right;\">2021</td><td style = \"text-align: left;\">Grains &amp; Cereals</td><td style = \"text-align: right;\">42126.6</td><td style = \"text-align: right;\">36406.8</td><td style = \"text-align: right;\">144.3</td><td style = \"text-align: right;\">1138.46</td><td style = \"text-align: right;\">41.26</td></tr><tr><td class = \"rowNumber\" style = \"font-weight: bold; text-align: right;\">4995</td><td style = \"text-align: left;\">Indonesia</td><td style = \"text-align: right;\">2023</td><td style = \"text-align: left;\">Prepared Food</td><td style = \"text-align: right;\">39980.4</td><td style = \"text-align: right;\">37618.4</td><td style = \"text-align: right;\">32.34</td><td style = \"text-align: right;\">27.08</td><td style = \"text-align: right;\">56.38</td></tr><tr><td class = \"rowNumber\" style = \"font-weight: bold; text-align: right;\">4996</td><td style = \"text-align: left;\">France</td><td style = \"text-align: right;\">2021</td><td style = \"text-align: left;\">Beverages</td><td style = \"text-align: right;\">47524.7</td><td style = \"text-align: right;\">48058.4</td><td style = \"text-align: right;\">77.41</td><td style = \"text-align: right;\">1087.46</td><td style = \"text-align: right;\">39.73</td></tr><tr><td class = \"rowNumber\" style = \"font-weight: bold; text-align: right;\">4997</td><td style = \"text-align: left;\">Australia</td><td style = \"text-align: right;\">2021</td><td style = \"text-align: left;\">Beverages</td><td style = \"text-align: right;\">32337.7</td><td style = \"text-align: right;\">32705.1</td><td style = \"text-align: right;\">194.35</td><td style = \"text-align: right;\">1336.32</td><td style = \"text-align: right;\">64.83</td></tr><tr><td class = \"rowNumber\" style = \"font-weight: bold; text-align: right;\">4998</td><td style = \"text-align: left;\">China</td><td style = \"text-align: right;\">2018</td><td style = \"text-align: left;\">Meat &amp; Seafood</td><td style = \"text-align: right;\">20641.0</td><td style = \"text-align: right;\">22485.3</td><td style = \"text-align: right;\">21.04</td><td style = \"text-align: right;\">16.13</td><td style = \"text-align: right;\">31.23</td></tr><tr><td class = \"rowNumber\" style = \"font-weight: bold; text-align: right;\">4999</td><td style = \"text-align: left;\">Australia</td><td style = \"text-align: right;\">2021</td><td style = \"text-align: left;\">Beverages</td><td style = \"text-align: right;\">26566.6</td><td style = \"text-align: right;\">29357.6</td><td style = \"text-align: right;\">197.14</td><td style = \"text-align: right;\">1086.17</td><td style = \"text-align: right;\">69.95</td></tr><tr><td class = \"rowNumber\" style = \"font-weight: bold; text-align: right;\">5000</td><td style = \"text-align: left;\">France</td><td style = \"text-align: right;\">2024</td><td style = \"text-align: left;\">Bakery Items</td><td style = \"text-align: right;\">8860.27</td><td style = \"text-align: right;\">7360.38</td><td style = \"text-align: right;\">51.5</td><td style = \"text-align: right;\">879.67</td><td style = \"text-align: right;\">54.27</td></tr></tbody></table></div>"
      ],
      "text/latex": [
       "\\begin{tabular}{r|cccccc}\n",
       "\t& Country & Year & Food Category & Total Waste (Tons) & Economic Loss (Million \\$) & \\\\\n",
       "\t\\hline\n",
       "\t& String15 & Int64 & String31 & Float64 & Float64 & \\\\\n",
       "\t\\hline\n",
       "\t1 & Australia & 2019 & Fruits \\& Vegetables & 19268.6 & 18686.7 & $\\dots$ \\\\\n",
       "\t2 & Indonesia & 2019 & Prepared Food & 3916.97 & 4394.48 & $\\dots$ \\\\\n",
       "\t3 & Germany & 2022 & Dairy Products & 9700.16 & 8909.16 & $\\dots$ \\\\\n",
       "\t4 & France & 2023 & Fruits \\& Vegetables & 46299.7 & 40551.2 & $\\dots$ \\\\\n",
       "\t5 & France & 2023 & Beverages & 33096.6 & 36980.8 & $\\dots$ \\\\\n",
       "\t6 & India & 2024 & Fruits \\& Vegetables & 11962.9 & 11196.0 & $\\dots$ \\\\\n",
       "\t7 & Germany & 2024 & Prepared Food & 45038.7 & 39191.2 & $\\dots$ \\\\\n",
       "\t8 & China & 2019 & Fruits \\& Vegetables & 12791.2 & 12233.3 & $\\dots$ \\\\\n",
       "\t9 & UK & 2019 & Meat \\& Seafood & 14795.6 & 14347.0 & $\\dots$ \\\\\n",
       "\t10 & India & 2019 & Grains \\& Cereals & 12118.3 & 13631.2 & $\\dots$ \\\\\n",
       "\t11 & South Africa & 2024 & Frozen Food & 39478.7 & 40087.3 & $\\dots$ \\\\\n",
       "\t12 & Japan & 2022 & Frozen Food & 41025.9 & 35437.9 & $\\dots$ \\\\\n",
       "\t13 & USA & 2024 & Beverages & 22924.8 & 22406.2 & $\\dots$ \\\\\n",
       "\t14 & France & 2018 & Beverages & 29295.1 & 34102.2 & $\\dots$ \\\\\n",
       "\t15 & USA & 2022 & Bakery Items & 32458.0 & 27905.8 & $\\dots$ \\\\\n",
       "\t16 & USA & 2021 & Meat \\& Seafood & 43264.3 & 44777.9 & $\\dots$ \\\\\n",
       "\t17 & Brazil & 2021 & Frozen Food & 23131.1 & 21882.7 & $\\dots$ \\\\\n",
       "\t18 & Saudi Arabia & 2020 & Prepared Food & 18483.8 & 21071.7 & $\\dots$ \\\\\n",
       "\t19 & UK & 2022 & Meat \\& Seafood & 25829.6 & 20806.3 & $\\dots$ \\\\\n",
       "\t20 & China & 2018 & Prepared Food & 11314.1 & 10287.7 & $\\dots$ \\\\\n",
       "\t21 & Saudi Arabia & 2019 & Fruits \\& Vegetables & 10653.4 & 8992.33 & $\\dots$ \\\\\n",
       "\t22 & Australia & 2020 & Fruits \\& Vegetables & 1322.82 & 1394.01 & $\\dots$ \\\\\n",
       "\t23 & India & 2023 & Meat \\& Seafood & 33403.3 & 39125.4 & $\\dots$ \\\\\n",
       "\t24 & Italy & 2023 & Fruits \\& Vegetables & 30875.3 & 31341.6 & $\\dots$ \\\\\n",
       "\t25 & Saudi Arabia & 2024 & Prepared Food & 33085.8 & 28923.1 & $\\dots$ \\\\\n",
       "\t26 & Germany & 2018 & Beverages & 12336.2 & 10077.9 & $\\dots$ \\\\\n",
       "\t27 & Brazil & 2021 & Bakery Items & 5949.18 & 6656.14 & $\\dots$ \\\\\n",
       "\t28 & France & 2018 & Frozen Food & 17470.5 & 16267.2 & $\\dots$ \\\\\n",
       "\t29 & Spain & 2021 & Fruits \\& Vegetables & 41676.2 & 43058.3 & $\\dots$ \\\\\n",
       "\t30 & Mexico & 2018 & Meat \\& Seafood & 20604.3 & 23257.5 & $\\dots$ \\\\\n",
       "\t$\\dots$ & $\\dots$ & $\\dots$ & $\\dots$ & $\\dots$ & $\\dots$ &  \\\\\n",
       "\\end{tabular}\n"
      ],
      "text/plain": [
       "\u001b[1m5000×8 DataFrame\u001b[0m\n",
       "\u001b[1m  Row \u001b[0m│\u001b[1m Country      \u001b[0m\u001b[1m Year  \u001b[0m\u001b[1m Food Category       \u001b[0m\u001b[1m Total Waste (Tons) \u001b[0m\u001b[1m Economic\u001b[0m ⋯\n",
       "      │\u001b[90m String15     \u001b[0m\u001b[90m Int64 \u001b[0m\u001b[90m String31            \u001b[0m\u001b[90m Float64            \u001b[0m\u001b[90m Float64 \u001b[0m ⋯\n",
       "──────┼─────────────────────────────────────────────────────────────────────────\n",
       "    1 │ Australia      2019  Fruits & Vegetables            19268.6            ⋯\n",
       "    2 │ Indonesia      2019  Prepared Food                   3916.97\n",
       "    3 │ Germany        2022  Dairy Products                  9700.16\n",
       "    4 │ France         2023  Fruits & Vegetables            46299.7\n",
       "    5 │ France         2023  Beverages                      33096.6            ⋯\n",
       "    6 │ India          2024  Fruits & Vegetables            11962.9\n",
       "    7 │ Germany        2024  Prepared Food                  45038.7\n",
       "    8 │ China          2019  Fruits & Vegetables            12791.2\n",
       "    9 │ UK             2019  Meat & Seafood                 14795.6            ⋯\n",
       "   10 │ India          2019  Grains & Cereals               12118.3\n",
       "   11 │ South Africa   2024  Frozen Food                    39478.7\n",
       "  ⋮   │      ⋮          ⋮             ⋮                   ⋮                    ⋱\n",
       " 4991 │ UK             2021  Frozen Food                    21794.8\n",
       " 4992 │ France         2019  Meat & Seafood                 26583.1            ⋯\n",
       " 4993 │ China          2018  Grains & Cereals               48984.2\n",
       " 4994 │ France         2021  Grains & Cereals               42126.6\n",
       " 4995 │ Indonesia      2023  Prepared Food                  39980.4\n",
       " 4996 │ France         2021  Beverages                      47524.7            ⋯\n",
       " 4997 │ Australia      2021  Beverages                      32337.7\n",
       " 4998 │ China          2018  Meat & Seafood                 20641.0\n",
       " 4999 │ Australia      2021  Beverages                      26566.6\n",
       " 5000 │ France         2024  Bakery Items                    8860.27           ⋯\n",
       "\u001b[36m                                                 4 columns and 4979 rows omitted\u001b[0m"
      ]
     },
     "execution_count": 7,
     "metadata": {},
     "output_type": "execute_result"
    }
   ],
   "source": [
    "using CSV, DataFrames\n",
    "global_food_df = CSV.read(\"C:/Users/Rodney/Documents/2025 Modules/Machine Learning/global_food_wastage_dataset.csv\", DataFrame)\n"
   ]
  },
  {
   "cell_type": "code",
   "execution_count": 8,
   "id": "1e5fcfd4",
   "metadata": {},
   "outputs": [
    {
     "name": "stdout",
     "output_type": "stream",
     "text": [
      "Country\n",
      "Year\n",
      "Food Category\n",
      "Total Waste (Tons)\n",
      "Economic Loss (Million $)\n",
      "Avg Waste per Capita (Kg)\n",
      "Population (Million)\n",
      "Household Waste (%)\n"
     ]
    }
   ],
   "source": [
    "# data exploration\n",
    "for col_name in names(global_food_df)\n",
    "        println(col_name)\n",
    "end"
   ]
  },
  {
   "cell_type": "code",
   "execution_count": 9,
   "id": "0ab8f126",
   "metadata": {},
   "outputs": [
    {
     "data": {
      "text/plain": [
       "(5000, 8)"
      ]
     },
     "execution_count": 9,
     "metadata": {},
     "output_type": "execute_result"
    }
   ],
   "source": [
    "size(global_food_df)"
   ]
  },
  {
   "cell_type": "code",
   "execution_count": 10,
   "id": "6158208d",
   "metadata": {},
   "outputs": [
    {
     "data": {
      "text/html": [
       "<div><div style = \"float: left;\"><span>8×7 DataFrame</span></div><div style = \"clear: both;\"></div></div><div class = \"data-frame\" style = \"overflow-x: scroll;\"><table class = \"data-frame\" style = \"margin-bottom: 6px;\"><thead><tr class = \"header\"><th class = \"rowNumber\" style = \"font-weight: bold; text-align: right;\">Row</th><th style = \"text-align: left;\">variable</th><th style = \"text-align: left;\">mean</th><th style = \"text-align: left;\">min</th><th style = \"text-align: left;\">median</th><th style = \"text-align: left;\">max</th><th style = \"text-align: left;\">nmissing</th><th style = \"text-align: left;\">eltype</th></tr><tr class = \"subheader headerLastRow\"><th class = \"rowNumber\" style = \"font-weight: bold; text-align: right;\"></th><th title = \"Symbol\" style = \"text-align: left;\">Symbol</th><th title = \"Union{Nothing, Float64}\" style = \"text-align: left;\">Union…</th><th title = \"Any\" style = \"text-align: left;\">Any</th><th title = \"Union{Nothing, Float64}\" style = \"text-align: left;\">Union…</th><th title = \"Any\" style = \"text-align: left;\">Any</th><th title = \"Int64\" style = \"text-align: left;\">Int64</th><th title = \"DataType\" style = \"text-align: left;\">DataType</th></tr></thead><tbody><tr><td class = \"rowNumber\" style = \"font-weight: bold; text-align: right;\">1</td><td style = \"text-align: left;\">Country</td><td style = \"font-style: italic; text-align: left;\"></td><td style = \"text-align: left;\">Argentina</td><td style = \"font-style: italic; text-align: left;\"></td><td style = \"text-align: left;\">USA</td><td style = \"text-align: right;\">0</td><td style = \"text-align: left;\">String15</td></tr><tr><td class = \"rowNumber\" style = \"font-weight: bold; text-align: right;\">2</td><td style = \"text-align: left;\">Year</td><td style = \"text-align: left;\">2021.02</td><td style = \"text-align: left;\">2018</td><td style = \"text-align: left;\">2021.0</td><td style = \"text-align: left;\">2024</td><td style = \"text-align: right;\">0</td><td style = \"text-align: left;\">Int64</td></tr><tr><td class = \"rowNumber\" style = \"font-weight: bold; text-align: right;\">3</td><td style = \"text-align: left;\">Food Category</td><td style = \"font-style: italic; text-align: left;\"></td><td style = \"text-align: left;\">Bakery Items</td><td style = \"font-style: italic; text-align: left;\"></td><td style = \"text-align: left;\">Prepared Food</td><td style = \"text-align: right;\">0</td><td style = \"text-align: left;\">String31</td></tr><tr><td class = \"rowNumber\" style = \"font-weight: bold; text-align: right;\">4</td><td style = \"text-align: left;\">Total Waste (Tons)</td><td style = \"text-align: left;\">25061.8</td><td style = \"text-align: left;\">502.61</td><td style = \"text-align: left;\">24865.2</td><td style = \"text-align: left;\">49990.8</td><td style = \"text-align: right;\">0</td><td style = \"text-align: left;\">Float64</td></tr><tr><td class = \"rowNumber\" style = \"font-weight: bold; text-align: right;\">5</td><td style = \"text-align: left;\">Economic Loss (Million $)</td><td style = \"text-align: left;\">25039.7</td><td style = \"text-align: left;\">406.69</td><td style = \"text-align: left;\">24428.2</td><td style = \"text-align: left;\">59228.9</td><td style = \"text-align: right;\">0</td><td style = \"text-align: left;\">Float64</td></tr><tr><td class = \"rowNumber\" style = \"font-weight: bold; text-align: right;\">6</td><td style = \"text-align: left;\">Avg Waste per Capita (Kg)</td><td style = \"text-align: left;\">109.464</td><td style = \"text-align: left;\">20.09</td><td style = \"text-align: left;\">110.08</td><td style = \"text-align: left;\">199.97</td><td style = \"text-align: right;\">0</td><td style = \"text-align: left;\">Float64</td></tr><tr><td class = \"rowNumber\" style = \"font-weight: bold; text-align: right;\">7</td><td style = \"text-align: left;\">Population (Million)</td><td style = \"text-align: left;\">706.606</td><td style = \"text-align: left;\">11.29</td><td style = \"text-align: left;\">713.53</td><td style = \"text-align: left;\">1399.97</td><td style = \"text-align: right;\">0</td><td style = \"text-align: left;\">Float64</td></tr><tr><td class = \"rowNumber\" style = \"font-weight: bold; text-align: right;\">8</td><td style = \"text-align: left;\">Household Waste (%)</td><td style = \"text-align: left;\">50.0609</td><td style = \"text-align: left;\">30.02</td><td style = \"text-align: left;\">50.295</td><td style = \"text-align: left;\">70.0</td><td style = \"text-align: right;\">0</td><td style = \"text-align: left;\">Float64</td></tr></tbody></table></div>"
      ],
      "text/latex": [
       "\\begin{tabular}{r|ccccccc}\n",
       "\t& variable & mean & min & median & max & nmissing & \\\\\n",
       "\t\\hline\n",
       "\t& Symbol & Union… & Any & Union… & Any & Int64 & \\\\\n",
       "\t\\hline\n",
       "\t1 & Country &  & Argentina &  & USA & 0 & $\\dots$ \\\\\n",
       "\t2 & Year & 2021.02 & 2018 & 2021.0 & 2024 & 0 & $\\dots$ \\\\\n",
       "\t3 & Food Category &  & Bakery Items &  & Prepared Food & 0 & $\\dots$ \\\\\n",
       "\t4 & Total Waste (Tons) & 25061.8 & 502.61 & 24865.2 & 49990.8 & 0 & $\\dots$ \\\\\n",
       "\t5 & Economic Loss (Million \\$) & 25039.7 & 406.69 & 24428.2 & 59228.9 & 0 & $\\dots$ \\\\\n",
       "\t6 & Avg Waste per Capita (Kg) & 109.464 & 20.09 & 110.08 & 199.97 & 0 & $\\dots$ \\\\\n",
       "\t7 & Population (Million) & 706.606 & 11.29 & 713.53 & 1399.97 & 0 & $\\dots$ \\\\\n",
       "\t8 & Household Waste (\\%) & 50.0609 & 30.02 & 50.295 & 70.0 & 0 & $\\dots$ \\\\\n",
       "\\end{tabular}\n"
      ],
      "text/plain": [
       "\u001b[1m8×7 DataFrame\u001b[0m\n",
       "\u001b[1m Row \u001b[0m│\u001b[1m variable                  \u001b[0m\u001b[1m mean    \u001b[0m\u001b[1m min          \u001b[0m\u001b[1m median  \u001b[0m\u001b[1m max         \u001b[0m ⋯\n",
       "     │\u001b[90m Symbol                    \u001b[0m\u001b[90m Union…  \u001b[0m\u001b[90m Any          \u001b[0m\u001b[90m Union…  \u001b[0m\u001b[90m Any         \u001b[0m ⋯\n",
       "─────┼──────────────────────────────────────────────────────────────────────────\n",
       "   1 │ Country                   \u001b[90m         \u001b[0m Argentina    \u001b[90m         \u001b[0m USA          ⋯\n",
       "   2 │ Year                       2021.02  2018          2021.0   2024\n",
       "   3 │ Food Category             \u001b[90m         \u001b[0m Bakery Items \u001b[90m         \u001b[0m Prepared Foo\n",
       "   4 │ Total Waste (Tons)         25061.8  502.61        24865.2  49990.8\n",
       "   5 │ Economic Loss (Million $)  25039.7  406.69        24428.2  59228.9      ⋯\n",
       "   6 │ Avg Waste per Capita (Kg)  109.464  20.09         110.08   199.97\n",
       "   7 │ Population (Million)       706.606  11.29         713.53   1399.97\n",
       "   8 │ Household Waste (%)        50.0609  30.02         50.295   70.0\n",
       "\u001b[36m                                                               3 columns omitted\u001b[0m"
      ]
     },
     "execution_count": 10,
     "metadata": {},
     "output_type": "execute_result"
    }
   ],
   "source": [
    "describe(global_food_df)"
   ]
  },
  {
   "cell_type": "code",
   "execution_count": 13,
   "id": "c7a90eff",
   "metadata": {},
   "outputs": [],
   "source": [
    "import Pkg"
   ]
  },
  {
   "cell_type": "code",
   "execution_count": 12,
   "id": "f4618392",
   "metadata": {},
   "outputs": [
    {
     "name": "stderr",
     "output_type": "stream",
     "text": [
      "\u001b[32m\u001b[1m   Resolving\u001b[22m\u001b[39m package versions...\n",
      "\u001b[32m\u001b[1m  No Changes\u001b[22m\u001b[39m to `C:\\Users\\Rodney\\.julia\\environments\\v1.10\\Project.toml`\n",
      "\u001b[32m\u001b[1m  No Changes\u001b[22m\u001b[39m to `C:\\Users\\Rodney\\.julia\\environments\\v1.10\\Manifest.toml`\n"
     ]
    }
   ],
   "source": [
    "Pkg.add(\"MLJ\")"
   ]
  },
  {
   "cell_type": "code",
   "execution_count": 14,
   "id": "e567401f",
   "metadata": {},
   "outputs": [
    {
     "name": "stderr",
     "output_type": "stream",
     "text": [
      "\u001b[32m\u001b[1m   Resolving\u001b[22m\u001b[39m package versions...\n",
      "\u001b[32m\u001b[1m  No Changes\u001b[22m\u001b[39m to `C:\\Users\\Rodney\\.julia\\environments\\v1.10\\Project.toml`\n",
      "\u001b[32m\u001b[1m  No Changes\u001b[22m\u001b[39m to `C:\\Users\\Rodney\\.julia\\environments\\v1.10\\Manifest.toml`\n"
     ]
    }
   ],
   "source": [
    "Pkg.add(\"MLJLinearModels\")"
   ]
  },
  {
   "cell_type": "code",
   "execution_count": 15,
   "id": "2a2f2c95",
   "metadata": {},
   "outputs": [
    {
     "name": "stderr",
     "output_type": "stream",
     "text": [
      "\u001b[32m\u001b[1m   Resolving\u001b[22m\u001b[39m package versions...\n",
      "\u001b[32m\u001b[1m  No Changes\u001b[22m\u001b[39m to `C:\\Users\\Rodney\\.julia\\environments\\v1.10\\Project.toml`\n",
      "\u001b[32m\u001b[1m  No Changes\u001b[22m\u001b[39m to `C:\\Users\\Rodney\\.julia\\environments\\v1.10\\Manifest.toml`\n"
     ]
    }
   ],
   "source": [
    "Pkg.add(\"ScientificTypes\")"
   ]
  },
  {
   "cell_type": "code",
   "execution_count": 16,
   "id": "4d8cb70f",
   "metadata": {},
   "outputs": [
    {
     "name": "stderr",
     "output_type": "stream",
     "text": [
      "\u001b[32m\u001b[1m   Resolving\u001b[22m\u001b[39m package versions...\n",
      "\u001b[32m\u001b[1m  No Changes\u001b[22m\u001b[39m to `C:\\Users\\Rodney\\.julia\\environments\\v1.10\\Project.toml`\n",
      "\u001b[32m\u001b[1m  No Changes\u001b[22m\u001b[39m to `C:\\Users\\Rodney\\.julia\\environments\\v1.10\\Manifest.toml`\n"
     ]
    }
   ],
   "source": [
    "Pkg.add(\"CairoMakie\")"
   ]
  },
  {
   "cell_type": "code",
   "execution_count": 17,
   "id": "97a0bcc6",
   "metadata": {
    "scrolled": true
   },
   "outputs": [
    {
     "data": {
      "text/html": [
       "<div><div style = \"float: left;\"><span>5000×8 DataFrame</span></div><div style = \"float: right;\"><span style = \"font-style: italic;\">4975 rows omitted</span></div><div style = \"clear: both;\"></div></div><div class = \"data-frame\" style = \"overflow-x: scroll;\"><table class = \"data-frame\" style = \"margin-bottom: 6px;\"><thead><tr class = \"header\"><th class = \"rowNumber\" style = \"font-weight: bold; text-align: right;\">Row</th><th style = \"text-align: left;\">Country</th><th style = \"text-align: left;\">Year</th><th style = \"text-align: left;\">Food Category</th><th style = \"text-align: left;\">Total Waste (Tons)</th><th style = \"text-align: left;\">Economic Loss (Million $)</th><th style = \"text-align: left;\">Avg Waste per Capita (Kg)</th><th style = \"text-align: left;\">Population (Million)</th><th style = \"text-align: left;\">Household Waste (%)</th></tr><tr class = \"subheader headerLastRow\"><th class = \"rowNumber\" style = \"font-weight: bold; text-align: right;\"></th><th title = \"String15\" style = \"text-align: left;\">String15</th><th title = \"Float64\" style = \"text-align: left;\">Float64</th><th title = \"String31\" style = \"text-align: left;\">String31</th><th title = \"Float64\" style = \"text-align: left;\">Float64</th><th title = \"Float64\" style = \"text-align: left;\">Float64</th><th title = \"Float64\" style = \"text-align: left;\">Float64</th><th title = \"Float64\" style = \"text-align: left;\">Float64</th><th title = \"Float64\" style = \"text-align: left;\">Float64</th></tr></thead><tbody><tr><td class = \"rowNumber\" style = \"font-weight: bold; text-align: right;\">1</td><td style = \"text-align: left;\">Australia</td><td style = \"text-align: right;\">2019.0</td><td style = \"text-align: left;\">Fruits &amp; Vegetables</td><td style = \"text-align: right;\">19268.6</td><td style = \"text-align: right;\">18686.7</td><td style = \"text-align: right;\">72.69</td><td style = \"text-align: right;\">87.59</td><td style = \"text-align: right;\">53.64</td></tr><tr><td class = \"rowNumber\" style = \"font-weight: bold; text-align: right;\">2</td><td style = \"text-align: left;\">Indonesia</td><td style = \"text-align: right;\">2019.0</td><td style = \"text-align: left;\">Prepared Food</td><td style = \"text-align: right;\">3916.97</td><td style = \"text-align: right;\">4394.48</td><td style = \"text-align: right;\">192.52</td><td style = \"text-align: right;\">1153.99</td><td style = \"text-align: right;\">30.61</td></tr><tr><td class = \"rowNumber\" style = \"font-weight: bold; text-align: right;\">3</td><td style = \"text-align: left;\">Germany</td><td style = \"text-align: right;\">2022.0</td><td style = \"text-align: left;\">Dairy Products</td><td style = \"text-align: right;\">9700.16</td><td style = \"text-align: right;\">8909.16</td><td style = \"text-align: right;\">166.94</td><td style = \"text-align: right;\">1006.11</td><td style = \"text-align: right;\">48.08</td></tr><tr><td class = \"rowNumber\" style = \"font-weight: bold; text-align: right;\">4</td><td style = \"text-align: left;\">France</td><td style = \"text-align: right;\">2023.0</td><td style = \"text-align: left;\">Fruits &amp; Vegetables</td><td style = \"text-align: right;\">46299.7</td><td style = \"text-align: right;\">40551.2</td><td style = \"text-align: right;\">120.19</td><td style = \"text-align: right;\">953.05</td><td style = \"text-align: right;\">31.91</td></tr><tr><td class = \"rowNumber\" style = \"font-weight: bold; text-align: right;\">5</td><td style = \"text-align: left;\">France</td><td style = \"text-align: right;\">2023.0</td><td style = \"text-align: left;\">Beverages</td><td style = \"text-align: right;\">33096.6</td><td style = \"text-align: right;\">36980.8</td><td style = \"text-align: right;\">104.74</td><td style = \"text-align: right;\">1105.47</td><td style = \"text-align: right;\">36.06</td></tr><tr><td class = \"rowNumber\" style = \"font-weight: bold; text-align: right;\">6</td><td style = \"text-align: left;\">India</td><td style = \"text-align: right;\">2024.0</td><td style = \"text-align: left;\">Fruits &amp; Vegetables</td><td style = \"text-align: right;\">11962.9</td><td style = \"text-align: right;\">11196.0</td><td style = \"text-align: right;\">136.21</td><td style = \"text-align: right;\">1311.91</td><td style = \"text-align: right;\">37.09</td></tr><tr><td class = \"rowNumber\" style = \"font-weight: bold; text-align: right;\">7</td><td style = \"text-align: left;\">Germany</td><td style = \"text-align: right;\">2024.0</td><td style = \"text-align: left;\">Prepared Food</td><td style = \"text-align: right;\">45038.7</td><td style = \"text-align: right;\">39191.2</td><td style = \"text-align: right;\">179.27</td><td style = \"text-align: right;\">1349.45</td><td style = \"text-align: right;\">68.93</td></tr><tr><td class = \"rowNumber\" style = \"font-weight: bold; text-align: right;\">8</td><td style = \"text-align: left;\">China</td><td style = \"text-align: right;\">2019.0</td><td style = \"text-align: left;\">Fruits &amp; Vegetables</td><td style = \"text-align: right;\">12791.2</td><td style = \"text-align: right;\">12233.3</td><td style = \"text-align: right;\">90.8</td><td style = \"text-align: right;\">1229.29</td><td style = \"text-align: right;\">59.9</td></tr><tr><td class = \"rowNumber\" style = \"font-weight: bold; text-align: right;\">9</td><td style = \"text-align: left;\">UK</td><td style = \"text-align: right;\">2019.0</td><td style = \"text-align: left;\">Meat &amp; Seafood</td><td style = \"text-align: right;\">14795.6</td><td style = \"text-align: right;\">14347.0</td><td style = \"text-align: right;\">128.91</td><td style = \"text-align: right;\">450.33</td><td style = \"text-align: right;\">59.01</td></tr><tr><td class = \"rowNumber\" style = \"font-weight: bold; text-align: right;\">10</td><td style = \"text-align: left;\">India</td><td style = \"text-align: right;\">2019.0</td><td style = \"text-align: left;\">Grains &amp; Cereals</td><td style = \"text-align: right;\">12118.3</td><td style = \"text-align: right;\">13631.2</td><td style = \"text-align: right;\">141.75</td><td style = \"text-align: right;\">359.26</td><td style = \"text-align: right;\">42.42</td></tr><tr><td class = \"rowNumber\" style = \"font-weight: bold; text-align: right;\">11</td><td style = \"text-align: left;\">South Africa</td><td style = \"text-align: right;\">2024.0</td><td style = \"text-align: left;\">Frozen Food</td><td style = \"text-align: right;\">39478.7</td><td style = \"text-align: right;\">40087.3</td><td style = \"text-align: right;\">155.55</td><td style = \"text-align: right;\">375.84</td><td style = \"text-align: right;\">31.16</td></tr><tr><td class = \"rowNumber\" style = \"font-weight: bold; text-align: right;\">12</td><td style = \"text-align: left;\">Japan</td><td style = \"text-align: right;\">2022.0</td><td style = \"text-align: left;\">Frozen Food</td><td style = \"text-align: right;\">41025.9</td><td style = \"text-align: right;\">35437.9</td><td style = \"text-align: right;\">49.95</td><td style = \"text-align: right;\">1219.43</td><td style = \"text-align: right;\">33.79</td></tr><tr><td class = \"rowNumber\" style = \"font-weight: bold; text-align: right;\">13</td><td style = \"text-align: left;\">USA</td><td style = \"text-align: right;\">2024.0</td><td style = \"text-align: left;\">Beverages</td><td style = \"text-align: right;\">22924.8</td><td style = \"text-align: right;\">22406.2</td><td style = \"text-align: right;\">89.59</td><td style = \"text-align: right;\">836.05</td><td style = \"text-align: right;\">45.43</td></tr><tr><td style = \"text-align: right;\">&vellip;</td><td style = \"text-align: right;\">&vellip;</td><td style = \"text-align: right;\">&vellip;</td><td style = \"text-align: right;\">&vellip;</td><td style = \"text-align: right;\">&vellip;</td><td style = \"text-align: right;\">&vellip;</td><td style = \"text-align: right;\">&vellip;</td><td style = \"text-align: right;\">&vellip;</td><td style = \"text-align: right;\">&vellip;</td></tr><tr><td class = \"rowNumber\" style = \"font-weight: bold; text-align: right;\">4989</td><td style = \"text-align: left;\">Saudi Arabia</td><td style = \"text-align: right;\">2019.0</td><td style = \"text-align: left;\">Fruits &amp; Vegetables</td><td style = \"text-align: right;\">44319.6</td><td style = \"text-align: right;\">37349.5</td><td style = \"text-align: right;\">113.72</td><td style = \"text-align: right;\">1378.23</td><td style = \"text-align: right;\">61.61</td></tr><tr><td class = \"rowNumber\" style = \"font-weight: bold; text-align: right;\">4990</td><td style = \"text-align: left;\">South Africa</td><td style = \"text-align: right;\">2022.0</td><td style = \"text-align: left;\">Meat &amp; Seafood</td><td style = \"text-align: right;\">3925.48</td><td style = \"text-align: right;\">4499.38</td><td style = \"text-align: right;\">47.21</td><td style = \"text-align: right;\">79.18</td><td style = \"text-align: right;\">38.1</td></tr><tr><td class = \"rowNumber\" style = \"font-weight: bold; text-align: right;\">4991</td><td style = \"text-align: left;\">UK</td><td style = \"text-align: right;\">2021.0</td><td style = \"text-align: left;\">Frozen Food</td><td style = \"text-align: right;\">21794.8</td><td style = \"text-align: right;\">22964.5</td><td style = \"text-align: right;\">90.37</td><td style = \"text-align: right;\">726.54</td><td style = \"text-align: right;\">60.1</td></tr><tr><td class = \"rowNumber\" style = \"font-weight: bold; text-align: right;\">4992</td><td style = \"text-align: left;\">France</td><td style = \"text-align: right;\">2019.0</td><td style = \"text-align: left;\">Meat &amp; Seafood</td><td style = \"text-align: right;\">26583.1</td><td style = \"text-align: right;\">23562.8</td><td style = \"text-align: right;\">125.57</td><td style = \"text-align: right;\">571.09</td><td style = \"text-align: right;\">31.78</td></tr><tr><td class = \"rowNumber\" style = \"font-weight: bold; text-align: right;\">4993</td><td style = \"text-align: left;\">China</td><td style = \"text-align: right;\">2018.0</td><td style = \"text-align: left;\">Grains &amp; Cereals</td><td style = \"text-align: right;\">48984.2</td><td style = \"text-align: right;\">49978.4</td><td style = \"text-align: right;\">28.07</td><td style = \"text-align: right;\">1380.08</td><td style = \"text-align: right;\">60.39</td></tr><tr><td class = \"rowNumber\" style = \"font-weight: bold; text-align: right;\">4994</td><td style = \"text-align: left;\">France</td><td style = \"text-align: right;\">2021.0</td><td style = \"text-align: left;\">Grains &amp; Cereals</td><td style = \"text-align: right;\">42126.6</td><td style = \"text-align: right;\">36406.8</td><td style = \"text-align: right;\">144.3</td><td style = \"text-align: right;\">1138.46</td><td style = \"text-align: right;\">41.26</td></tr><tr><td class = \"rowNumber\" style = \"font-weight: bold; text-align: right;\">4995</td><td style = \"text-align: left;\">Indonesia</td><td style = \"text-align: right;\">2023.0</td><td style = \"text-align: left;\">Prepared Food</td><td style = \"text-align: right;\">39980.4</td><td style = \"text-align: right;\">37618.4</td><td style = \"text-align: right;\">32.34</td><td style = \"text-align: right;\">27.08</td><td style = \"text-align: right;\">56.38</td></tr><tr><td class = \"rowNumber\" style = \"font-weight: bold; text-align: right;\">4996</td><td style = \"text-align: left;\">France</td><td style = \"text-align: right;\">2021.0</td><td style = \"text-align: left;\">Beverages</td><td style = \"text-align: right;\">47524.7</td><td style = \"text-align: right;\">48058.4</td><td style = \"text-align: right;\">77.41</td><td style = \"text-align: right;\">1087.46</td><td style = \"text-align: right;\">39.73</td></tr><tr><td class = \"rowNumber\" style = \"font-weight: bold; text-align: right;\">4997</td><td style = \"text-align: left;\">Australia</td><td style = \"text-align: right;\">2021.0</td><td style = \"text-align: left;\">Beverages</td><td style = \"text-align: right;\">32337.7</td><td style = \"text-align: right;\">32705.1</td><td style = \"text-align: right;\">194.35</td><td style = \"text-align: right;\">1336.32</td><td style = \"text-align: right;\">64.83</td></tr><tr><td class = \"rowNumber\" style = \"font-weight: bold; text-align: right;\">4998</td><td style = \"text-align: left;\">China</td><td style = \"text-align: right;\">2018.0</td><td style = \"text-align: left;\">Meat &amp; Seafood</td><td style = \"text-align: right;\">20641.0</td><td style = \"text-align: right;\">22485.3</td><td style = \"text-align: right;\">21.04</td><td style = \"text-align: right;\">16.13</td><td style = \"text-align: right;\">31.23</td></tr><tr><td class = \"rowNumber\" style = \"font-weight: bold; text-align: right;\">4999</td><td style = \"text-align: left;\">Australia</td><td style = \"text-align: right;\">2021.0</td><td style = \"text-align: left;\">Beverages</td><td style = \"text-align: right;\">26566.6</td><td style = \"text-align: right;\">29357.6</td><td style = \"text-align: right;\">197.14</td><td style = \"text-align: right;\">1086.17</td><td style = \"text-align: right;\">69.95</td></tr><tr><td class = \"rowNumber\" style = \"font-weight: bold; text-align: right;\">5000</td><td style = \"text-align: left;\">France</td><td style = \"text-align: right;\">2024.0</td><td style = \"text-align: left;\">Bakery Items</td><td style = \"text-align: right;\">8860.27</td><td style = \"text-align: right;\">7360.38</td><td style = \"text-align: right;\">51.5</td><td style = \"text-align: right;\">879.67</td><td style = \"text-align: right;\">54.27</td></tr></tbody></table></div>"
      ],
      "text/latex": [
       "\\begin{tabular}{r|cccccc}\n",
       "\t& Country & Year & Food Category & Total Waste (Tons) & Economic Loss (Million \\$) & \\\\\n",
       "\t\\hline\n",
       "\t& String15 & Float64 & String31 & Float64 & Float64 & \\\\\n",
       "\t\\hline\n",
       "\t1 & Australia & 2019.0 & Fruits \\& Vegetables & 19268.6 & 18686.7 & $\\dots$ \\\\\n",
       "\t2 & Indonesia & 2019.0 & Prepared Food & 3916.97 & 4394.48 & $\\dots$ \\\\\n",
       "\t3 & Germany & 2022.0 & Dairy Products & 9700.16 & 8909.16 & $\\dots$ \\\\\n",
       "\t4 & France & 2023.0 & Fruits \\& Vegetables & 46299.7 & 40551.2 & $\\dots$ \\\\\n",
       "\t5 & France & 2023.0 & Beverages & 33096.6 & 36980.8 & $\\dots$ \\\\\n",
       "\t6 & India & 2024.0 & Fruits \\& Vegetables & 11962.9 & 11196.0 & $\\dots$ \\\\\n",
       "\t7 & Germany & 2024.0 & Prepared Food & 45038.7 & 39191.2 & $\\dots$ \\\\\n",
       "\t8 & China & 2019.0 & Fruits \\& Vegetables & 12791.2 & 12233.3 & $\\dots$ \\\\\n",
       "\t9 & UK & 2019.0 & Meat \\& Seafood & 14795.6 & 14347.0 & $\\dots$ \\\\\n",
       "\t10 & India & 2019.0 & Grains \\& Cereals & 12118.3 & 13631.2 & $\\dots$ \\\\\n",
       "\t11 & South Africa & 2024.0 & Frozen Food & 39478.7 & 40087.3 & $\\dots$ \\\\\n",
       "\t12 & Japan & 2022.0 & Frozen Food & 41025.9 & 35437.9 & $\\dots$ \\\\\n",
       "\t13 & USA & 2024.0 & Beverages & 22924.8 & 22406.2 & $\\dots$ \\\\\n",
       "\t14 & France & 2018.0 & Beverages & 29295.1 & 34102.2 & $\\dots$ \\\\\n",
       "\t15 & USA & 2022.0 & Bakery Items & 32458.0 & 27905.8 & $\\dots$ \\\\\n",
       "\t16 & USA & 2021.0 & Meat \\& Seafood & 43264.3 & 44777.9 & $\\dots$ \\\\\n",
       "\t17 & Brazil & 2021.0 & Frozen Food & 23131.1 & 21882.7 & $\\dots$ \\\\\n",
       "\t18 & Saudi Arabia & 2020.0 & Prepared Food & 18483.8 & 21071.7 & $\\dots$ \\\\\n",
       "\t19 & UK & 2022.0 & Meat \\& Seafood & 25829.6 & 20806.3 & $\\dots$ \\\\\n",
       "\t20 & China & 2018.0 & Prepared Food & 11314.1 & 10287.7 & $\\dots$ \\\\\n",
       "\t21 & Saudi Arabia & 2019.0 & Fruits \\& Vegetables & 10653.4 & 8992.33 & $\\dots$ \\\\\n",
       "\t22 & Australia & 2020.0 & Fruits \\& Vegetables & 1322.82 & 1394.01 & $\\dots$ \\\\\n",
       "\t23 & India & 2023.0 & Meat \\& Seafood & 33403.3 & 39125.4 & $\\dots$ \\\\\n",
       "\t24 & Italy & 2023.0 & Fruits \\& Vegetables & 30875.3 & 31341.6 & $\\dots$ \\\\\n",
       "\t25 & Saudi Arabia & 2024.0 & Prepared Food & 33085.8 & 28923.1 & $\\dots$ \\\\\n",
       "\t26 & Germany & 2018.0 & Beverages & 12336.2 & 10077.9 & $\\dots$ \\\\\n",
       "\t27 & Brazil & 2021.0 & Bakery Items & 5949.18 & 6656.14 & $\\dots$ \\\\\n",
       "\t28 & France & 2018.0 & Frozen Food & 17470.5 & 16267.2 & $\\dots$ \\\\\n",
       "\t29 & Spain & 2021.0 & Fruits \\& Vegetables & 41676.2 & 43058.3 & $\\dots$ \\\\\n",
       "\t30 & Mexico & 2018.0 & Meat \\& Seafood & 20604.3 & 23257.5 & $\\dots$ \\\\\n",
       "\t$\\dots$ & $\\dots$ & $\\dots$ & $\\dots$ & $\\dots$ & $\\dots$ &  \\\\\n",
       "\\end{tabular}\n"
      ],
      "text/plain": [
       "\u001b[1m5000×8 DataFrame\u001b[0m\n",
       "\u001b[1m  Row \u001b[0m│\u001b[1m Country      \u001b[0m\u001b[1m Year    \u001b[0m\u001b[1m Food Category       \u001b[0m\u001b[1m Total Waste (Tons) \u001b[0m\u001b[1m Econom\u001b[0m ⋯\n",
       "      │\u001b[90m String15     \u001b[0m\u001b[90m Float64 \u001b[0m\u001b[90m String31            \u001b[0m\u001b[90m Float64            \u001b[0m\u001b[90m Float6\u001b[0m ⋯\n",
       "──────┼─────────────────────────────────────────────────────────────────────────\n",
       "    1 │ Australia      2019.0  Fruits & Vegetables            19268.6          ⋯\n",
       "    2 │ Indonesia      2019.0  Prepared Food                   3916.97\n",
       "    3 │ Germany        2022.0  Dairy Products                  9700.16\n",
       "    4 │ France         2023.0  Fruits & Vegetables            46299.7\n",
       "    5 │ France         2023.0  Beverages                      33096.6          ⋯\n",
       "    6 │ India          2024.0  Fruits & Vegetables            11962.9\n",
       "    7 │ Germany        2024.0  Prepared Food                  45038.7\n",
       "    8 │ China          2019.0  Fruits & Vegetables            12791.2\n",
       "    9 │ UK             2019.0  Meat & Seafood                 14795.6          ⋯\n",
       "   10 │ India          2019.0  Grains & Cereals               12118.3\n",
       "   11 │ South Africa   2024.0  Frozen Food                    39478.7\n",
       "  ⋮   │      ⋮           ⋮              ⋮                   ⋮                  ⋱\n",
       " 4991 │ UK             2021.0  Frozen Food                    21794.8\n",
       " 4992 │ France         2019.0  Meat & Seafood                 26583.1          ⋯\n",
       " 4993 │ China          2018.0  Grains & Cereals               48984.2\n",
       " 4994 │ France         2021.0  Grains & Cereals               42126.6\n",
       " 4995 │ Indonesia      2023.0  Prepared Food                  39980.4\n",
       " 4996 │ France         2021.0  Beverages                      47524.7          ⋯\n",
       " 4997 │ Australia      2021.0  Beverages                      32337.7\n",
       " 4998 │ China          2018.0  Meat & Seafood                 20641.0\n",
       " 4999 │ Australia      2021.0  Beverages                      26566.6\n",
       " 5000 │ France         2024.0  Bakery Items                    8860.27         ⋯\n",
       "\u001b[36m                                                 4 columns and 4979 rows omitted\u001b[0m"
      ]
     },
     "execution_count": 17,
     "metadata": {},
     "output_type": "execute_result"
    }
   ],
   "source": [
    "using MLJ\n",
    "global_food_df1 = coerce(global_food_df, autotype(global_food_df, :discrete_to_continuous))"
   ]
  },
  {
   "cell_type": "code",
   "execution_count": 18,
   "id": "59bbc888",
   "metadata": {},
   "outputs": [
    {
     "data": {
      "text/html": [
       "<div><div style = \"float: left;\"><span>8×3 DataFrame</span></div><div style = \"clear: both;\"></div></div><div class = \"data-frame\" style = \"overflow-x: scroll;\"><table class = \"data-frame\" style = \"margin-bottom: 6px;\"><thead><tr class = \"header\"><th class = \"rowNumber\" style = \"font-weight: bold; text-align: right;\">Row</th><th style = \"text-align: left;\">names</th><th style = \"text-align: left;\">scitypes</th><th style = \"text-align: left;\">types</th></tr><tr class = \"subheader headerLastRow\"><th class = \"rowNumber\" style = \"font-weight: bold; text-align: right;\"></th><th title = \"Symbol\" style = \"text-align: left;\">Symbol</th><th title = \"DataType\" style = \"text-align: left;\">DataType</th><th title = \"DataType\" style = \"text-align: left;\">DataType</th></tr></thead><tbody><tr><td class = \"rowNumber\" style = \"font-weight: bold; text-align: right;\">1</td><td style = \"text-align: left;\">Country</td><td style = \"text-align: left;\">Textual</td><td style = \"text-align: left;\">String15</td></tr><tr><td class = \"rowNumber\" style = \"font-weight: bold; text-align: right;\">2</td><td style = \"text-align: left;\">Year</td><td style = \"text-align: left;\">Continuous</td><td style = \"text-align: left;\">Float64</td></tr><tr><td class = \"rowNumber\" style = \"font-weight: bold; text-align: right;\">3</td><td style = \"text-align: left;\">Food Category</td><td style = \"text-align: left;\">Textual</td><td style = \"text-align: left;\">String31</td></tr><tr><td class = \"rowNumber\" style = \"font-weight: bold; text-align: right;\">4</td><td style = \"text-align: left;\">Total Waste (Tons)</td><td style = \"text-align: left;\">Continuous</td><td style = \"text-align: left;\">Float64</td></tr><tr><td class = \"rowNumber\" style = \"font-weight: bold; text-align: right;\">5</td><td style = \"text-align: left;\">Economic Loss (Million $)</td><td style = \"text-align: left;\">Continuous</td><td style = \"text-align: left;\">Float64</td></tr><tr><td class = \"rowNumber\" style = \"font-weight: bold; text-align: right;\">6</td><td style = \"text-align: left;\">Avg Waste per Capita (Kg)</td><td style = \"text-align: left;\">Continuous</td><td style = \"text-align: left;\">Float64</td></tr><tr><td class = \"rowNumber\" style = \"font-weight: bold; text-align: right;\">7</td><td style = \"text-align: left;\">Population (Million)</td><td style = \"text-align: left;\">Continuous</td><td style = \"text-align: left;\">Float64</td></tr><tr><td class = \"rowNumber\" style = \"font-weight: bold; text-align: right;\">8</td><td style = \"text-align: left;\">Household Waste (%)</td><td style = \"text-align: left;\">Continuous</td><td style = \"text-align: left;\">Float64</td></tr></tbody></table></div>"
      ],
      "text/latex": [
       "\\begin{tabular}{r|ccc}\n",
       "\t& names & scitypes & types\\\\\n",
       "\t\\hline\n",
       "\t& Symbol & DataType & DataType\\\\\n",
       "\t\\hline\n",
       "\t1 & Country & Textual & String15 \\\\\n",
       "\t2 & Year & Continuous & Float64 \\\\\n",
       "\t3 & Food Category & Textual & String31 \\\\\n",
       "\t4 & Total Waste (Tons) & Continuous & Float64 \\\\\n",
       "\t5 & Economic Loss (Million \\$) & Continuous & Float64 \\\\\n",
       "\t6 & Avg Waste per Capita (Kg) & Continuous & Float64 \\\\\n",
       "\t7 & Population (Million) & Continuous & Float64 \\\\\n",
       "\t8 & Household Waste (\\%) & Continuous & Float64 \\\\\n",
       "\\end{tabular}\n"
      ],
      "text/plain": [
       "\u001b[1m8×3 DataFrame\u001b[0m\n",
       "\u001b[1m Row \u001b[0m│\u001b[1m names                     \u001b[0m\u001b[1m scitypes   \u001b[0m\u001b[1m types    \u001b[0m\n",
       "     │\u001b[90m Symbol                    \u001b[0m\u001b[90m DataType   \u001b[0m\u001b[90m DataType \u001b[0m\n",
       "─────┼─────────────────────────────────────────────────\n",
       "   1 │ Country                    Textual     String15\n",
       "   2 │ Year                       Continuous  Float64\n",
       "   3 │ Food Category              Textual     String31\n",
       "   4 │ Total Waste (Tons)         Continuous  Float64\n",
       "   5 │ Economic Loss (Million $)  Continuous  Float64\n",
       "   6 │ Avg Waste per Capita (Kg)  Continuous  Float64\n",
       "   7 │ Population (Million)       Continuous  Float64\n",
       "   8 │ Household Waste (%)        Continuous  Float64"
      ]
     },
     "execution_count": 18,
     "metadata": {},
     "output_type": "execute_result"
    }
   ],
   "source": [
    "schema(global_food_df1) |> DataFrames.DataFrame"
   ]
  },
  {
   "cell_type": "code",
   "execution_count": null,
   "id": "16efa229",
   "metadata": {},
   "outputs": [],
   "source": [
    "# Prepare Dataset\n"
   ]
  },
  {
   "cell_type": "code",
   "execution_count": 58,
   "id": "7e2a7f34",
   "metadata": {},
   "outputs": [
    {
     "data": {
      "text/html": [
       "<div><div style = \"float: left;\"><span>5000×8 DataFrame</span></div><div style = \"float: right;\"><span style = \"font-style: italic;\">4975 rows omitted</span></div><div style = \"clear: both;\"></div></div><div class = \"data-frame\" style = \"overflow-x: scroll;\"><table class = \"data-frame\" style = \"margin-bottom: 6px;\"><thead><tr class = \"header\"><th class = \"rowNumber\" style = \"font-weight: bold; text-align: right;\">Row</th><th style = \"text-align: left;\">Country</th><th style = \"text-align: left;\">Year</th><th style = \"text-align: left;\">Food Category</th><th style = \"text-align: left;\">Total Waste (Tons)</th><th style = \"text-align: left;\">Economic Loss (Million $)</th><th style = \"text-align: left;\">Avg Waste per Capita (Kg)</th><th style = \"text-align: left;\">Population (Million)</th><th style = \"text-align: left;\">Household Waste (%)</th></tr><tr class = \"subheader headerLastRow\"><th class = \"rowNumber\" style = \"font-weight: bold; text-align: right;\"></th><th title = \"String15\" style = \"text-align: left;\">String15</th><th title = \"Float64\" style = \"text-align: left;\">Float64</th><th title = \"String31\" style = \"text-align: left;\">String31</th><th title = \"Float64\" style = \"text-align: left;\">Float64</th><th title = \"Float64\" style = \"text-align: left;\">Float64</th><th title = \"Float64\" style = \"text-align: left;\">Float64</th><th title = \"Float64\" style = \"text-align: left;\">Float64</th><th title = \"Float64\" style = \"text-align: left;\">Float64</th></tr></thead><tbody><tr><td class = \"rowNumber\" style = \"font-weight: bold; text-align: right;\">1</td><td style = \"text-align: left;\">Australia</td><td style = \"text-align: right;\">2019.0</td><td style = \"text-align: left;\">Fruits &amp; Vegetables</td><td style = \"text-align: right;\">19268.6</td><td style = \"text-align: right;\">18686.7</td><td style = \"text-align: right;\">72.69</td><td style = \"text-align: right;\">87.59</td><td style = \"text-align: right;\">53.64</td></tr><tr><td class = \"rowNumber\" style = \"font-weight: bold; text-align: right;\">2</td><td style = \"text-align: left;\">Indonesia</td><td style = \"text-align: right;\">2019.0</td><td style = \"text-align: left;\">Prepared Food</td><td style = \"text-align: right;\">3916.97</td><td style = \"text-align: right;\">4394.48</td><td style = \"text-align: right;\">192.52</td><td style = \"text-align: right;\">1153.99</td><td style = \"text-align: right;\">30.61</td></tr><tr><td class = \"rowNumber\" style = \"font-weight: bold; text-align: right;\">3</td><td style = \"text-align: left;\">Germany</td><td style = \"text-align: right;\">2022.0</td><td style = \"text-align: left;\">Dairy Products</td><td style = \"text-align: right;\">9700.16</td><td style = \"text-align: right;\">8909.16</td><td style = \"text-align: right;\">166.94</td><td style = \"text-align: right;\">1006.11</td><td style = \"text-align: right;\">48.08</td></tr><tr><td class = \"rowNumber\" style = \"font-weight: bold; text-align: right;\">4</td><td style = \"text-align: left;\">France</td><td style = \"text-align: right;\">2023.0</td><td style = \"text-align: left;\">Fruits &amp; Vegetables</td><td style = \"text-align: right;\">46299.7</td><td style = \"text-align: right;\">40551.2</td><td style = \"text-align: right;\">120.19</td><td style = \"text-align: right;\">953.05</td><td style = \"text-align: right;\">31.91</td></tr><tr><td class = \"rowNumber\" style = \"font-weight: bold; text-align: right;\">5</td><td style = \"text-align: left;\">France</td><td style = \"text-align: right;\">2023.0</td><td style = \"text-align: left;\">Beverages</td><td style = \"text-align: right;\">33096.6</td><td style = \"text-align: right;\">36980.8</td><td style = \"text-align: right;\">104.74</td><td style = \"text-align: right;\">1105.47</td><td style = \"text-align: right;\">36.06</td></tr><tr><td class = \"rowNumber\" style = \"font-weight: bold; text-align: right;\">6</td><td style = \"text-align: left;\">India</td><td style = \"text-align: right;\">2024.0</td><td style = \"text-align: left;\">Fruits &amp; Vegetables</td><td style = \"text-align: right;\">11962.9</td><td style = \"text-align: right;\">11196.0</td><td style = \"text-align: right;\">136.21</td><td style = \"text-align: right;\">1311.91</td><td style = \"text-align: right;\">37.09</td></tr><tr><td class = \"rowNumber\" style = \"font-weight: bold; text-align: right;\">7</td><td style = \"text-align: left;\">Germany</td><td style = \"text-align: right;\">2024.0</td><td style = \"text-align: left;\">Prepared Food</td><td style = \"text-align: right;\">45038.7</td><td style = \"text-align: right;\">39191.2</td><td style = \"text-align: right;\">179.27</td><td style = \"text-align: right;\">1349.45</td><td style = \"text-align: right;\">68.93</td></tr><tr><td class = \"rowNumber\" style = \"font-weight: bold; text-align: right;\">8</td><td style = \"text-align: left;\">China</td><td style = \"text-align: right;\">2019.0</td><td style = \"text-align: left;\">Fruits &amp; Vegetables</td><td style = \"text-align: right;\">12791.2</td><td style = \"text-align: right;\">12233.3</td><td style = \"text-align: right;\">90.8</td><td style = \"text-align: right;\">1229.29</td><td style = \"text-align: right;\">59.9</td></tr><tr><td class = \"rowNumber\" style = \"font-weight: bold; text-align: right;\">9</td><td style = \"text-align: left;\">UK</td><td style = \"text-align: right;\">2019.0</td><td style = \"text-align: left;\">Meat &amp; Seafood</td><td style = \"text-align: right;\">14795.6</td><td style = \"text-align: right;\">14347.0</td><td style = \"text-align: right;\">128.91</td><td style = \"text-align: right;\">450.33</td><td style = \"text-align: right;\">59.01</td></tr><tr><td class = \"rowNumber\" style = \"font-weight: bold; text-align: right;\">10</td><td style = \"text-align: left;\">India</td><td style = \"text-align: right;\">2019.0</td><td style = \"text-align: left;\">Grains &amp; Cereals</td><td style = \"text-align: right;\">12118.3</td><td style = \"text-align: right;\">13631.2</td><td style = \"text-align: right;\">141.75</td><td style = \"text-align: right;\">359.26</td><td style = \"text-align: right;\">42.42</td></tr><tr><td class = \"rowNumber\" style = \"font-weight: bold; text-align: right;\">11</td><td style = \"text-align: left;\">South Africa</td><td style = \"text-align: right;\">2024.0</td><td style = \"text-align: left;\">Frozen Food</td><td style = \"text-align: right;\">39478.7</td><td style = \"text-align: right;\">40087.3</td><td style = \"text-align: right;\">155.55</td><td style = \"text-align: right;\">375.84</td><td style = \"text-align: right;\">31.16</td></tr><tr><td class = \"rowNumber\" style = \"font-weight: bold; text-align: right;\">12</td><td style = \"text-align: left;\">Japan</td><td style = \"text-align: right;\">2022.0</td><td style = \"text-align: left;\">Frozen Food</td><td style = \"text-align: right;\">41025.9</td><td style = \"text-align: right;\">35437.9</td><td style = \"text-align: right;\">49.95</td><td style = \"text-align: right;\">1219.43</td><td style = \"text-align: right;\">33.79</td></tr><tr><td class = \"rowNumber\" style = \"font-weight: bold; text-align: right;\">13</td><td style = \"text-align: left;\">USA</td><td style = \"text-align: right;\">2024.0</td><td style = \"text-align: left;\">Beverages</td><td style = \"text-align: right;\">22924.8</td><td style = \"text-align: right;\">22406.2</td><td style = \"text-align: right;\">89.59</td><td style = \"text-align: right;\">836.05</td><td style = \"text-align: right;\">45.43</td></tr><tr><td style = \"text-align: right;\">&vellip;</td><td style = \"text-align: right;\">&vellip;</td><td style = \"text-align: right;\">&vellip;</td><td style = \"text-align: right;\">&vellip;</td><td style = \"text-align: right;\">&vellip;</td><td style = \"text-align: right;\">&vellip;</td><td style = \"text-align: right;\">&vellip;</td><td style = \"text-align: right;\">&vellip;</td><td style = \"text-align: right;\">&vellip;</td></tr><tr><td class = \"rowNumber\" style = \"font-weight: bold; text-align: right;\">4989</td><td style = \"text-align: left;\">Saudi Arabia</td><td style = \"text-align: right;\">2019.0</td><td style = \"text-align: left;\">Fruits &amp; Vegetables</td><td style = \"text-align: right;\">44319.6</td><td style = \"text-align: right;\">37349.5</td><td style = \"text-align: right;\">113.72</td><td style = \"text-align: right;\">1378.23</td><td style = \"text-align: right;\">61.61</td></tr><tr><td class = \"rowNumber\" style = \"font-weight: bold; text-align: right;\">4990</td><td style = \"text-align: left;\">South Africa</td><td style = \"text-align: right;\">2022.0</td><td style = \"text-align: left;\">Meat &amp; Seafood</td><td style = \"text-align: right;\">3925.48</td><td style = \"text-align: right;\">4499.38</td><td style = \"text-align: right;\">47.21</td><td style = \"text-align: right;\">79.18</td><td style = \"text-align: right;\">38.1</td></tr><tr><td class = \"rowNumber\" style = \"font-weight: bold; text-align: right;\">4991</td><td style = \"text-align: left;\">UK</td><td style = \"text-align: right;\">2021.0</td><td style = \"text-align: left;\">Frozen Food</td><td style = \"text-align: right;\">21794.8</td><td style = \"text-align: right;\">22964.5</td><td style = \"text-align: right;\">90.37</td><td style = \"text-align: right;\">726.54</td><td style = \"text-align: right;\">60.1</td></tr><tr><td class = \"rowNumber\" style = \"font-weight: bold; text-align: right;\">4992</td><td style = \"text-align: left;\">France</td><td style = \"text-align: right;\">2019.0</td><td style = \"text-align: left;\">Meat &amp; Seafood</td><td style = \"text-align: right;\">26583.1</td><td style = \"text-align: right;\">23562.8</td><td style = \"text-align: right;\">125.57</td><td style = \"text-align: right;\">571.09</td><td style = \"text-align: right;\">31.78</td></tr><tr><td class = \"rowNumber\" style = \"font-weight: bold; text-align: right;\">4993</td><td style = \"text-align: left;\">China</td><td style = \"text-align: right;\">2018.0</td><td style = \"text-align: left;\">Grains &amp; Cereals</td><td style = \"text-align: right;\">48984.2</td><td style = \"text-align: right;\">49978.4</td><td style = \"text-align: right;\">28.07</td><td style = \"text-align: right;\">1380.08</td><td style = \"text-align: right;\">60.39</td></tr><tr><td class = \"rowNumber\" style = \"font-weight: bold; text-align: right;\">4994</td><td style = \"text-align: left;\">France</td><td style = \"text-align: right;\">2021.0</td><td style = \"text-align: left;\">Grains &amp; Cereals</td><td style = \"text-align: right;\">42126.6</td><td style = \"text-align: right;\">36406.8</td><td style = \"text-align: right;\">144.3</td><td style = \"text-align: right;\">1138.46</td><td style = \"text-align: right;\">41.26</td></tr><tr><td class = \"rowNumber\" style = \"font-weight: bold; text-align: right;\">4995</td><td style = \"text-align: left;\">Indonesia</td><td style = \"text-align: right;\">2023.0</td><td style = \"text-align: left;\">Prepared Food</td><td style = \"text-align: right;\">39980.4</td><td style = \"text-align: right;\">37618.4</td><td style = \"text-align: right;\">32.34</td><td style = \"text-align: right;\">27.08</td><td style = \"text-align: right;\">56.38</td></tr><tr><td class = \"rowNumber\" style = \"font-weight: bold; text-align: right;\">4996</td><td style = \"text-align: left;\">France</td><td style = \"text-align: right;\">2021.0</td><td style = \"text-align: left;\">Beverages</td><td style = \"text-align: right;\">47524.7</td><td style = \"text-align: right;\">48058.4</td><td style = \"text-align: right;\">77.41</td><td style = \"text-align: right;\">1087.46</td><td style = \"text-align: right;\">39.73</td></tr><tr><td class = \"rowNumber\" style = \"font-weight: bold; text-align: right;\">4997</td><td style = \"text-align: left;\">Australia</td><td style = \"text-align: right;\">2021.0</td><td style = \"text-align: left;\">Beverages</td><td style = \"text-align: right;\">32337.7</td><td style = \"text-align: right;\">32705.1</td><td style = \"text-align: right;\">194.35</td><td style = \"text-align: right;\">1336.32</td><td style = \"text-align: right;\">64.83</td></tr><tr><td class = \"rowNumber\" style = \"font-weight: bold; text-align: right;\">4998</td><td style = \"text-align: left;\">China</td><td style = \"text-align: right;\">2018.0</td><td style = \"text-align: left;\">Meat &amp; Seafood</td><td style = \"text-align: right;\">20641.0</td><td style = \"text-align: right;\">22485.3</td><td style = \"text-align: right;\">21.04</td><td style = \"text-align: right;\">16.13</td><td style = \"text-align: right;\">31.23</td></tr><tr><td class = \"rowNumber\" style = \"font-weight: bold; text-align: right;\">4999</td><td style = \"text-align: left;\">Australia</td><td style = \"text-align: right;\">2021.0</td><td style = \"text-align: left;\">Beverages</td><td style = \"text-align: right;\">26566.6</td><td style = \"text-align: right;\">29357.6</td><td style = \"text-align: right;\">197.14</td><td style = \"text-align: right;\">1086.17</td><td style = \"text-align: right;\">69.95</td></tr><tr><td class = \"rowNumber\" style = \"font-weight: bold; text-align: right;\">5000</td><td style = \"text-align: left;\">France</td><td style = \"text-align: right;\">2024.0</td><td style = \"text-align: left;\">Bakery Items</td><td style = \"text-align: right;\">8860.27</td><td style = \"text-align: right;\">7360.38</td><td style = \"text-align: right;\">51.5</td><td style = \"text-align: right;\">879.67</td><td style = \"text-align: right;\">54.27</td></tr></tbody></table></div>"
      ],
      "text/latex": [
       "\\begin{tabular}{r|cccccc}\n",
       "\t& Country & Year & Food Category & Total Waste (Tons) & Economic Loss (Million \\$) & \\\\\n",
       "\t\\hline\n",
       "\t& String15 & Float64 & String31 & Float64 & Float64 & \\\\\n",
       "\t\\hline\n",
       "\t1 & Australia & 2019.0 & Fruits \\& Vegetables & 19268.6 & 18686.7 & $\\dots$ \\\\\n",
       "\t2 & Indonesia & 2019.0 & Prepared Food & 3916.97 & 4394.48 & $\\dots$ \\\\\n",
       "\t3 & Germany & 2022.0 & Dairy Products & 9700.16 & 8909.16 & $\\dots$ \\\\\n",
       "\t4 & France & 2023.0 & Fruits \\& Vegetables & 46299.7 & 40551.2 & $\\dots$ \\\\\n",
       "\t5 & France & 2023.0 & Beverages & 33096.6 & 36980.8 & $\\dots$ \\\\\n",
       "\t6 & India & 2024.0 & Fruits \\& Vegetables & 11962.9 & 11196.0 & $\\dots$ \\\\\n",
       "\t7 & Germany & 2024.0 & Prepared Food & 45038.7 & 39191.2 & $\\dots$ \\\\\n",
       "\t8 & China & 2019.0 & Fruits \\& Vegetables & 12791.2 & 12233.3 & $\\dots$ \\\\\n",
       "\t9 & UK & 2019.0 & Meat \\& Seafood & 14795.6 & 14347.0 & $\\dots$ \\\\\n",
       "\t10 & India & 2019.0 & Grains \\& Cereals & 12118.3 & 13631.2 & $\\dots$ \\\\\n",
       "\t11 & South Africa & 2024.0 & Frozen Food & 39478.7 & 40087.3 & $\\dots$ \\\\\n",
       "\t12 & Japan & 2022.0 & Frozen Food & 41025.9 & 35437.9 & $\\dots$ \\\\\n",
       "\t13 & USA & 2024.0 & Beverages & 22924.8 & 22406.2 & $\\dots$ \\\\\n",
       "\t14 & France & 2018.0 & Beverages & 29295.1 & 34102.2 & $\\dots$ \\\\\n",
       "\t15 & USA & 2022.0 & Bakery Items & 32458.0 & 27905.8 & $\\dots$ \\\\\n",
       "\t16 & USA & 2021.0 & Meat \\& Seafood & 43264.3 & 44777.9 & $\\dots$ \\\\\n",
       "\t17 & Brazil & 2021.0 & Frozen Food & 23131.1 & 21882.7 & $\\dots$ \\\\\n",
       "\t18 & Saudi Arabia & 2020.0 & Prepared Food & 18483.8 & 21071.7 & $\\dots$ \\\\\n",
       "\t19 & UK & 2022.0 & Meat \\& Seafood & 25829.6 & 20806.3 & $\\dots$ \\\\\n",
       "\t20 & China & 2018.0 & Prepared Food & 11314.1 & 10287.7 & $\\dots$ \\\\\n",
       "\t21 & Saudi Arabia & 2019.0 & Fruits \\& Vegetables & 10653.4 & 8992.33 & $\\dots$ \\\\\n",
       "\t22 & Australia & 2020.0 & Fruits \\& Vegetables & 1322.82 & 1394.01 & $\\dots$ \\\\\n",
       "\t23 & India & 2023.0 & Meat \\& Seafood & 33403.3 & 39125.4 & $\\dots$ \\\\\n",
       "\t24 & Italy & 2023.0 & Fruits \\& Vegetables & 30875.3 & 31341.6 & $\\dots$ \\\\\n",
       "\t25 & Saudi Arabia & 2024.0 & Prepared Food & 33085.8 & 28923.1 & $\\dots$ \\\\\n",
       "\t26 & Germany & 2018.0 & Beverages & 12336.2 & 10077.9 & $\\dots$ \\\\\n",
       "\t27 & Brazil & 2021.0 & Bakery Items & 5949.18 & 6656.14 & $\\dots$ \\\\\n",
       "\t28 & France & 2018.0 & Frozen Food & 17470.5 & 16267.2 & $\\dots$ \\\\\n",
       "\t29 & Spain & 2021.0 & Fruits \\& Vegetables & 41676.2 & 43058.3 & $\\dots$ \\\\\n",
       "\t30 & Mexico & 2018.0 & Meat \\& Seafood & 20604.3 & 23257.5 & $\\dots$ \\\\\n",
       "\t$\\dots$ & $\\dots$ & $\\dots$ & $\\dots$ & $\\dots$ & $\\dots$ &  \\\\\n",
       "\\end{tabular}\n"
      ],
      "text/plain": [
       "\u001b[1m5000×8 DataFrame\u001b[0m\n",
       "\u001b[1m  Row \u001b[0m│\u001b[1m Country      \u001b[0m\u001b[1m Year    \u001b[0m\u001b[1m Food Category       \u001b[0m\u001b[1m Total Waste (Tons) \u001b[0m\u001b[1m Econom\u001b[0m ⋯\n",
       "      │\u001b[90m String15     \u001b[0m\u001b[90m Float64 \u001b[0m\u001b[90m String31            \u001b[0m\u001b[90m Float64            \u001b[0m\u001b[90m Float6\u001b[0m ⋯\n",
       "──────┼─────────────────────────────────────────────────────────────────────────\n",
       "    1 │ Australia      2019.0  Fruits & Vegetables            19268.6          ⋯\n",
       "    2 │ Indonesia      2019.0  Prepared Food                   3916.97\n",
       "    3 │ Germany        2022.0  Dairy Products                  9700.16\n",
       "    4 │ France         2023.0  Fruits & Vegetables            46299.7\n",
       "    5 │ France         2023.0  Beverages                      33096.6          ⋯\n",
       "    6 │ India          2024.0  Fruits & Vegetables            11962.9\n",
       "    7 │ Germany        2024.0  Prepared Food                  45038.7\n",
       "    8 │ China          2019.0  Fruits & Vegetables            12791.2\n",
       "    9 │ UK             2019.0  Meat & Seafood                 14795.6          ⋯\n",
       "   10 │ India          2019.0  Grains & Cereals               12118.3\n",
       "   11 │ South Africa   2024.0  Frozen Food                    39478.7\n",
       "  ⋮   │      ⋮           ⋮              ⋮                   ⋮                  ⋱\n",
       " 4991 │ UK             2021.0  Frozen Food                    21794.8\n",
       " 4992 │ France         2019.0  Meat & Seafood                 26583.1          ⋯\n",
       " 4993 │ China          2018.0  Grains & Cereals               48984.2\n",
       " 4994 │ France         2021.0  Grains & Cereals               42126.6\n",
       " 4995 │ Indonesia      2023.0  Prepared Food                  39980.4\n",
       " 4996 │ France         2021.0  Beverages                      47524.7          ⋯\n",
       " 4997 │ Australia      2021.0  Beverages                      32337.7\n",
       " 4998 │ China          2018.0  Meat & Seafood                 20641.0\n",
       " 4999 │ Australia      2021.0  Beverages                      26566.6\n",
       " 5000 │ France         2024.0  Bakery Items                    8860.27         ⋯\n",
       "\u001b[36m                                                 4 columns and 4979 rows omitted\u001b[0m"
      ]
     },
     "execution_count": 58,
     "metadata": {},
     "output_type": "execute_result"
    }
   ],
   "source": [
    "X = coerce(X, autotype(X, :discrete_to_continuous))"
   ]
  },
  {
   "cell_type": "code",
   "execution_count": 59,
   "id": "3ad0b57a",
   "metadata": {},
   "outputs": [
    {
     "data": {
      "text/plain": [
       "(\u001b[1m0×0 DataFrame\u001b[0m, \u001b[1m5000×8 DataFrame\u001b[0m\n",
       "\u001b[1m  Row \u001b[0m│\u001b[1m Country      \u001b[0m\u001b[1m Year    \u001b[0m\u001b[1m Food Category       \u001b[0m\u001b[1m Total Waste (Tons) \u001b[0m\u001b[1m Econom\u001b[0m ⋯\n",
       "      │\u001b[90m String15     \u001b[0m\u001b[90m Float64 \u001b[0m\u001b[90m String31            \u001b[0m\u001b[90m Float64            \u001b[0m\u001b[90m Float6\u001b[0m ⋯\n",
       "──────┼─────────────────────────────────────────────────────────────────────────\n",
       "    1 │ Australia      2019.0  Fruits & Vegetables            19268.6          ⋯\n",
       "    2 │ Indonesia      2019.0  Prepared Food                   3916.97\n",
       "    3 │ Germany        2022.0  Dairy Products                  9700.16\n",
       "    4 │ France         2023.0  Fruits & Vegetables            46299.7\n",
       "    5 │ France         2023.0  Beverages                      33096.6          ⋯\n",
       "    6 │ India          2024.0  Fruits & Vegetables            11962.9\n",
       "    7 │ Germany        2024.0  Prepared Food                  45038.7\n",
       "    8 │ China          2019.0  Fruits & Vegetables            12791.2\n",
       "    9 │ UK             2019.0  Meat & Seafood                 14795.6          ⋯\n",
       "   10 │ India          2019.0  Grains & Cereals               12118.3\n",
       "   11 │ South Africa   2024.0  Frozen Food                    39478.7\n",
       "  ⋮   │      ⋮           ⋮              ⋮                   ⋮                  ⋱\n",
       " 4991 │ UK             2021.0  Frozen Food                    21794.8\n",
       " 4992 │ France         2019.0  Meat & Seafood                 26583.1          ⋯\n",
       " 4993 │ China          2018.0  Grains & Cereals               48984.2\n",
       " 4994 │ France         2021.0  Grains & Cereals               42126.6\n",
       " 4995 │ Indonesia      2023.0  Prepared Food                  39980.4\n",
       " 4996 │ France         2021.0  Beverages                      47524.7          ⋯\n",
       " 4997 │ Australia      2021.0  Beverages                      32337.7\n",
       " 4998 │ China          2018.0  Meat & Seafood                 20641.0\n",
       " 4999 │ Australia      2021.0  Beverages                      26566.6\n",
       " 5000 │ France         2024.0  Bakery Items                    8860.27         ⋯\n",
       "\u001b[36m                                                 4 columns and 4979 rows omitted\u001b[0m, \u001b[1m0×0 DataFrame\u001b[0m)"
      ]
     },
     "execution_count": 59,
     "metadata": {},
     "output_type": "execute_result"
    }
   ],
   "source": [
    "y, X = MLJ.unpack(global_food_df1, ==(:Economic_Loss), colname -> colname != :Economic_Loss)"
   ]
  },
  {
   "cell_type": "code",
   "execution_count": 60,
   "id": "198e5307",
   "metadata": {},
   "outputs": [
    {
     "data": {
      "text/html": [
       "<div><div style = \"float: left;\"><span>0×0 DataFrame</span></div><div style = \"clear: both;\"></div></div><div class = \"data-frame\" style = \"overflow-x: scroll;\"><table class = \"data-frame\" style = \"margin-bottom: 6px;\"></table></div>"
      ],
      "text/latex": [
       "\\begin{tabular}{r|}\n",
       "\t& \\\\\n",
       "\t\\hline\n",
       "\t& \\\\\n",
       "\t\\hline\n",
       "\\end{tabular}\n"
      ],
      "text/plain": [
       "\u001b[1m0×0 DataFrame\u001b[0m"
      ]
     },
     "execution_count": 60,
     "metadata": {},
     "output_type": "execute_result"
    }
   ],
   "source": [
    "y"
   ]
  },
  {
   "cell_type": "code",
   "execution_count": 61,
   "id": "3033cc96",
   "metadata": {},
   "outputs": [
    {
     "data": {
      "text/plain": [
       "NamedTuple{(:name, :package_name, :is_supervised, :abstract_type, :constructor, :deep_properties, :docstring, :fit_data_scitype, :human_name, :hyperparameter_ranges, :hyperparameter_types, :hyperparameters, :implemented_methods, :inverse_transform_scitype, :is_pure_julia, :is_wrapper, :iteration_parameter, :load_path, :package_license, :package_url, :package_uuid, :predict_scitype, :prediction_type, :reporting_operations, :reports_feature_importances, :supports_class_weights, :supports_online, :supports_training_losses, :supports_weights, :target_in_fit, :transform_scitype, :input_scitype, :target_scitype, :output_scitype)}[]"
      ]
     },
     "execution_count": 61,
     "metadata": {},
     "output_type": "execute_result"
    }
   ],
   "source": [
    "models(matching(X, y))"
   ]
  },
  {
   "cell_type": "code",
   "execution_count": 62,
   "id": "e704966e",
   "metadata": {},
   "outputs": [
    {
     "data": {
      "text/html": [
       "<div><div style = \"float: left;\"><span>5000×8 DataFrame</span></div><div style = \"float: right;\"><span style = \"font-style: italic;\">4975 rows omitted</span></div><div style = \"clear: both;\"></div></div><div class = \"data-frame\" style = \"overflow-x: scroll;\"><table class = \"data-frame\" style = \"margin-bottom: 6px;\"><thead><tr class = \"header\"><th class = \"rowNumber\" style = \"font-weight: bold; text-align: right;\">Row</th><th style = \"text-align: left;\">Country</th><th style = \"text-align: left;\">Year</th><th style = \"text-align: left;\">Food Category</th><th style = \"text-align: left;\">Total Waste (Tons)</th><th style = \"text-align: left;\">Economic Loss (Million $)</th><th style = \"text-align: left;\">Avg Waste per Capita (Kg)</th><th style = \"text-align: left;\">Population (Million)</th><th style = \"text-align: left;\">Household Waste (%)</th></tr><tr class = \"subheader headerLastRow\"><th class = \"rowNumber\" style = \"font-weight: bold; text-align: right;\"></th><th title = \"String15\" style = \"text-align: left;\">String15</th><th title = \"Float64\" style = \"text-align: left;\">Float64</th><th title = \"String31\" style = \"text-align: left;\">String31</th><th title = \"Float64\" style = \"text-align: left;\">Float64</th><th title = \"Float64\" style = \"text-align: left;\">Float64</th><th title = \"Float64\" style = \"text-align: left;\">Float64</th><th title = \"Float64\" style = \"text-align: left;\">Float64</th><th title = \"Float64\" style = \"text-align: left;\">Float64</th></tr></thead><tbody><tr><td class = \"rowNumber\" style = \"font-weight: bold; text-align: right;\">1</td><td style = \"text-align: left;\">Australia</td><td style = \"text-align: right;\">2019.0</td><td style = \"text-align: left;\">Fruits &amp; Vegetables</td><td style = \"text-align: right;\">19268.6</td><td style = \"text-align: right;\">18686.7</td><td style = \"text-align: right;\">72.69</td><td style = \"text-align: right;\">87.59</td><td style = \"text-align: right;\">53.64</td></tr><tr><td class = \"rowNumber\" style = \"font-weight: bold; text-align: right;\">2</td><td style = \"text-align: left;\">Indonesia</td><td style = \"text-align: right;\">2019.0</td><td style = \"text-align: left;\">Prepared Food</td><td style = \"text-align: right;\">3916.97</td><td style = \"text-align: right;\">4394.48</td><td style = \"text-align: right;\">192.52</td><td style = \"text-align: right;\">1153.99</td><td style = \"text-align: right;\">30.61</td></tr><tr><td class = \"rowNumber\" style = \"font-weight: bold; text-align: right;\">3</td><td style = \"text-align: left;\">Germany</td><td style = \"text-align: right;\">2022.0</td><td style = \"text-align: left;\">Dairy Products</td><td style = \"text-align: right;\">9700.16</td><td style = \"text-align: right;\">8909.16</td><td style = \"text-align: right;\">166.94</td><td style = \"text-align: right;\">1006.11</td><td style = \"text-align: right;\">48.08</td></tr><tr><td class = \"rowNumber\" style = \"font-weight: bold; text-align: right;\">4</td><td style = \"text-align: left;\">France</td><td style = \"text-align: right;\">2023.0</td><td style = \"text-align: left;\">Fruits &amp; Vegetables</td><td style = \"text-align: right;\">46299.7</td><td style = \"text-align: right;\">40551.2</td><td style = \"text-align: right;\">120.19</td><td style = \"text-align: right;\">953.05</td><td style = \"text-align: right;\">31.91</td></tr><tr><td class = \"rowNumber\" style = \"font-weight: bold; text-align: right;\">5</td><td style = \"text-align: left;\">France</td><td style = \"text-align: right;\">2023.0</td><td style = \"text-align: left;\">Beverages</td><td style = \"text-align: right;\">33096.6</td><td style = \"text-align: right;\">36980.8</td><td style = \"text-align: right;\">104.74</td><td style = \"text-align: right;\">1105.47</td><td style = \"text-align: right;\">36.06</td></tr><tr><td class = \"rowNumber\" style = \"font-weight: bold; text-align: right;\">6</td><td style = \"text-align: left;\">India</td><td style = \"text-align: right;\">2024.0</td><td style = \"text-align: left;\">Fruits &amp; Vegetables</td><td style = \"text-align: right;\">11962.9</td><td style = \"text-align: right;\">11196.0</td><td style = \"text-align: right;\">136.21</td><td style = \"text-align: right;\">1311.91</td><td style = \"text-align: right;\">37.09</td></tr><tr><td class = \"rowNumber\" style = \"font-weight: bold; text-align: right;\">7</td><td style = \"text-align: left;\">Germany</td><td style = \"text-align: right;\">2024.0</td><td style = \"text-align: left;\">Prepared Food</td><td style = \"text-align: right;\">45038.7</td><td style = \"text-align: right;\">39191.2</td><td style = \"text-align: right;\">179.27</td><td style = \"text-align: right;\">1349.45</td><td style = \"text-align: right;\">68.93</td></tr><tr><td class = \"rowNumber\" style = \"font-weight: bold; text-align: right;\">8</td><td style = \"text-align: left;\">China</td><td style = \"text-align: right;\">2019.0</td><td style = \"text-align: left;\">Fruits &amp; Vegetables</td><td style = \"text-align: right;\">12791.2</td><td style = \"text-align: right;\">12233.3</td><td style = \"text-align: right;\">90.8</td><td style = \"text-align: right;\">1229.29</td><td style = \"text-align: right;\">59.9</td></tr><tr><td class = \"rowNumber\" style = \"font-weight: bold; text-align: right;\">9</td><td style = \"text-align: left;\">UK</td><td style = \"text-align: right;\">2019.0</td><td style = \"text-align: left;\">Meat &amp; Seafood</td><td style = \"text-align: right;\">14795.6</td><td style = \"text-align: right;\">14347.0</td><td style = \"text-align: right;\">128.91</td><td style = \"text-align: right;\">450.33</td><td style = \"text-align: right;\">59.01</td></tr><tr><td class = \"rowNumber\" style = \"font-weight: bold; text-align: right;\">10</td><td style = \"text-align: left;\">India</td><td style = \"text-align: right;\">2019.0</td><td style = \"text-align: left;\">Grains &amp; Cereals</td><td style = \"text-align: right;\">12118.3</td><td style = \"text-align: right;\">13631.2</td><td style = \"text-align: right;\">141.75</td><td style = \"text-align: right;\">359.26</td><td style = \"text-align: right;\">42.42</td></tr><tr><td class = \"rowNumber\" style = \"font-weight: bold; text-align: right;\">11</td><td style = \"text-align: left;\">South Africa</td><td style = \"text-align: right;\">2024.0</td><td style = \"text-align: left;\">Frozen Food</td><td style = \"text-align: right;\">39478.7</td><td style = \"text-align: right;\">40087.3</td><td style = \"text-align: right;\">155.55</td><td style = \"text-align: right;\">375.84</td><td style = \"text-align: right;\">31.16</td></tr><tr><td class = \"rowNumber\" style = \"font-weight: bold; text-align: right;\">12</td><td style = \"text-align: left;\">Japan</td><td style = \"text-align: right;\">2022.0</td><td style = \"text-align: left;\">Frozen Food</td><td style = \"text-align: right;\">41025.9</td><td style = \"text-align: right;\">35437.9</td><td style = \"text-align: right;\">49.95</td><td style = \"text-align: right;\">1219.43</td><td style = \"text-align: right;\">33.79</td></tr><tr><td class = \"rowNumber\" style = \"font-weight: bold; text-align: right;\">13</td><td style = \"text-align: left;\">USA</td><td style = \"text-align: right;\">2024.0</td><td style = \"text-align: left;\">Beverages</td><td style = \"text-align: right;\">22924.8</td><td style = \"text-align: right;\">22406.2</td><td style = \"text-align: right;\">89.59</td><td style = \"text-align: right;\">836.05</td><td style = \"text-align: right;\">45.43</td></tr><tr><td style = \"text-align: right;\">&vellip;</td><td style = \"text-align: right;\">&vellip;</td><td style = \"text-align: right;\">&vellip;</td><td style = \"text-align: right;\">&vellip;</td><td style = \"text-align: right;\">&vellip;</td><td style = \"text-align: right;\">&vellip;</td><td style = \"text-align: right;\">&vellip;</td><td style = \"text-align: right;\">&vellip;</td><td style = \"text-align: right;\">&vellip;</td></tr><tr><td class = \"rowNumber\" style = \"font-weight: bold; text-align: right;\">4989</td><td style = \"text-align: left;\">Saudi Arabia</td><td style = \"text-align: right;\">2019.0</td><td style = \"text-align: left;\">Fruits &amp; Vegetables</td><td style = \"text-align: right;\">44319.6</td><td style = \"text-align: right;\">37349.5</td><td style = \"text-align: right;\">113.72</td><td style = \"text-align: right;\">1378.23</td><td style = \"text-align: right;\">61.61</td></tr><tr><td class = \"rowNumber\" style = \"font-weight: bold; text-align: right;\">4990</td><td style = \"text-align: left;\">South Africa</td><td style = \"text-align: right;\">2022.0</td><td style = \"text-align: left;\">Meat &amp; Seafood</td><td style = \"text-align: right;\">3925.48</td><td style = \"text-align: right;\">4499.38</td><td style = \"text-align: right;\">47.21</td><td style = \"text-align: right;\">79.18</td><td style = \"text-align: right;\">38.1</td></tr><tr><td class = \"rowNumber\" style = \"font-weight: bold; text-align: right;\">4991</td><td style = \"text-align: left;\">UK</td><td style = \"text-align: right;\">2021.0</td><td style = \"text-align: left;\">Frozen Food</td><td style = \"text-align: right;\">21794.8</td><td style = \"text-align: right;\">22964.5</td><td style = \"text-align: right;\">90.37</td><td style = \"text-align: right;\">726.54</td><td style = \"text-align: right;\">60.1</td></tr><tr><td class = \"rowNumber\" style = \"font-weight: bold; text-align: right;\">4992</td><td style = \"text-align: left;\">France</td><td style = \"text-align: right;\">2019.0</td><td style = \"text-align: left;\">Meat &amp; Seafood</td><td style = \"text-align: right;\">26583.1</td><td style = \"text-align: right;\">23562.8</td><td style = \"text-align: right;\">125.57</td><td style = \"text-align: right;\">571.09</td><td style = \"text-align: right;\">31.78</td></tr><tr><td class = \"rowNumber\" style = \"font-weight: bold; text-align: right;\">4993</td><td style = \"text-align: left;\">China</td><td style = \"text-align: right;\">2018.0</td><td style = \"text-align: left;\">Grains &amp; Cereals</td><td style = \"text-align: right;\">48984.2</td><td style = \"text-align: right;\">49978.4</td><td style = \"text-align: right;\">28.07</td><td style = \"text-align: right;\">1380.08</td><td style = \"text-align: right;\">60.39</td></tr><tr><td class = \"rowNumber\" style = \"font-weight: bold; text-align: right;\">4994</td><td style = \"text-align: left;\">France</td><td style = \"text-align: right;\">2021.0</td><td style = \"text-align: left;\">Grains &amp; Cereals</td><td style = \"text-align: right;\">42126.6</td><td style = \"text-align: right;\">36406.8</td><td style = \"text-align: right;\">144.3</td><td style = \"text-align: right;\">1138.46</td><td style = \"text-align: right;\">41.26</td></tr><tr><td class = \"rowNumber\" style = \"font-weight: bold; text-align: right;\">4995</td><td style = \"text-align: left;\">Indonesia</td><td style = \"text-align: right;\">2023.0</td><td style = \"text-align: left;\">Prepared Food</td><td style = \"text-align: right;\">39980.4</td><td style = \"text-align: right;\">37618.4</td><td style = \"text-align: right;\">32.34</td><td style = \"text-align: right;\">27.08</td><td style = \"text-align: right;\">56.38</td></tr><tr><td class = \"rowNumber\" style = \"font-weight: bold; text-align: right;\">4996</td><td style = \"text-align: left;\">France</td><td style = \"text-align: right;\">2021.0</td><td style = \"text-align: left;\">Beverages</td><td style = \"text-align: right;\">47524.7</td><td style = \"text-align: right;\">48058.4</td><td style = \"text-align: right;\">77.41</td><td style = \"text-align: right;\">1087.46</td><td style = \"text-align: right;\">39.73</td></tr><tr><td class = \"rowNumber\" style = \"font-weight: bold; text-align: right;\">4997</td><td style = \"text-align: left;\">Australia</td><td style = \"text-align: right;\">2021.0</td><td style = \"text-align: left;\">Beverages</td><td style = \"text-align: right;\">32337.7</td><td style = \"text-align: right;\">32705.1</td><td style = \"text-align: right;\">194.35</td><td style = \"text-align: right;\">1336.32</td><td style = \"text-align: right;\">64.83</td></tr><tr><td class = \"rowNumber\" style = \"font-weight: bold; text-align: right;\">4998</td><td style = \"text-align: left;\">China</td><td style = \"text-align: right;\">2018.0</td><td style = \"text-align: left;\">Meat &amp; Seafood</td><td style = \"text-align: right;\">20641.0</td><td style = \"text-align: right;\">22485.3</td><td style = \"text-align: right;\">21.04</td><td style = \"text-align: right;\">16.13</td><td style = \"text-align: right;\">31.23</td></tr><tr><td class = \"rowNumber\" style = \"font-weight: bold; text-align: right;\">4999</td><td style = \"text-align: left;\">Australia</td><td style = \"text-align: right;\">2021.0</td><td style = \"text-align: left;\">Beverages</td><td style = \"text-align: right;\">26566.6</td><td style = \"text-align: right;\">29357.6</td><td style = \"text-align: right;\">197.14</td><td style = \"text-align: right;\">1086.17</td><td style = \"text-align: right;\">69.95</td></tr><tr><td class = \"rowNumber\" style = \"font-weight: bold; text-align: right;\">5000</td><td style = \"text-align: left;\">France</td><td style = \"text-align: right;\">2024.0</td><td style = \"text-align: left;\">Bakery Items</td><td style = \"text-align: right;\">8860.27</td><td style = \"text-align: right;\">7360.38</td><td style = \"text-align: right;\">51.5</td><td style = \"text-align: right;\">879.67</td><td style = \"text-align: right;\">54.27</td></tr></tbody></table></div>"
      ],
      "text/latex": [
       "\\begin{tabular}{r|cccccc}\n",
       "\t& Country & Year & Food Category & Total Waste (Tons) & Economic Loss (Million \\$) & \\\\\n",
       "\t\\hline\n",
       "\t& String15 & Float64 & String31 & Float64 & Float64 & \\\\\n",
       "\t\\hline\n",
       "\t1 & Australia & 2019.0 & Fruits \\& Vegetables & 19268.6 & 18686.7 & $\\dots$ \\\\\n",
       "\t2 & Indonesia & 2019.0 & Prepared Food & 3916.97 & 4394.48 & $\\dots$ \\\\\n",
       "\t3 & Germany & 2022.0 & Dairy Products & 9700.16 & 8909.16 & $\\dots$ \\\\\n",
       "\t4 & France & 2023.0 & Fruits \\& Vegetables & 46299.7 & 40551.2 & $\\dots$ \\\\\n",
       "\t5 & France & 2023.0 & Beverages & 33096.6 & 36980.8 & $\\dots$ \\\\\n",
       "\t6 & India & 2024.0 & Fruits \\& Vegetables & 11962.9 & 11196.0 & $\\dots$ \\\\\n",
       "\t7 & Germany & 2024.0 & Prepared Food & 45038.7 & 39191.2 & $\\dots$ \\\\\n",
       "\t8 & China & 2019.0 & Fruits \\& Vegetables & 12791.2 & 12233.3 & $\\dots$ \\\\\n",
       "\t9 & UK & 2019.0 & Meat \\& Seafood & 14795.6 & 14347.0 & $\\dots$ \\\\\n",
       "\t10 & India & 2019.0 & Grains \\& Cereals & 12118.3 & 13631.2 & $\\dots$ \\\\\n",
       "\t11 & South Africa & 2024.0 & Frozen Food & 39478.7 & 40087.3 & $\\dots$ \\\\\n",
       "\t12 & Japan & 2022.0 & Frozen Food & 41025.9 & 35437.9 & $\\dots$ \\\\\n",
       "\t13 & USA & 2024.0 & Beverages & 22924.8 & 22406.2 & $\\dots$ \\\\\n",
       "\t14 & France & 2018.0 & Beverages & 29295.1 & 34102.2 & $\\dots$ \\\\\n",
       "\t15 & USA & 2022.0 & Bakery Items & 32458.0 & 27905.8 & $\\dots$ \\\\\n",
       "\t16 & USA & 2021.0 & Meat \\& Seafood & 43264.3 & 44777.9 & $\\dots$ \\\\\n",
       "\t17 & Brazil & 2021.0 & Frozen Food & 23131.1 & 21882.7 & $\\dots$ \\\\\n",
       "\t18 & Saudi Arabia & 2020.0 & Prepared Food & 18483.8 & 21071.7 & $\\dots$ \\\\\n",
       "\t19 & UK & 2022.0 & Meat \\& Seafood & 25829.6 & 20806.3 & $\\dots$ \\\\\n",
       "\t20 & China & 2018.0 & Prepared Food & 11314.1 & 10287.7 & $\\dots$ \\\\\n",
       "\t21 & Saudi Arabia & 2019.0 & Fruits \\& Vegetables & 10653.4 & 8992.33 & $\\dots$ \\\\\n",
       "\t22 & Australia & 2020.0 & Fruits \\& Vegetables & 1322.82 & 1394.01 & $\\dots$ \\\\\n",
       "\t23 & India & 2023.0 & Meat \\& Seafood & 33403.3 & 39125.4 & $\\dots$ \\\\\n",
       "\t24 & Italy & 2023.0 & Fruits \\& Vegetables & 30875.3 & 31341.6 & $\\dots$ \\\\\n",
       "\t25 & Saudi Arabia & 2024.0 & Prepared Food & 33085.8 & 28923.1 & $\\dots$ \\\\\n",
       "\t26 & Germany & 2018.0 & Beverages & 12336.2 & 10077.9 & $\\dots$ \\\\\n",
       "\t27 & Brazil & 2021.0 & Bakery Items & 5949.18 & 6656.14 & $\\dots$ \\\\\n",
       "\t28 & France & 2018.0 & Frozen Food & 17470.5 & 16267.2 & $\\dots$ \\\\\n",
       "\t29 & Spain & 2021.0 & Fruits \\& Vegetables & 41676.2 & 43058.3 & $\\dots$ \\\\\n",
       "\t30 & Mexico & 2018.0 & Meat \\& Seafood & 20604.3 & 23257.5 & $\\dots$ \\\\\n",
       "\t$\\dots$ & $\\dots$ & $\\dots$ & $\\dots$ & $\\dots$ & $\\dots$ &  \\\\\n",
       "\\end{tabular}\n"
      ],
      "text/plain": [
       "\u001b[1m5000×8 DataFrame\u001b[0m\n",
       "\u001b[1m  Row \u001b[0m│\u001b[1m Country      \u001b[0m\u001b[1m Year    \u001b[0m\u001b[1m Food Category       \u001b[0m\u001b[1m Total Waste (Tons) \u001b[0m\u001b[1m Econom\u001b[0m ⋯\n",
       "      │\u001b[90m String15     \u001b[0m\u001b[90m Float64 \u001b[0m\u001b[90m String31            \u001b[0m\u001b[90m Float64            \u001b[0m\u001b[90m Float6\u001b[0m ⋯\n",
       "──────┼─────────────────────────────────────────────────────────────────────────\n",
       "    1 │ Australia      2019.0  Fruits & Vegetables            19268.6          ⋯\n",
       "    2 │ Indonesia      2019.0  Prepared Food                   3916.97\n",
       "    3 │ Germany        2022.0  Dairy Products                  9700.16\n",
       "    4 │ France         2023.0  Fruits & Vegetables            46299.7\n",
       "    5 │ France         2023.0  Beverages                      33096.6          ⋯\n",
       "    6 │ India          2024.0  Fruits & Vegetables            11962.9\n",
       "    7 │ Germany        2024.0  Prepared Food                  45038.7\n",
       "    8 │ China          2019.0  Fruits & Vegetables            12791.2\n",
       "    9 │ UK             2019.0  Meat & Seafood                 14795.6          ⋯\n",
       "   10 │ India          2019.0  Grains & Cereals               12118.3\n",
       "   11 │ South Africa   2024.0  Frozen Food                    39478.7\n",
       "  ⋮   │      ⋮           ⋮              ⋮                   ⋮                  ⋱\n",
       " 4991 │ UK             2021.0  Frozen Food                    21794.8\n",
       " 4992 │ France         2019.0  Meat & Seafood                 26583.1          ⋯\n",
       " 4993 │ China          2018.0  Grains & Cereals               48984.2\n",
       " 4994 │ France         2021.0  Grains & Cereals               42126.6\n",
       " 4995 │ Indonesia      2023.0  Prepared Food                  39980.4\n",
       " 4996 │ France         2021.0  Beverages                      47524.7          ⋯\n",
       " 4997 │ Australia      2021.0  Beverages                      32337.7\n",
       " 4998 │ China          2018.0  Meat & Seafood                 20641.0\n",
       " 4999 │ Australia      2021.0  Beverages                      26566.6\n",
       " 5000 │ France         2024.0  Bakery Items                    8860.27         ⋯\n",
       "\u001b[36m                                                 4 columns and 4979 rows omitted\u001b[0m"
      ]
     },
     "execution_count": 62,
     "metadata": {},
     "output_type": "execute_result"
    }
   ],
   "source": [
    "X"
   ]
  },
  {
   "cell_type": "code",
   "execution_count": 63,
   "id": "a42039fd",
   "metadata": {},
   "outputs": [
    {
     "data": {
      "text/html": [
       "<div><div style = \"float: left;\"><span>5000×8 DataFrame</span></div><div style = \"float: right;\"><span style = \"font-style: italic;\">4975 rows omitted</span></div><div style = \"clear: both;\"></div></div><div class = \"data-frame\" style = \"overflow-x: scroll;\"><table class = \"data-frame\" style = \"margin-bottom: 6px;\"><thead><tr class = \"header\"><th class = \"rowNumber\" style = \"font-weight: bold; text-align: right;\">Row</th><th style = \"text-align: left;\">Country</th><th style = \"text-align: left;\">Year</th><th style = \"text-align: left;\">Food Category</th><th style = \"text-align: left;\">Total Waste (Tons)</th><th style = \"text-align: left;\">Economic Loss (Million $)</th><th style = \"text-align: left;\">Avg Waste per Capita (Kg)</th><th style = \"text-align: left;\">Population (Million)</th><th style = \"text-align: left;\">Household Waste (%)</th></tr><tr class = \"subheader headerLastRow\"><th class = \"rowNumber\" style = \"font-weight: bold; text-align: right;\"></th><th title = \"String15\" style = \"text-align: left;\">String15</th><th title = \"Float64\" style = \"text-align: left;\">Float64</th><th title = \"String31\" style = \"text-align: left;\">String31</th><th title = \"Float64\" style = \"text-align: left;\">Float64</th><th title = \"Float64\" style = \"text-align: left;\">Float64</th><th title = \"Float64\" style = \"text-align: left;\">Float64</th><th title = \"Float64\" style = \"text-align: left;\">Float64</th><th title = \"Float64\" style = \"text-align: left;\">Float64</th></tr></thead><tbody><tr><td class = \"rowNumber\" style = \"font-weight: bold; text-align: right;\">1</td><td style = \"text-align: left;\">Australia</td><td style = \"text-align: right;\">2019.0</td><td style = \"text-align: left;\">Fruits &amp; Vegetables</td><td style = \"text-align: right;\">19268.6</td><td style = \"text-align: right;\">18686.7</td><td style = \"text-align: right;\">72.69</td><td style = \"text-align: right;\">87.59</td><td style = \"text-align: right;\">53.64</td></tr><tr><td class = \"rowNumber\" style = \"font-weight: bold; text-align: right;\">2</td><td style = \"text-align: left;\">Indonesia</td><td style = \"text-align: right;\">2019.0</td><td style = \"text-align: left;\">Prepared Food</td><td style = \"text-align: right;\">3916.97</td><td style = \"text-align: right;\">4394.48</td><td style = \"text-align: right;\">192.52</td><td style = \"text-align: right;\">1153.99</td><td style = \"text-align: right;\">30.61</td></tr><tr><td class = \"rowNumber\" style = \"font-weight: bold; text-align: right;\">3</td><td style = \"text-align: left;\">Germany</td><td style = \"text-align: right;\">2022.0</td><td style = \"text-align: left;\">Dairy Products</td><td style = \"text-align: right;\">9700.16</td><td style = \"text-align: right;\">8909.16</td><td style = \"text-align: right;\">166.94</td><td style = \"text-align: right;\">1006.11</td><td style = \"text-align: right;\">48.08</td></tr><tr><td class = \"rowNumber\" style = \"font-weight: bold; text-align: right;\">4</td><td style = \"text-align: left;\">France</td><td style = \"text-align: right;\">2023.0</td><td style = \"text-align: left;\">Fruits &amp; Vegetables</td><td style = \"text-align: right;\">46299.7</td><td style = \"text-align: right;\">40551.2</td><td style = \"text-align: right;\">120.19</td><td style = \"text-align: right;\">953.05</td><td style = \"text-align: right;\">31.91</td></tr><tr><td class = \"rowNumber\" style = \"font-weight: bold; text-align: right;\">5</td><td style = \"text-align: left;\">France</td><td style = \"text-align: right;\">2023.0</td><td style = \"text-align: left;\">Beverages</td><td style = \"text-align: right;\">33096.6</td><td style = \"text-align: right;\">36980.8</td><td style = \"text-align: right;\">104.74</td><td style = \"text-align: right;\">1105.47</td><td style = \"text-align: right;\">36.06</td></tr><tr><td class = \"rowNumber\" style = \"font-weight: bold; text-align: right;\">6</td><td style = \"text-align: left;\">India</td><td style = \"text-align: right;\">2024.0</td><td style = \"text-align: left;\">Fruits &amp; Vegetables</td><td style = \"text-align: right;\">11962.9</td><td style = \"text-align: right;\">11196.0</td><td style = \"text-align: right;\">136.21</td><td style = \"text-align: right;\">1311.91</td><td style = \"text-align: right;\">37.09</td></tr><tr><td class = \"rowNumber\" style = \"font-weight: bold; text-align: right;\">7</td><td style = \"text-align: left;\">Germany</td><td style = \"text-align: right;\">2024.0</td><td style = \"text-align: left;\">Prepared Food</td><td style = \"text-align: right;\">45038.7</td><td style = \"text-align: right;\">39191.2</td><td style = \"text-align: right;\">179.27</td><td style = \"text-align: right;\">1349.45</td><td style = \"text-align: right;\">68.93</td></tr><tr><td class = \"rowNumber\" style = \"font-weight: bold; text-align: right;\">8</td><td style = \"text-align: left;\">China</td><td style = \"text-align: right;\">2019.0</td><td style = \"text-align: left;\">Fruits &amp; Vegetables</td><td style = \"text-align: right;\">12791.2</td><td style = \"text-align: right;\">12233.3</td><td style = \"text-align: right;\">90.8</td><td style = \"text-align: right;\">1229.29</td><td style = \"text-align: right;\">59.9</td></tr><tr><td class = \"rowNumber\" style = \"font-weight: bold; text-align: right;\">9</td><td style = \"text-align: left;\">UK</td><td style = \"text-align: right;\">2019.0</td><td style = \"text-align: left;\">Meat &amp; Seafood</td><td style = \"text-align: right;\">14795.6</td><td style = \"text-align: right;\">14347.0</td><td style = \"text-align: right;\">128.91</td><td style = \"text-align: right;\">450.33</td><td style = \"text-align: right;\">59.01</td></tr><tr><td class = \"rowNumber\" style = \"font-weight: bold; text-align: right;\">10</td><td style = \"text-align: left;\">India</td><td style = \"text-align: right;\">2019.0</td><td style = \"text-align: left;\">Grains &amp; Cereals</td><td style = \"text-align: right;\">12118.3</td><td style = \"text-align: right;\">13631.2</td><td style = \"text-align: right;\">141.75</td><td style = \"text-align: right;\">359.26</td><td style = \"text-align: right;\">42.42</td></tr><tr><td class = \"rowNumber\" style = \"font-weight: bold; text-align: right;\">11</td><td style = \"text-align: left;\">South Africa</td><td style = \"text-align: right;\">2024.0</td><td style = \"text-align: left;\">Frozen Food</td><td style = \"text-align: right;\">39478.7</td><td style = \"text-align: right;\">40087.3</td><td style = \"text-align: right;\">155.55</td><td style = \"text-align: right;\">375.84</td><td style = \"text-align: right;\">31.16</td></tr><tr><td class = \"rowNumber\" style = \"font-weight: bold; text-align: right;\">12</td><td style = \"text-align: left;\">Japan</td><td style = \"text-align: right;\">2022.0</td><td style = \"text-align: left;\">Frozen Food</td><td style = \"text-align: right;\">41025.9</td><td style = \"text-align: right;\">35437.9</td><td style = \"text-align: right;\">49.95</td><td style = \"text-align: right;\">1219.43</td><td style = \"text-align: right;\">33.79</td></tr><tr><td class = \"rowNumber\" style = \"font-weight: bold; text-align: right;\">13</td><td style = \"text-align: left;\">USA</td><td style = \"text-align: right;\">2024.0</td><td style = \"text-align: left;\">Beverages</td><td style = \"text-align: right;\">22924.8</td><td style = \"text-align: right;\">22406.2</td><td style = \"text-align: right;\">89.59</td><td style = \"text-align: right;\">836.05</td><td style = \"text-align: right;\">45.43</td></tr><tr><td style = \"text-align: right;\">&vellip;</td><td style = \"text-align: right;\">&vellip;</td><td style = \"text-align: right;\">&vellip;</td><td style = \"text-align: right;\">&vellip;</td><td style = \"text-align: right;\">&vellip;</td><td style = \"text-align: right;\">&vellip;</td><td style = \"text-align: right;\">&vellip;</td><td style = \"text-align: right;\">&vellip;</td><td style = \"text-align: right;\">&vellip;</td></tr><tr><td class = \"rowNumber\" style = \"font-weight: bold; text-align: right;\">4989</td><td style = \"text-align: left;\">Saudi Arabia</td><td style = \"text-align: right;\">2019.0</td><td style = \"text-align: left;\">Fruits &amp; Vegetables</td><td style = \"text-align: right;\">44319.6</td><td style = \"text-align: right;\">37349.5</td><td style = \"text-align: right;\">113.72</td><td style = \"text-align: right;\">1378.23</td><td style = \"text-align: right;\">61.61</td></tr><tr><td class = \"rowNumber\" style = \"font-weight: bold; text-align: right;\">4990</td><td style = \"text-align: left;\">South Africa</td><td style = \"text-align: right;\">2022.0</td><td style = \"text-align: left;\">Meat &amp; Seafood</td><td style = \"text-align: right;\">3925.48</td><td style = \"text-align: right;\">4499.38</td><td style = \"text-align: right;\">47.21</td><td style = \"text-align: right;\">79.18</td><td style = \"text-align: right;\">38.1</td></tr><tr><td class = \"rowNumber\" style = \"font-weight: bold; text-align: right;\">4991</td><td style = \"text-align: left;\">UK</td><td style = \"text-align: right;\">2021.0</td><td style = \"text-align: left;\">Frozen Food</td><td style = \"text-align: right;\">21794.8</td><td style = \"text-align: right;\">22964.5</td><td style = \"text-align: right;\">90.37</td><td style = \"text-align: right;\">726.54</td><td style = \"text-align: right;\">60.1</td></tr><tr><td class = \"rowNumber\" style = \"font-weight: bold; text-align: right;\">4992</td><td style = \"text-align: left;\">France</td><td style = \"text-align: right;\">2019.0</td><td style = \"text-align: left;\">Meat &amp; Seafood</td><td style = \"text-align: right;\">26583.1</td><td style = \"text-align: right;\">23562.8</td><td style = \"text-align: right;\">125.57</td><td style = \"text-align: right;\">571.09</td><td style = \"text-align: right;\">31.78</td></tr><tr><td class = \"rowNumber\" style = \"font-weight: bold; text-align: right;\">4993</td><td style = \"text-align: left;\">China</td><td style = \"text-align: right;\">2018.0</td><td style = \"text-align: left;\">Grains &amp; Cereals</td><td style = \"text-align: right;\">48984.2</td><td style = \"text-align: right;\">49978.4</td><td style = \"text-align: right;\">28.07</td><td style = \"text-align: right;\">1380.08</td><td style = \"text-align: right;\">60.39</td></tr><tr><td class = \"rowNumber\" style = \"font-weight: bold; text-align: right;\">4994</td><td style = \"text-align: left;\">France</td><td style = \"text-align: right;\">2021.0</td><td style = \"text-align: left;\">Grains &amp; Cereals</td><td style = \"text-align: right;\">42126.6</td><td style = \"text-align: right;\">36406.8</td><td style = \"text-align: right;\">144.3</td><td style = \"text-align: right;\">1138.46</td><td style = \"text-align: right;\">41.26</td></tr><tr><td class = \"rowNumber\" style = \"font-weight: bold; text-align: right;\">4995</td><td style = \"text-align: left;\">Indonesia</td><td style = \"text-align: right;\">2023.0</td><td style = \"text-align: left;\">Prepared Food</td><td style = \"text-align: right;\">39980.4</td><td style = \"text-align: right;\">37618.4</td><td style = \"text-align: right;\">32.34</td><td style = \"text-align: right;\">27.08</td><td style = \"text-align: right;\">56.38</td></tr><tr><td class = \"rowNumber\" style = \"font-weight: bold; text-align: right;\">4996</td><td style = \"text-align: left;\">France</td><td style = \"text-align: right;\">2021.0</td><td style = \"text-align: left;\">Beverages</td><td style = \"text-align: right;\">47524.7</td><td style = \"text-align: right;\">48058.4</td><td style = \"text-align: right;\">77.41</td><td style = \"text-align: right;\">1087.46</td><td style = \"text-align: right;\">39.73</td></tr><tr><td class = \"rowNumber\" style = \"font-weight: bold; text-align: right;\">4997</td><td style = \"text-align: left;\">Australia</td><td style = \"text-align: right;\">2021.0</td><td style = \"text-align: left;\">Beverages</td><td style = \"text-align: right;\">32337.7</td><td style = \"text-align: right;\">32705.1</td><td style = \"text-align: right;\">194.35</td><td style = \"text-align: right;\">1336.32</td><td style = \"text-align: right;\">64.83</td></tr><tr><td class = \"rowNumber\" style = \"font-weight: bold; text-align: right;\">4998</td><td style = \"text-align: left;\">China</td><td style = \"text-align: right;\">2018.0</td><td style = \"text-align: left;\">Meat &amp; Seafood</td><td style = \"text-align: right;\">20641.0</td><td style = \"text-align: right;\">22485.3</td><td style = \"text-align: right;\">21.04</td><td style = \"text-align: right;\">16.13</td><td style = \"text-align: right;\">31.23</td></tr><tr><td class = \"rowNumber\" style = \"font-weight: bold; text-align: right;\">4999</td><td style = \"text-align: left;\">Australia</td><td style = \"text-align: right;\">2021.0</td><td style = \"text-align: left;\">Beverages</td><td style = \"text-align: right;\">26566.6</td><td style = \"text-align: right;\">29357.6</td><td style = \"text-align: right;\">197.14</td><td style = \"text-align: right;\">1086.17</td><td style = \"text-align: right;\">69.95</td></tr><tr><td class = \"rowNumber\" style = \"font-weight: bold; text-align: right;\">5000</td><td style = \"text-align: left;\">France</td><td style = \"text-align: right;\">2024.0</td><td style = \"text-align: left;\">Bakery Items</td><td style = \"text-align: right;\">8860.27</td><td style = \"text-align: right;\">7360.38</td><td style = \"text-align: right;\">51.5</td><td style = \"text-align: right;\">879.67</td><td style = \"text-align: right;\">54.27</td></tr></tbody></table></div>"
      ],
      "text/latex": [
       "\\begin{tabular}{r|cccccc}\n",
       "\t& Country & Year & Food Category & Total Waste (Tons) & Economic Loss (Million \\$) & \\\\\n",
       "\t\\hline\n",
       "\t& String15 & Float64 & String31 & Float64 & Float64 & \\\\\n",
       "\t\\hline\n",
       "\t1 & Australia & 2019.0 & Fruits \\& Vegetables & 19268.6 & 18686.7 & $\\dots$ \\\\\n",
       "\t2 & Indonesia & 2019.0 & Prepared Food & 3916.97 & 4394.48 & $\\dots$ \\\\\n",
       "\t3 & Germany & 2022.0 & Dairy Products & 9700.16 & 8909.16 & $\\dots$ \\\\\n",
       "\t4 & France & 2023.0 & Fruits \\& Vegetables & 46299.7 & 40551.2 & $\\dots$ \\\\\n",
       "\t5 & France & 2023.0 & Beverages & 33096.6 & 36980.8 & $\\dots$ \\\\\n",
       "\t6 & India & 2024.0 & Fruits \\& Vegetables & 11962.9 & 11196.0 & $\\dots$ \\\\\n",
       "\t7 & Germany & 2024.0 & Prepared Food & 45038.7 & 39191.2 & $\\dots$ \\\\\n",
       "\t8 & China & 2019.0 & Fruits \\& Vegetables & 12791.2 & 12233.3 & $\\dots$ \\\\\n",
       "\t9 & UK & 2019.0 & Meat \\& Seafood & 14795.6 & 14347.0 & $\\dots$ \\\\\n",
       "\t10 & India & 2019.0 & Grains \\& Cereals & 12118.3 & 13631.2 & $\\dots$ \\\\\n",
       "\t11 & South Africa & 2024.0 & Frozen Food & 39478.7 & 40087.3 & $\\dots$ \\\\\n",
       "\t12 & Japan & 2022.0 & Frozen Food & 41025.9 & 35437.9 & $\\dots$ \\\\\n",
       "\t13 & USA & 2024.0 & Beverages & 22924.8 & 22406.2 & $\\dots$ \\\\\n",
       "\t14 & France & 2018.0 & Beverages & 29295.1 & 34102.2 & $\\dots$ \\\\\n",
       "\t15 & USA & 2022.0 & Bakery Items & 32458.0 & 27905.8 & $\\dots$ \\\\\n",
       "\t16 & USA & 2021.0 & Meat \\& Seafood & 43264.3 & 44777.9 & $\\dots$ \\\\\n",
       "\t17 & Brazil & 2021.0 & Frozen Food & 23131.1 & 21882.7 & $\\dots$ \\\\\n",
       "\t18 & Saudi Arabia & 2020.0 & Prepared Food & 18483.8 & 21071.7 & $\\dots$ \\\\\n",
       "\t19 & UK & 2022.0 & Meat \\& Seafood & 25829.6 & 20806.3 & $\\dots$ \\\\\n",
       "\t20 & China & 2018.0 & Prepared Food & 11314.1 & 10287.7 & $\\dots$ \\\\\n",
       "\t21 & Saudi Arabia & 2019.0 & Fruits \\& Vegetables & 10653.4 & 8992.33 & $\\dots$ \\\\\n",
       "\t22 & Australia & 2020.0 & Fruits \\& Vegetables & 1322.82 & 1394.01 & $\\dots$ \\\\\n",
       "\t23 & India & 2023.0 & Meat \\& Seafood & 33403.3 & 39125.4 & $\\dots$ \\\\\n",
       "\t24 & Italy & 2023.0 & Fruits \\& Vegetables & 30875.3 & 31341.6 & $\\dots$ \\\\\n",
       "\t25 & Saudi Arabia & 2024.0 & Prepared Food & 33085.8 & 28923.1 & $\\dots$ \\\\\n",
       "\t26 & Germany & 2018.0 & Beverages & 12336.2 & 10077.9 & $\\dots$ \\\\\n",
       "\t27 & Brazil & 2021.0 & Bakery Items & 5949.18 & 6656.14 & $\\dots$ \\\\\n",
       "\t28 & France & 2018.0 & Frozen Food & 17470.5 & 16267.2 & $\\dots$ \\\\\n",
       "\t29 & Spain & 2021.0 & Fruits \\& Vegetables & 41676.2 & 43058.3 & $\\dots$ \\\\\n",
       "\t30 & Mexico & 2018.0 & Meat \\& Seafood & 20604.3 & 23257.5 & $\\dots$ \\\\\n",
       "\t$\\dots$ & $\\dots$ & $\\dots$ & $\\dots$ & $\\dots$ & $\\dots$ &  \\\\\n",
       "\\end{tabular}\n"
      ],
      "text/plain": [
       "\u001b[1m5000×8 DataFrame\u001b[0m\n",
       "\u001b[1m  Row \u001b[0m│\u001b[1m Country      \u001b[0m\u001b[1m Year    \u001b[0m\u001b[1m Food Category       \u001b[0m\u001b[1m Total Waste (Tons) \u001b[0m\u001b[1m Econom\u001b[0m ⋯\n",
       "      │\u001b[90m String15     \u001b[0m\u001b[90m Float64 \u001b[0m\u001b[90m String31            \u001b[0m\u001b[90m Float64            \u001b[0m\u001b[90m Float6\u001b[0m ⋯\n",
       "──────┼─────────────────────────────────────────────────────────────────────────\n",
       "    1 │ Australia      2019.0  Fruits & Vegetables            19268.6          ⋯\n",
       "    2 │ Indonesia      2019.0  Prepared Food                   3916.97\n",
       "    3 │ Germany        2022.0  Dairy Products                  9700.16\n",
       "    4 │ France         2023.0  Fruits & Vegetables            46299.7\n",
       "    5 │ France         2023.0  Beverages                      33096.6          ⋯\n",
       "    6 │ India          2024.0  Fruits & Vegetables            11962.9\n",
       "    7 │ Germany        2024.0  Prepared Food                  45038.7\n",
       "    8 │ China          2019.0  Fruits & Vegetables            12791.2\n",
       "    9 │ UK             2019.0  Meat & Seafood                 14795.6          ⋯\n",
       "   10 │ India          2019.0  Grains & Cereals               12118.3\n",
       "   11 │ South Africa   2024.0  Frozen Food                    39478.7\n",
       "  ⋮   │      ⋮           ⋮              ⋮                   ⋮                  ⋱\n",
       " 4991 │ UK             2021.0  Frozen Food                    21794.8\n",
       " 4992 │ France         2019.0  Meat & Seafood                 26583.1          ⋯\n",
       " 4993 │ China          2018.0  Grains & Cereals               48984.2\n",
       " 4994 │ France         2021.0  Grains & Cereals               42126.6\n",
       " 4995 │ Indonesia      2023.0  Prepared Food                  39980.4\n",
       " 4996 │ France         2021.0  Beverages                      47524.7          ⋯\n",
       " 4997 │ Australia      2021.0  Beverages                      32337.7\n",
       " 4998 │ China          2018.0  Meat & Seafood                 20641.0\n",
       " 4999 │ Australia      2021.0  Beverages                      26566.6\n",
       " 5000 │ France         2024.0  Bakery Items                    8860.27         ⋯\n",
       "\u001b[36m                                                 4 columns and 4979 rows omitted\u001b[0m"
      ]
     },
     "execution_count": 63,
     "metadata": {},
     "output_type": "execute_result"
    }
   ],
   "source": [
    "using MLJ\n",
    "using Random\n",
    "\n",
    "global_food_df = hcat(X, y)"
   ]
  },
  {
   "cell_type": "code",
   "execution_count": 64,
   "id": "9bd06e63",
   "metadata": {},
   "outputs": [
    {
     "data": {
      "text/plain": [
       "TaskLocalRNG()"
      ]
     },
     "execution_count": 64,
     "metadata": {},
     "output_type": "execute_result"
    }
   ],
   "source": [
    "Random.seed!(123)"
   ]
  },
  {
   "cell_type": "code",
   "execution_count": 65,
   "id": "40587871",
   "metadata": {},
   "outputs": [
    {
     "data": {
      "text/plain": [
       "1:5000"
      ]
     },
     "execution_count": 65,
     "metadata": {},
     "output_type": "execute_result"
    }
   ],
   "source": [
    "indices = 1:nrow(global_food_df)"
   ]
  },
  {
   "cell_type": "code",
   "execution_count": 66,
   "id": "54e162c1",
   "metadata": {},
   "outputs": [
    {
     "data": {
      "text/plain": [
       "([1, 2, 3, 4, 5, 6, 7, 8, 9, 10  …  3991, 3992, 3993, 3994, 3995, 3996, 3997, 3998, 3999, 4000], [4001, 4002, 4003, 4004, 4005, 4006, 4007, 4008, 4009, 4010  …  4991, 4992, 4993, 4994, 4995, 4996, 4997, 4998, 4999, 5000])"
      ]
     },
     "execution_count": 66,
     "metadata": {},
     "output_type": "execute_result"
    }
   ],
   "source": [
    "train_indices, test_indices = partition(indices, 0.80)"
   ]
  },
  {
   "cell_type": "code",
   "execution_count": 27,
   "id": "7e3a79f5",
   "metadata": {},
   "outputs": [
    {
     "data": {
      "text/html": [
       "<div><div style = \"float: left;\"><span>4000×8 DataFrame</span></div><div style = \"float: right;\"><span style = \"font-style: italic;\">3975 rows omitted</span></div><div style = \"clear: both;\"></div></div><div class = \"data-frame\" style = \"overflow-x: scroll;\"><table class = \"data-frame\" style = \"margin-bottom: 6px;\"><thead><tr class = \"header\"><th class = \"rowNumber\" style = \"font-weight: bold; text-align: right;\">Row</th><th style = \"text-align: left;\">Country</th><th style = \"text-align: left;\">Year</th><th style = \"text-align: left;\">Food Category</th><th style = \"text-align: left;\">Total Waste (Tons)</th><th style = \"text-align: left;\">Economic Loss (Million $)</th><th style = \"text-align: left;\">Avg Waste per Capita (Kg)</th><th style = \"text-align: left;\">Population (Million)</th><th style = \"text-align: left;\">Household Waste (%)</th></tr><tr class = \"subheader headerLastRow\"><th class = \"rowNumber\" style = \"font-weight: bold; text-align: right;\"></th><th title = \"String15\" style = \"text-align: left;\">String15</th><th title = \"Float64\" style = \"text-align: left;\">Float64</th><th title = \"String31\" style = \"text-align: left;\">String31</th><th title = \"Float64\" style = \"text-align: left;\">Float64</th><th title = \"Float64\" style = \"text-align: left;\">Float64</th><th title = \"Float64\" style = \"text-align: left;\">Float64</th><th title = \"Float64\" style = \"text-align: left;\">Float64</th><th title = \"Float64\" style = \"text-align: left;\">Float64</th></tr></thead><tbody><tr><td class = \"rowNumber\" style = \"font-weight: bold; text-align: right;\">1</td><td style = \"text-align: left;\">Australia</td><td style = \"text-align: right;\">2019.0</td><td style = \"text-align: left;\">Fruits &amp; Vegetables</td><td style = \"text-align: right;\">19268.6</td><td style = \"text-align: right;\">18686.7</td><td style = \"text-align: right;\">72.69</td><td style = \"text-align: right;\">87.59</td><td style = \"text-align: right;\">53.64</td></tr><tr><td class = \"rowNumber\" style = \"font-weight: bold; text-align: right;\">2</td><td style = \"text-align: left;\">Indonesia</td><td style = \"text-align: right;\">2019.0</td><td style = \"text-align: left;\">Prepared Food</td><td style = \"text-align: right;\">3916.97</td><td style = \"text-align: right;\">4394.48</td><td style = \"text-align: right;\">192.52</td><td style = \"text-align: right;\">1153.99</td><td style = \"text-align: right;\">30.61</td></tr><tr><td class = \"rowNumber\" style = \"font-weight: bold; text-align: right;\">3</td><td style = \"text-align: left;\">Germany</td><td style = \"text-align: right;\">2022.0</td><td style = \"text-align: left;\">Dairy Products</td><td style = \"text-align: right;\">9700.16</td><td style = \"text-align: right;\">8909.16</td><td style = \"text-align: right;\">166.94</td><td style = \"text-align: right;\">1006.11</td><td style = \"text-align: right;\">48.08</td></tr><tr><td class = \"rowNumber\" style = \"font-weight: bold; text-align: right;\">4</td><td style = \"text-align: left;\">France</td><td style = \"text-align: right;\">2023.0</td><td style = \"text-align: left;\">Fruits &amp; Vegetables</td><td style = \"text-align: right;\">46299.7</td><td style = \"text-align: right;\">40551.2</td><td style = \"text-align: right;\">120.19</td><td style = \"text-align: right;\">953.05</td><td style = \"text-align: right;\">31.91</td></tr><tr><td class = \"rowNumber\" style = \"font-weight: bold; text-align: right;\">5</td><td style = \"text-align: left;\">France</td><td style = \"text-align: right;\">2023.0</td><td style = \"text-align: left;\">Beverages</td><td style = \"text-align: right;\">33096.6</td><td style = \"text-align: right;\">36980.8</td><td style = \"text-align: right;\">104.74</td><td style = \"text-align: right;\">1105.47</td><td style = \"text-align: right;\">36.06</td></tr><tr><td class = \"rowNumber\" style = \"font-weight: bold; text-align: right;\">6</td><td style = \"text-align: left;\">India</td><td style = \"text-align: right;\">2024.0</td><td style = \"text-align: left;\">Fruits &amp; Vegetables</td><td style = \"text-align: right;\">11962.9</td><td style = \"text-align: right;\">11196.0</td><td style = \"text-align: right;\">136.21</td><td style = \"text-align: right;\">1311.91</td><td style = \"text-align: right;\">37.09</td></tr><tr><td class = \"rowNumber\" style = \"font-weight: bold; text-align: right;\">7</td><td style = \"text-align: left;\">Germany</td><td style = \"text-align: right;\">2024.0</td><td style = \"text-align: left;\">Prepared Food</td><td style = \"text-align: right;\">45038.7</td><td style = \"text-align: right;\">39191.2</td><td style = \"text-align: right;\">179.27</td><td style = \"text-align: right;\">1349.45</td><td style = \"text-align: right;\">68.93</td></tr><tr><td class = \"rowNumber\" style = \"font-weight: bold; text-align: right;\">8</td><td style = \"text-align: left;\">China</td><td style = \"text-align: right;\">2019.0</td><td style = \"text-align: left;\">Fruits &amp; Vegetables</td><td style = \"text-align: right;\">12791.2</td><td style = \"text-align: right;\">12233.3</td><td style = \"text-align: right;\">90.8</td><td style = \"text-align: right;\">1229.29</td><td style = \"text-align: right;\">59.9</td></tr><tr><td class = \"rowNumber\" style = \"font-weight: bold; text-align: right;\">9</td><td style = \"text-align: left;\">UK</td><td style = \"text-align: right;\">2019.0</td><td style = \"text-align: left;\">Meat &amp; Seafood</td><td style = \"text-align: right;\">14795.6</td><td style = \"text-align: right;\">14347.0</td><td style = \"text-align: right;\">128.91</td><td style = \"text-align: right;\">450.33</td><td style = \"text-align: right;\">59.01</td></tr><tr><td class = \"rowNumber\" style = \"font-weight: bold; text-align: right;\">10</td><td style = \"text-align: left;\">India</td><td style = \"text-align: right;\">2019.0</td><td style = \"text-align: left;\">Grains &amp; Cereals</td><td style = \"text-align: right;\">12118.3</td><td style = \"text-align: right;\">13631.2</td><td style = \"text-align: right;\">141.75</td><td style = \"text-align: right;\">359.26</td><td style = \"text-align: right;\">42.42</td></tr><tr><td class = \"rowNumber\" style = \"font-weight: bold; text-align: right;\">11</td><td style = \"text-align: left;\">South Africa</td><td style = \"text-align: right;\">2024.0</td><td style = \"text-align: left;\">Frozen Food</td><td style = \"text-align: right;\">39478.7</td><td style = \"text-align: right;\">40087.3</td><td style = \"text-align: right;\">155.55</td><td style = \"text-align: right;\">375.84</td><td style = \"text-align: right;\">31.16</td></tr><tr><td class = \"rowNumber\" style = \"font-weight: bold; text-align: right;\">12</td><td style = \"text-align: left;\">Japan</td><td style = \"text-align: right;\">2022.0</td><td style = \"text-align: left;\">Frozen Food</td><td style = \"text-align: right;\">41025.9</td><td style = \"text-align: right;\">35437.9</td><td style = \"text-align: right;\">49.95</td><td style = \"text-align: right;\">1219.43</td><td style = \"text-align: right;\">33.79</td></tr><tr><td class = \"rowNumber\" style = \"font-weight: bold; text-align: right;\">13</td><td style = \"text-align: left;\">USA</td><td style = \"text-align: right;\">2024.0</td><td style = \"text-align: left;\">Beverages</td><td style = \"text-align: right;\">22924.8</td><td style = \"text-align: right;\">22406.2</td><td style = \"text-align: right;\">89.59</td><td style = \"text-align: right;\">836.05</td><td style = \"text-align: right;\">45.43</td></tr><tr><td style = \"text-align: right;\">&vellip;</td><td style = \"text-align: right;\">&vellip;</td><td style = \"text-align: right;\">&vellip;</td><td style = \"text-align: right;\">&vellip;</td><td style = \"text-align: right;\">&vellip;</td><td style = \"text-align: right;\">&vellip;</td><td style = \"text-align: right;\">&vellip;</td><td style = \"text-align: right;\">&vellip;</td><td style = \"text-align: right;\">&vellip;</td></tr><tr><td class = \"rowNumber\" style = \"font-weight: bold; text-align: right;\">3989</td><td style = \"text-align: left;\">Saudi Arabia</td><td style = \"text-align: right;\">2024.0</td><td style = \"text-align: left;\">Bakery Items</td><td style = \"text-align: right;\">40280.8</td><td style = \"text-align: right;\">45344.8</td><td style = \"text-align: right;\">141.42</td><td style = \"text-align: right;\">607.47</td><td style = \"text-align: right;\">54.25</td></tr><tr><td class = \"rowNumber\" style = \"font-weight: bold; text-align: right;\">3990</td><td style = \"text-align: left;\">South Africa</td><td style = \"text-align: right;\">2021.0</td><td style = \"text-align: left;\">Grains &amp; Cereals</td><td style = \"text-align: right;\">6385.32</td><td style = \"text-align: right;\">5824.93</td><td style = \"text-align: right;\">22.85</td><td style = \"text-align: right;\">697.78</td><td style = \"text-align: right;\">45.24</td></tr><tr><td class = \"rowNumber\" style = \"font-weight: bold; text-align: right;\">3991</td><td style = \"text-align: left;\">Canada</td><td style = \"text-align: right;\">2019.0</td><td style = \"text-align: left;\">Beverages</td><td style = \"text-align: right;\">40586.8</td><td style = \"text-align: right;\">47867.2</td><td style = \"text-align: right;\">179.54</td><td style = \"text-align: right;\">795.6</td><td style = \"text-align: right;\">53.2</td></tr><tr><td class = \"rowNumber\" style = \"font-weight: bold; text-align: right;\">3992</td><td style = \"text-align: left;\">USA</td><td style = \"text-align: right;\">2021.0</td><td style = \"text-align: left;\">Dairy Products</td><td style = \"text-align: right;\">28582.7</td><td style = \"text-align: right;\">23208.7</td><td style = \"text-align: right;\">96.05</td><td style = \"text-align: right;\">328.26</td><td style = \"text-align: right;\">53.38</td></tr><tr><td class = \"rowNumber\" style = \"font-weight: bold; text-align: right;\">3993</td><td style = \"text-align: left;\">Indonesia</td><td style = \"text-align: right;\">2018.0</td><td style = \"text-align: left;\">Meat &amp; Seafood</td><td style = \"text-align: right;\">12401.5</td><td style = \"text-align: right;\">11448.8</td><td style = \"text-align: right;\">100.24</td><td style = \"text-align: right;\">321.57</td><td style = \"text-align: right;\">42.82</td></tr><tr><td class = \"rowNumber\" style = \"font-weight: bold; text-align: right;\">3994</td><td style = \"text-align: left;\">Argentina</td><td style = \"text-align: right;\">2020.0</td><td style = \"text-align: left;\">Dairy Products</td><td style = \"text-align: right;\">1401.62</td><td style = \"text-align: right;\">1256.84</td><td style = \"text-align: right;\">60.51</td><td style = \"text-align: right;\">1232.33</td><td style = \"text-align: right;\">52.94</td></tr><tr><td class = \"rowNumber\" style = \"font-weight: bold; text-align: right;\">3995</td><td style = \"text-align: left;\">Indonesia</td><td style = \"text-align: right;\">2020.0</td><td style = \"text-align: left;\">Meat &amp; Seafood</td><td style = \"text-align: right;\">30545.1</td><td style = \"text-align: right;\">25240.1</td><td style = \"text-align: right;\">174.74</td><td style = \"text-align: right;\">1191.15</td><td style = \"text-align: right;\">37.38</td></tr><tr><td class = \"rowNumber\" style = \"font-weight: bold; text-align: right;\">3996</td><td style = \"text-align: left;\">China</td><td style = \"text-align: right;\">2023.0</td><td style = \"text-align: left;\">Grains &amp; Cereals</td><td style = \"text-align: right;\">38744.4</td><td style = \"text-align: right;\">31808.4</td><td style = \"text-align: right;\">123.07</td><td style = \"text-align: right;\">603.0</td><td style = \"text-align: right;\">31.41</td></tr><tr><td class = \"rowNumber\" style = \"font-weight: bold; text-align: right;\">3997</td><td style = \"text-align: left;\">UK</td><td style = \"text-align: right;\">2022.0</td><td style = \"text-align: left;\">Fruits &amp; Vegetables</td><td style = \"text-align: right;\">8352.25</td><td style = \"text-align: right;\">7851.65</td><td style = \"text-align: right;\">50.15</td><td style = \"text-align: right;\">1108.56</td><td style = \"text-align: right;\">37.32</td></tr><tr><td class = \"rowNumber\" style = \"font-weight: bold; text-align: right;\">3998</td><td style = \"text-align: left;\">Saudi Arabia</td><td style = \"text-align: right;\">2018.0</td><td style = \"text-align: left;\">Dairy Products</td><td style = \"text-align: right;\">29588.6</td><td style = \"text-align: right;\">30075.6</td><td style = \"text-align: right;\">149.51</td><td style = \"text-align: right;\">1182.92</td><td style = \"text-align: right;\">56.98</td></tr><tr><td class = \"rowNumber\" style = \"font-weight: bold; text-align: right;\">3999</td><td style = \"text-align: left;\">South Africa</td><td style = \"text-align: right;\">2019.0</td><td style = \"text-align: left;\">Prepared Food</td><td style = \"text-align: right;\">20653.4</td><td style = \"text-align: right;\">18253.0</td><td style = \"text-align: right;\">103.72</td><td style = \"text-align: right;\">450.44</td><td style = \"text-align: right;\">47.33</td></tr><tr><td class = \"rowNumber\" style = \"font-weight: bold; text-align: right;\">4000</td><td style = \"text-align: left;\">India</td><td style = \"text-align: right;\">2020.0</td><td style = \"text-align: left;\">Fruits &amp; Vegetables</td><td style = \"text-align: right;\">32653.0</td><td style = \"text-align: right;\">35165.6</td><td style = \"text-align: right;\">134.06</td><td style = \"text-align: right;\">23.49</td><td style = \"text-align: right;\">44.39</td></tr></tbody></table></div>"
      ],
      "text/latex": [
       "\\begin{tabular}{r|cccccc}\n",
       "\t& Country & Year & Food Category & Total Waste (Tons) & Economic Loss (Million \\$) & \\\\\n",
       "\t\\hline\n",
       "\t& String15 & Float64 & String31 & Float64 & Float64 & \\\\\n",
       "\t\\hline\n",
       "\t1 & Australia & 2019.0 & Fruits \\& Vegetables & 19268.6 & 18686.7 & $\\dots$ \\\\\n",
       "\t2 & Indonesia & 2019.0 & Prepared Food & 3916.97 & 4394.48 & $\\dots$ \\\\\n",
       "\t3 & Germany & 2022.0 & Dairy Products & 9700.16 & 8909.16 & $\\dots$ \\\\\n",
       "\t4 & France & 2023.0 & Fruits \\& Vegetables & 46299.7 & 40551.2 & $\\dots$ \\\\\n",
       "\t5 & France & 2023.0 & Beverages & 33096.6 & 36980.8 & $\\dots$ \\\\\n",
       "\t6 & India & 2024.0 & Fruits \\& Vegetables & 11962.9 & 11196.0 & $\\dots$ \\\\\n",
       "\t7 & Germany & 2024.0 & Prepared Food & 45038.7 & 39191.2 & $\\dots$ \\\\\n",
       "\t8 & China & 2019.0 & Fruits \\& Vegetables & 12791.2 & 12233.3 & $\\dots$ \\\\\n",
       "\t9 & UK & 2019.0 & Meat \\& Seafood & 14795.6 & 14347.0 & $\\dots$ \\\\\n",
       "\t10 & India & 2019.0 & Grains \\& Cereals & 12118.3 & 13631.2 & $\\dots$ \\\\\n",
       "\t11 & South Africa & 2024.0 & Frozen Food & 39478.7 & 40087.3 & $\\dots$ \\\\\n",
       "\t12 & Japan & 2022.0 & Frozen Food & 41025.9 & 35437.9 & $\\dots$ \\\\\n",
       "\t13 & USA & 2024.0 & Beverages & 22924.8 & 22406.2 & $\\dots$ \\\\\n",
       "\t14 & France & 2018.0 & Beverages & 29295.1 & 34102.2 & $\\dots$ \\\\\n",
       "\t15 & USA & 2022.0 & Bakery Items & 32458.0 & 27905.8 & $\\dots$ \\\\\n",
       "\t16 & USA & 2021.0 & Meat \\& Seafood & 43264.3 & 44777.9 & $\\dots$ \\\\\n",
       "\t17 & Brazil & 2021.0 & Frozen Food & 23131.1 & 21882.7 & $\\dots$ \\\\\n",
       "\t18 & Saudi Arabia & 2020.0 & Prepared Food & 18483.8 & 21071.7 & $\\dots$ \\\\\n",
       "\t19 & UK & 2022.0 & Meat \\& Seafood & 25829.6 & 20806.3 & $\\dots$ \\\\\n",
       "\t20 & China & 2018.0 & Prepared Food & 11314.1 & 10287.7 & $\\dots$ \\\\\n",
       "\t21 & Saudi Arabia & 2019.0 & Fruits \\& Vegetables & 10653.4 & 8992.33 & $\\dots$ \\\\\n",
       "\t22 & Australia & 2020.0 & Fruits \\& Vegetables & 1322.82 & 1394.01 & $\\dots$ \\\\\n",
       "\t23 & India & 2023.0 & Meat \\& Seafood & 33403.3 & 39125.4 & $\\dots$ \\\\\n",
       "\t24 & Italy & 2023.0 & Fruits \\& Vegetables & 30875.3 & 31341.6 & $\\dots$ \\\\\n",
       "\t25 & Saudi Arabia & 2024.0 & Prepared Food & 33085.8 & 28923.1 & $\\dots$ \\\\\n",
       "\t26 & Germany & 2018.0 & Beverages & 12336.2 & 10077.9 & $\\dots$ \\\\\n",
       "\t27 & Brazil & 2021.0 & Bakery Items & 5949.18 & 6656.14 & $\\dots$ \\\\\n",
       "\t28 & France & 2018.0 & Frozen Food & 17470.5 & 16267.2 & $\\dots$ \\\\\n",
       "\t29 & Spain & 2021.0 & Fruits \\& Vegetables & 41676.2 & 43058.3 & $\\dots$ \\\\\n",
       "\t30 & Mexico & 2018.0 & Meat \\& Seafood & 20604.3 & 23257.5 & $\\dots$ \\\\\n",
       "\t$\\dots$ & $\\dots$ & $\\dots$ & $\\dots$ & $\\dots$ & $\\dots$ &  \\\\\n",
       "\\end{tabular}\n"
      ],
      "text/plain": [
       "\u001b[1m4000×8 DataFrame\u001b[0m\n",
       "\u001b[1m  Row \u001b[0m│\u001b[1m Country      \u001b[0m\u001b[1m Year    \u001b[0m\u001b[1m Food Category       \u001b[0m\u001b[1m Total Waste (Tons) \u001b[0m\u001b[1m Econom\u001b[0m ⋯\n",
       "      │\u001b[90m String15     \u001b[0m\u001b[90m Float64 \u001b[0m\u001b[90m String31            \u001b[0m\u001b[90m Float64            \u001b[0m\u001b[90m Float6\u001b[0m ⋯\n",
       "──────┼─────────────────────────────────────────────────────────────────────────\n",
       "    1 │ Australia      2019.0  Fruits & Vegetables            19268.6          ⋯\n",
       "    2 │ Indonesia      2019.0  Prepared Food                   3916.97\n",
       "    3 │ Germany        2022.0  Dairy Products                  9700.16\n",
       "    4 │ France         2023.0  Fruits & Vegetables            46299.7\n",
       "    5 │ France         2023.0  Beverages                      33096.6          ⋯\n",
       "    6 │ India          2024.0  Fruits & Vegetables            11962.9\n",
       "    7 │ Germany        2024.0  Prepared Food                  45038.7\n",
       "    8 │ China          2019.0  Fruits & Vegetables            12791.2\n",
       "    9 │ UK             2019.0  Meat & Seafood                 14795.6          ⋯\n",
       "   10 │ India          2019.0  Grains & Cereals               12118.3\n",
       "   11 │ South Africa   2024.0  Frozen Food                    39478.7\n",
       "  ⋮   │      ⋮           ⋮              ⋮                   ⋮                  ⋱\n",
       " 3991 │ Canada         2019.0  Beverages                      40586.8\n",
       " 3992 │ USA            2021.0  Dairy Products                 28582.7          ⋯\n",
       " 3993 │ Indonesia      2018.0  Meat & Seafood                 12401.5\n",
       " 3994 │ Argentina      2020.0  Dairy Products                  1401.62\n",
       " 3995 │ Indonesia      2020.0  Meat & Seafood                 30545.1\n",
       " 3996 │ China          2023.0  Grains & Cereals               38744.4          ⋯\n",
       " 3997 │ UK             2022.0  Fruits & Vegetables             8352.25\n",
       " 3998 │ Saudi Arabia   2018.0  Dairy Products                 29588.6\n",
       " 3999 │ South Africa   2019.0  Prepared Food                  20653.4\n",
       " 4000 │ India          2020.0  Fruits & Vegetables            32653.0          ⋯\n",
       "\u001b[36m                                                 4 columns and 3979 rows omitted\u001b[0m"
      ]
     },
     "execution_count": 27,
     "metadata": {},
     "output_type": "execute_result"
    }
   ],
   "source": [
    "train_set = global_food_df[train_indices, :]"
   ]
  },
  {
   "cell_type": "code",
   "execution_count": 67,
   "id": "e638591e",
   "metadata": {},
   "outputs": [
    {
     "data": {
      "text/html": [
       "<div><div style = \"float: left;\"><span>1000×8 DataFrame</span></div><div style = \"float: right;\"><span style = \"font-style: italic;\">975 rows omitted</span></div><div style = \"clear: both;\"></div></div><div class = \"data-frame\" style = \"overflow-x: scroll;\"><table class = \"data-frame\" style = \"margin-bottom: 6px;\"><thead><tr class = \"header\"><th class = \"rowNumber\" style = \"font-weight: bold; text-align: right;\">Row</th><th style = \"text-align: left;\">Country</th><th style = \"text-align: left;\">Year</th><th style = \"text-align: left;\">Food Category</th><th style = \"text-align: left;\">Total Waste (Tons)</th><th style = \"text-align: left;\">Economic Loss (Million $)</th><th style = \"text-align: left;\">Avg Waste per Capita (Kg)</th><th style = \"text-align: left;\">Population (Million)</th><th style = \"text-align: left;\">Household Waste (%)</th></tr><tr class = \"subheader headerLastRow\"><th class = \"rowNumber\" style = \"font-weight: bold; text-align: right;\"></th><th title = \"String15\" style = \"text-align: left;\">String15</th><th title = \"Float64\" style = \"text-align: left;\">Float64</th><th title = \"String31\" style = \"text-align: left;\">String31</th><th title = \"Float64\" style = \"text-align: left;\">Float64</th><th title = \"Float64\" style = \"text-align: left;\">Float64</th><th title = \"Float64\" style = \"text-align: left;\">Float64</th><th title = \"Float64\" style = \"text-align: left;\">Float64</th><th title = \"Float64\" style = \"text-align: left;\">Float64</th></tr></thead><tbody><tr><td class = \"rowNumber\" style = \"font-weight: bold; text-align: right;\">1</td><td style = \"text-align: left;\">Mexico</td><td style = \"text-align: right;\">2019.0</td><td style = \"text-align: left;\">Dairy Products</td><td style = \"text-align: right;\">13539.0</td><td style = \"text-align: right;\">12305.6</td><td style = \"text-align: right;\">185.53</td><td style = \"text-align: right;\">1073.95</td><td style = \"text-align: right;\">43.13</td></tr><tr><td class = \"rowNumber\" style = \"font-weight: bold; text-align: right;\">2</td><td style = \"text-align: left;\">Indonesia</td><td style = \"text-align: right;\">2019.0</td><td style = \"text-align: left;\">Meat &amp; Seafood</td><td style = \"text-align: right;\">3613.99</td><td style = \"text-align: right;\">3087.86</td><td style = \"text-align: right;\">136.53</td><td style = \"text-align: right;\">349.48</td><td style = \"text-align: right;\">57.7</td></tr><tr><td class = \"rowNumber\" style = \"font-weight: bold; text-align: right;\">3</td><td style = \"text-align: left;\">Brazil</td><td style = \"text-align: right;\">2020.0</td><td style = \"text-align: left;\">Grains &amp; Cereals</td><td style = \"text-align: right;\">22568.1</td><td style = \"text-align: right;\">22703.7</td><td style = \"text-align: right;\">124.49</td><td style = \"text-align: right;\">825.9</td><td style = \"text-align: right;\">51.16</td></tr><tr><td class = \"rowNumber\" style = \"font-weight: bold; text-align: right;\">4</td><td style = \"text-align: left;\">Japan</td><td style = \"text-align: right;\">2018.0</td><td style = \"text-align: left;\">Meat &amp; Seafood</td><td style = \"text-align: right;\">43768.1</td><td style = \"text-align: right;\">45523.0</td><td style = \"text-align: right;\">53.65</td><td style = \"text-align: right;\">1138.12</td><td style = \"text-align: right;\">33.89</td></tr><tr><td class = \"rowNumber\" style = \"font-weight: bold; text-align: right;\">5</td><td style = \"text-align: left;\">Turkey</td><td style = \"text-align: right;\">2018.0</td><td style = \"text-align: left;\">Prepared Food</td><td style = \"text-align: right;\">9006.3</td><td style = \"text-align: right;\">8000.91</td><td style = \"text-align: right;\">172.54</td><td style = \"text-align: right;\">1054.61</td><td style = \"text-align: right;\">59.88</td></tr><tr><td class = \"rowNumber\" style = \"font-weight: bold; text-align: right;\">6</td><td style = \"text-align: left;\">France</td><td style = \"text-align: right;\">2020.0</td><td style = \"text-align: left;\">Frozen Food</td><td style = \"text-align: right;\">45559.3</td><td style = \"text-align: right;\">47508.3</td><td style = \"text-align: right;\">137.62</td><td style = \"text-align: right;\">364.73</td><td style = \"text-align: right;\">36.01</td></tr><tr><td class = \"rowNumber\" style = \"font-weight: bold; text-align: right;\">7</td><td style = \"text-align: left;\">Indonesia</td><td style = \"text-align: right;\">2022.0</td><td style = \"text-align: left;\">Frozen Food</td><td style = \"text-align: right;\">20372.2</td><td style = \"text-align: right;\">21673.1</td><td style = \"text-align: right;\">141.76</td><td style = \"text-align: right;\">758.88</td><td style = \"text-align: right;\">56.79</td></tr><tr><td class = \"rowNumber\" style = \"font-weight: bold; text-align: right;\">8</td><td style = \"text-align: left;\">Brazil</td><td style = \"text-align: right;\">2022.0</td><td style = \"text-align: left;\">Prepared Food</td><td style = \"text-align: right;\">18814.3</td><td style = \"text-align: right;\">16286.4</td><td style = \"text-align: right;\">89.87</td><td style = \"text-align: right;\">1387.49</td><td style = \"text-align: right;\">35.71</td></tr><tr><td class = \"rowNumber\" style = \"font-weight: bold; text-align: right;\">9</td><td style = \"text-align: left;\">Brazil</td><td style = \"text-align: right;\">2023.0</td><td style = \"text-align: left;\">Beverages</td><td style = \"text-align: right;\">25255.9</td><td style = \"text-align: right;\">29351.2</td><td style = \"text-align: right;\">160.37</td><td style = \"text-align: right;\">643.73</td><td style = \"text-align: right;\">36.61</td></tr><tr><td class = \"rowNumber\" style = \"font-weight: bold; text-align: right;\">10</td><td style = \"text-align: left;\">Japan</td><td style = \"text-align: right;\">2022.0</td><td style = \"text-align: left;\">Frozen Food</td><td style = \"text-align: right;\">24800.9</td><td style = \"text-align: right;\">28942.5</td><td style = \"text-align: right;\">94.71</td><td style = \"text-align: right;\">1060.06</td><td style = \"text-align: right;\">68.3</td></tr><tr><td class = \"rowNumber\" style = \"font-weight: bold; text-align: right;\">11</td><td style = \"text-align: left;\">Indonesia</td><td style = \"text-align: right;\">2018.0</td><td style = \"text-align: left;\">Dairy Products</td><td style = \"text-align: right;\">24220.5</td><td style = \"text-align: right;\">20618.9</td><td style = \"text-align: right;\">93.73</td><td style = \"text-align: right;\">251.86</td><td style = \"text-align: right;\">46.95</td></tr><tr><td class = \"rowNumber\" style = \"font-weight: bold; text-align: right;\">12</td><td style = \"text-align: left;\">Japan</td><td style = \"text-align: right;\">2024.0</td><td style = \"text-align: left;\">Beverages</td><td style = \"text-align: right;\">7290.09</td><td style = \"text-align: right;\">6996.1</td><td style = \"text-align: right;\">131.23</td><td style = \"text-align: right;\">502.55</td><td style = \"text-align: right;\">56.59</td></tr><tr><td class = \"rowNumber\" style = \"font-weight: bold; text-align: right;\">13</td><td style = \"text-align: left;\">Japan</td><td style = \"text-align: right;\">2018.0</td><td style = \"text-align: left;\">Bakery Items</td><td style = \"text-align: right;\">27534.2</td><td style = \"text-align: right;\">29110.5</td><td style = \"text-align: right;\">162.58</td><td style = \"text-align: right;\">693.46</td><td style = \"text-align: right;\">69.77</td></tr><tr><td style = \"text-align: right;\">&vellip;</td><td style = \"text-align: right;\">&vellip;</td><td style = \"text-align: right;\">&vellip;</td><td style = \"text-align: right;\">&vellip;</td><td style = \"text-align: right;\">&vellip;</td><td style = \"text-align: right;\">&vellip;</td><td style = \"text-align: right;\">&vellip;</td><td style = \"text-align: right;\">&vellip;</td><td style = \"text-align: right;\">&vellip;</td></tr><tr><td class = \"rowNumber\" style = \"font-weight: bold; text-align: right;\">989</td><td style = \"text-align: left;\">Saudi Arabia</td><td style = \"text-align: right;\">2019.0</td><td style = \"text-align: left;\">Fruits &amp; Vegetables</td><td style = \"text-align: right;\">44319.6</td><td style = \"text-align: right;\">37349.5</td><td style = \"text-align: right;\">113.72</td><td style = \"text-align: right;\">1378.23</td><td style = \"text-align: right;\">61.61</td></tr><tr><td class = \"rowNumber\" style = \"font-weight: bold; text-align: right;\">990</td><td style = \"text-align: left;\">South Africa</td><td style = \"text-align: right;\">2022.0</td><td style = \"text-align: left;\">Meat &amp; Seafood</td><td style = \"text-align: right;\">3925.48</td><td style = \"text-align: right;\">4499.38</td><td style = \"text-align: right;\">47.21</td><td style = \"text-align: right;\">79.18</td><td style = \"text-align: right;\">38.1</td></tr><tr><td class = \"rowNumber\" style = \"font-weight: bold; text-align: right;\">991</td><td style = \"text-align: left;\">UK</td><td style = \"text-align: right;\">2021.0</td><td style = \"text-align: left;\">Frozen Food</td><td style = \"text-align: right;\">21794.8</td><td style = \"text-align: right;\">22964.5</td><td style = \"text-align: right;\">90.37</td><td style = \"text-align: right;\">726.54</td><td style = \"text-align: right;\">60.1</td></tr><tr><td class = \"rowNumber\" style = \"font-weight: bold; text-align: right;\">992</td><td style = \"text-align: left;\">France</td><td style = \"text-align: right;\">2019.0</td><td style = \"text-align: left;\">Meat &amp; Seafood</td><td style = \"text-align: right;\">26583.1</td><td style = \"text-align: right;\">23562.8</td><td style = \"text-align: right;\">125.57</td><td style = \"text-align: right;\">571.09</td><td style = \"text-align: right;\">31.78</td></tr><tr><td class = \"rowNumber\" style = \"font-weight: bold; text-align: right;\">993</td><td style = \"text-align: left;\">China</td><td style = \"text-align: right;\">2018.0</td><td style = \"text-align: left;\">Grains &amp; Cereals</td><td style = \"text-align: right;\">48984.2</td><td style = \"text-align: right;\">49978.4</td><td style = \"text-align: right;\">28.07</td><td style = \"text-align: right;\">1380.08</td><td style = \"text-align: right;\">60.39</td></tr><tr><td class = \"rowNumber\" style = \"font-weight: bold; text-align: right;\">994</td><td style = \"text-align: left;\">France</td><td style = \"text-align: right;\">2021.0</td><td style = \"text-align: left;\">Grains &amp; Cereals</td><td style = \"text-align: right;\">42126.6</td><td style = \"text-align: right;\">36406.8</td><td style = \"text-align: right;\">144.3</td><td style = \"text-align: right;\">1138.46</td><td style = \"text-align: right;\">41.26</td></tr><tr><td class = \"rowNumber\" style = \"font-weight: bold; text-align: right;\">995</td><td style = \"text-align: left;\">Indonesia</td><td style = \"text-align: right;\">2023.0</td><td style = \"text-align: left;\">Prepared Food</td><td style = \"text-align: right;\">39980.4</td><td style = \"text-align: right;\">37618.4</td><td style = \"text-align: right;\">32.34</td><td style = \"text-align: right;\">27.08</td><td style = \"text-align: right;\">56.38</td></tr><tr><td class = \"rowNumber\" style = \"font-weight: bold; text-align: right;\">996</td><td style = \"text-align: left;\">France</td><td style = \"text-align: right;\">2021.0</td><td style = \"text-align: left;\">Beverages</td><td style = \"text-align: right;\">47524.7</td><td style = \"text-align: right;\">48058.4</td><td style = \"text-align: right;\">77.41</td><td style = \"text-align: right;\">1087.46</td><td style = \"text-align: right;\">39.73</td></tr><tr><td class = \"rowNumber\" style = \"font-weight: bold; text-align: right;\">997</td><td style = \"text-align: left;\">Australia</td><td style = \"text-align: right;\">2021.0</td><td style = \"text-align: left;\">Beverages</td><td style = \"text-align: right;\">32337.7</td><td style = \"text-align: right;\">32705.1</td><td style = \"text-align: right;\">194.35</td><td style = \"text-align: right;\">1336.32</td><td style = \"text-align: right;\">64.83</td></tr><tr><td class = \"rowNumber\" style = \"font-weight: bold; text-align: right;\">998</td><td style = \"text-align: left;\">China</td><td style = \"text-align: right;\">2018.0</td><td style = \"text-align: left;\">Meat &amp; Seafood</td><td style = \"text-align: right;\">20641.0</td><td style = \"text-align: right;\">22485.3</td><td style = \"text-align: right;\">21.04</td><td style = \"text-align: right;\">16.13</td><td style = \"text-align: right;\">31.23</td></tr><tr><td class = \"rowNumber\" style = \"font-weight: bold; text-align: right;\">999</td><td style = \"text-align: left;\">Australia</td><td style = \"text-align: right;\">2021.0</td><td style = \"text-align: left;\">Beverages</td><td style = \"text-align: right;\">26566.6</td><td style = \"text-align: right;\">29357.6</td><td style = \"text-align: right;\">197.14</td><td style = \"text-align: right;\">1086.17</td><td style = \"text-align: right;\">69.95</td></tr><tr><td class = \"rowNumber\" style = \"font-weight: bold; text-align: right;\">1000</td><td style = \"text-align: left;\">France</td><td style = \"text-align: right;\">2024.0</td><td style = \"text-align: left;\">Bakery Items</td><td style = \"text-align: right;\">8860.27</td><td style = \"text-align: right;\">7360.38</td><td style = \"text-align: right;\">51.5</td><td style = \"text-align: right;\">879.67</td><td style = \"text-align: right;\">54.27</td></tr></tbody></table></div>"
      ],
      "text/latex": [
       "\\begin{tabular}{r|cccccc}\n",
       "\t& Country & Year & Food Category & Total Waste (Tons) & Economic Loss (Million \\$) & \\\\\n",
       "\t\\hline\n",
       "\t& String15 & Float64 & String31 & Float64 & Float64 & \\\\\n",
       "\t\\hline\n",
       "\t1 & Mexico & 2019.0 & Dairy Products & 13539.0 & 12305.6 & $\\dots$ \\\\\n",
       "\t2 & Indonesia & 2019.0 & Meat \\& Seafood & 3613.99 & 3087.86 & $\\dots$ \\\\\n",
       "\t3 & Brazil & 2020.0 & Grains \\& Cereals & 22568.1 & 22703.7 & $\\dots$ \\\\\n",
       "\t4 & Japan & 2018.0 & Meat \\& Seafood & 43768.1 & 45523.0 & $\\dots$ \\\\\n",
       "\t5 & Turkey & 2018.0 & Prepared Food & 9006.3 & 8000.91 & $\\dots$ \\\\\n",
       "\t6 & France & 2020.0 & Frozen Food & 45559.3 & 47508.3 & $\\dots$ \\\\\n",
       "\t7 & Indonesia & 2022.0 & Frozen Food & 20372.2 & 21673.1 & $\\dots$ \\\\\n",
       "\t8 & Brazil & 2022.0 & Prepared Food & 18814.3 & 16286.4 & $\\dots$ \\\\\n",
       "\t9 & Brazil & 2023.0 & Beverages & 25255.9 & 29351.2 & $\\dots$ \\\\\n",
       "\t10 & Japan & 2022.0 & Frozen Food & 24800.9 & 28942.5 & $\\dots$ \\\\\n",
       "\t11 & Indonesia & 2018.0 & Dairy Products & 24220.5 & 20618.9 & $\\dots$ \\\\\n",
       "\t12 & Japan & 2024.0 & Beverages & 7290.09 & 6996.1 & $\\dots$ \\\\\n",
       "\t13 & Japan & 2018.0 & Bakery Items & 27534.2 & 29110.5 & $\\dots$ \\\\\n",
       "\t14 & Italy & 2021.0 & Bakery Items & 4405.63 & 4759.81 & $\\dots$ \\\\\n",
       "\t15 & Australia & 2023.0 & Meat \\& Seafood & 19342.1 & 19006.5 & $\\dots$ \\\\\n",
       "\t16 & South Korea & 2023.0 & Prepared Food & 4171.2 & 3903.89 & $\\dots$ \\\\\n",
       "\t17 & India & 2019.0 & Bakery Items & 23728.9 & 23191.4 & $\\dots$ \\\\\n",
       "\t18 & Canada & 2023.0 & Bakery Items & 34600.6 & 33104.4 & $\\dots$ \\\\\n",
       "\t19 & Japan & 2023.0 & Beverages & 18902.4 & 18747.8 & $\\dots$ \\\\\n",
       "\t20 & Australia & 2023.0 & Dairy Products & 17597.0 & 17582.9 & $\\dots$ \\\\\n",
       "\t21 & Mexico & 2022.0 & Meat \\& Seafood & 35852.3 & 41996.5 & $\\dots$ \\\\\n",
       "\t22 & France & 2018.0 & Bakery Items & 38755.0 & 39812.5 & $\\dots$ \\\\\n",
       "\t23 & Australia & 2020.0 & Frozen Food & 8307.99 & 6650.19 & $\\dots$ \\\\\n",
       "\t24 & Russia & 2021.0 & Dairy Products & 41548.8 & 34033.3 & $\\dots$ \\\\\n",
       "\t25 & South Korea & 2024.0 & Dairy Products & 48474.7 & 43605.2 & $\\dots$ \\\\\n",
       "\t26 & Mexico & 2021.0 & Fruits \\& Vegetables & 28916.7 & 32196.5 & $\\dots$ \\\\\n",
       "\t27 & USA & 2019.0 & Prepared Food & 31980.7 & 35434.7 & $\\dots$ \\\\\n",
       "\t28 & Italy & 2018.0 & Beverages & 29922.3 & 35494.2 & $\\dots$ \\\\\n",
       "\t29 & Germany & 2020.0 & Fruits \\& Vegetables & 38681.9 & 33973.5 & $\\dots$ \\\\\n",
       "\t30 & South Korea & 2019.0 & Beverages & 17963.3 & 20605.6 & $\\dots$ \\\\\n",
       "\t$\\dots$ & $\\dots$ & $\\dots$ & $\\dots$ & $\\dots$ & $\\dots$ &  \\\\\n",
       "\\end{tabular}\n"
      ],
      "text/plain": [
       "\u001b[1m1000×8 DataFrame\u001b[0m\n",
       "\u001b[1m  Row \u001b[0m│\u001b[1m Country      \u001b[0m\u001b[1m Year    \u001b[0m\u001b[1m Food Category       \u001b[0m\u001b[1m Total Waste (Tons) \u001b[0m\u001b[1m Econom\u001b[0m ⋯\n",
       "      │\u001b[90m String15     \u001b[0m\u001b[90m Float64 \u001b[0m\u001b[90m String31            \u001b[0m\u001b[90m Float64            \u001b[0m\u001b[90m Float6\u001b[0m ⋯\n",
       "──────┼─────────────────────────────────────────────────────────────────────────\n",
       "    1 │ Mexico         2019.0  Dairy Products                 13539.0          ⋯\n",
       "    2 │ Indonesia      2019.0  Meat & Seafood                  3613.99\n",
       "    3 │ Brazil         2020.0  Grains & Cereals               22568.1\n",
       "    4 │ Japan          2018.0  Meat & Seafood                 43768.1\n",
       "    5 │ Turkey         2018.0  Prepared Food                   9006.3          ⋯\n",
       "    6 │ France         2020.0  Frozen Food                    45559.3\n",
       "    7 │ Indonesia      2022.0  Frozen Food                    20372.2\n",
       "    8 │ Brazil         2022.0  Prepared Food                  18814.3\n",
       "    9 │ Brazil         2023.0  Beverages                      25255.9          ⋯\n",
       "   10 │ Japan          2022.0  Frozen Food                    24800.9\n",
       "   11 │ Indonesia      2018.0  Dairy Products                 24220.5\n",
       "  ⋮   │      ⋮           ⋮              ⋮                   ⋮                  ⋱\n",
       "  991 │ UK             2021.0  Frozen Food                    21794.8\n",
       "  992 │ France         2019.0  Meat & Seafood                 26583.1          ⋯\n",
       "  993 │ China          2018.0  Grains & Cereals               48984.2\n",
       "  994 │ France         2021.0  Grains & Cereals               42126.6\n",
       "  995 │ Indonesia      2023.0  Prepared Food                  39980.4\n",
       "  996 │ France         2021.0  Beverages                      47524.7          ⋯\n",
       "  997 │ Australia      2021.0  Beverages                      32337.7\n",
       "  998 │ China          2018.0  Meat & Seafood                 20641.0\n",
       "  999 │ Australia      2021.0  Beverages                      26566.6\n",
       " 1000 │ France         2024.0  Bakery Items                    8860.27         ⋯\n",
       "\u001b[36m                                                  4 columns and 979 rows omitted\u001b[0m"
      ]
     },
     "execution_count": 67,
     "metadata": {},
     "output_type": "execute_result"
    }
   ],
   "source": [
    "test_set = global_food_df[test_indices, :]"
   ]
  },
  {
   "cell_type": "code",
   "execution_count": 71,
   "id": "3dba9a3b",
   "metadata": {},
   "outputs": [
    {
     "data": {
      "text/plain": [
       "┌───────────────────────────┬────────────┬──────────┐\n",
       "│\u001b[22m names                     \u001b[0m│\u001b[22m scitypes   \u001b[0m│\u001b[22m types    \u001b[0m│\n",
       "├───────────────────────────┼────────────┼──────────┤\n",
       "│ Country                   │ Textual    │ String15 │\n",
       "│ Year                      │ Continuous │ Float64  │\n",
       "│ Food Category             │ Textual    │ String31 │\n",
       "│ Total Waste (Tons)        │ Continuous │ Float64  │\n",
       "│ Economic Loss (Million $) │ Continuous │ Float64  │\n",
       "│ Avg Waste per Capita (Kg) │ Continuous │ Float64  │\n",
       "│ Population (Million)      │ Continuous │ Float64  │\n",
       "│ Household Waste (%)       │ Continuous │ Float64  │\n",
       "└───────────────────────────┴────────────┴──────────┘\n"
      ]
     },
     "execution_count": 71,
     "metadata": {},
     "output_type": "execute_result"
    }
   ],
   "source": [
    "schema(X)"
   ]
  },
  {
   "cell_type": "code",
   "execution_count": null,
   "id": "7bc93308",
   "metadata": {},
   "outputs": [],
   "source": [
    "# Building Model & Evaluation\""
   ]
  },
  {
   "cell_type": "code",
   "execution_count": 72,
   "id": "81135984",
   "metadata": {},
   "outputs": [
    {
     "name": "stderr",
     "output_type": "stream",
     "text": [
      "\u001b[36m\u001b[1m[ \u001b[22m\u001b[39m\u001b[36m\u001b[1mInfo: \u001b[22m\u001b[39mTraining machine(ContinuousEncoder(drop_last = false, …), …).\n",
      "\u001b[36m\u001b[1m[ \u001b[22m\u001b[39m\u001b[36m\u001b[1mInfo: \u001b[22m\u001b[39mSome features cannot be replaced with `Continuous` features and will be dropped: [:Country, Symbol(\"Food Category\")]. \n"
     ]
    },
    {
     "data": {
      "text/html": [
       "<div><div style = \"float: left;\"><span>5000×6 DataFrame</span></div><div style = \"float: right;\"><span style = \"font-style: italic;\">4975 rows omitted</span></div><div style = \"clear: both;\"></div></div><div class = \"data-frame\" style = \"overflow-x: scroll;\"><table class = \"data-frame\" style = \"margin-bottom: 6px;\"><thead><tr class = \"header\"><th class = \"rowNumber\" style = \"font-weight: bold; text-align: right;\">Row</th><th style = \"text-align: left;\">Year</th><th style = \"text-align: left;\">Total Waste (Tons)</th><th style = \"text-align: left;\">Economic Loss (Million $)</th><th style = \"text-align: left;\">Avg Waste per Capita (Kg)</th><th style = \"text-align: left;\">Population (Million)</th><th style = \"text-align: left;\">Household Waste (%)</th></tr><tr class = \"subheader headerLastRow\"><th class = \"rowNumber\" style = \"font-weight: bold; text-align: right;\"></th><th title = \"Float64\" style = \"text-align: left;\">Float64</th><th title = \"Float64\" style = \"text-align: left;\">Float64</th><th title = \"Float64\" style = \"text-align: left;\">Float64</th><th title = \"Float64\" style = \"text-align: left;\">Float64</th><th title = \"Float64\" style = \"text-align: left;\">Float64</th><th title = \"Float64\" style = \"text-align: left;\">Float64</th></tr></thead><tbody><tr><td class = \"rowNumber\" style = \"font-weight: bold; text-align: right;\">1</td><td style = \"text-align: right;\">2019.0</td><td style = \"text-align: right;\">19268.6</td><td style = \"text-align: right;\">18686.7</td><td style = \"text-align: right;\">72.69</td><td style = \"text-align: right;\">87.59</td><td style = \"text-align: right;\">53.64</td></tr><tr><td class = \"rowNumber\" style = \"font-weight: bold; text-align: right;\">2</td><td style = \"text-align: right;\">2019.0</td><td style = \"text-align: right;\">3916.97</td><td style = \"text-align: right;\">4394.48</td><td style = \"text-align: right;\">192.52</td><td style = \"text-align: right;\">1153.99</td><td style = \"text-align: right;\">30.61</td></tr><tr><td class = \"rowNumber\" style = \"font-weight: bold; text-align: right;\">3</td><td style = \"text-align: right;\">2022.0</td><td style = \"text-align: right;\">9700.16</td><td style = \"text-align: right;\">8909.16</td><td style = \"text-align: right;\">166.94</td><td style = \"text-align: right;\">1006.11</td><td style = \"text-align: right;\">48.08</td></tr><tr><td class = \"rowNumber\" style = \"font-weight: bold; text-align: right;\">4</td><td style = \"text-align: right;\">2023.0</td><td style = \"text-align: right;\">46299.7</td><td style = \"text-align: right;\">40551.2</td><td style = \"text-align: right;\">120.19</td><td style = \"text-align: right;\">953.05</td><td style = \"text-align: right;\">31.91</td></tr><tr><td class = \"rowNumber\" style = \"font-weight: bold; text-align: right;\">5</td><td style = \"text-align: right;\">2023.0</td><td style = \"text-align: right;\">33096.6</td><td style = \"text-align: right;\">36980.8</td><td style = \"text-align: right;\">104.74</td><td style = \"text-align: right;\">1105.47</td><td style = \"text-align: right;\">36.06</td></tr><tr><td class = \"rowNumber\" style = \"font-weight: bold; text-align: right;\">6</td><td style = \"text-align: right;\">2024.0</td><td style = \"text-align: right;\">11962.9</td><td style = \"text-align: right;\">11196.0</td><td style = \"text-align: right;\">136.21</td><td style = \"text-align: right;\">1311.91</td><td style = \"text-align: right;\">37.09</td></tr><tr><td class = \"rowNumber\" style = \"font-weight: bold; text-align: right;\">7</td><td style = \"text-align: right;\">2024.0</td><td style = \"text-align: right;\">45038.7</td><td style = \"text-align: right;\">39191.2</td><td style = \"text-align: right;\">179.27</td><td style = \"text-align: right;\">1349.45</td><td style = \"text-align: right;\">68.93</td></tr><tr><td class = \"rowNumber\" style = \"font-weight: bold; text-align: right;\">8</td><td style = \"text-align: right;\">2019.0</td><td style = \"text-align: right;\">12791.2</td><td style = \"text-align: right;\">12233.3</td><td style = \"text-align: right;\">90.8</td><td style = \"text-align: right;\">1229.29</td><td style = \"text-align: right;\">59.9</td></tr><tr><td class = \"rowNumber\" style = \"font-weight: bold; text-align: right;\">9</td><td style = \"text-align: right;\">2019.0</td><td style = \"text-align: right;\">14795.6</td><td style = \"text-align: right;\">14347.0</td><td style = \"text-align: right;\">128.91</td><td style = \"text-align: right;\">450.33</td><td style = \"text-align: right;\">59.01</td></tr><tr><td class = \"rowNumber\" style = \"font-weight: bold; text-align: right;\">10</td><td style = \"text-align: right;\">2019.0</td><td style = \"text-align: right;\">12118.3</td><td style = \"text-align: right;\">13631.2</td><td style = \"text-align: right;\">141.75</td><td style = \"text-align: right;\">359.26</td><td style = \"text-align: right;\">42.42</td></tr><tr><td class = \"rowNumber\" style = \"font-weight: bold; text-align: right;\">11</td><td style = \"text-align: right;\">2024.0</td><td style = \"text-align: right;\">39478.7</td><td style = \"text-align: right;\">40087.3</td><td style = \"text-align: right;\">155.55</td><td style = \"text-align: right;\">375.84</td><td style = \"text-align: right;\">31.16</td></tr><tr><td class = \"rowNumber\" style = \"font-weight: bold; text-align: right;\">12</td><td style = \"text-align: right;\">2022.0</td><td style = \"text-align: right;\">41025.9</td><td style = \"text-align: right;\">35437.9</td><td style = \"text-align: right;\">49.95</td><td style = \"text-align: right;\">1219.43</td><td style = \"text-align: right;\">33.79</td></tr><tr><td class = \"rowNumber\" style = \"font-weight: bold; text-align: right;\">13</td><td style = \"text-align: right;\">2024.0</td><td style = \"text-align: right;\">22924.8</td><td style = \"text-align: right;\">22406.2</td><td style = \"text-align: right;\">89.59</td><td style = \"text-align: right;\">836.05</td><td style = \"text-align: right;\">45.43</td></tr><tr><td style = \"text-align: right;\">&vellip;</td><td style = \"text-align: right;\">&vellip;</td><td style = \"text-align: right;\">&vellip;</td><td style = \"text-align: right;\">&vellip;</td><td style = \"text-align: right;\">&vellip;</td><td style = \"text-align: right;\">&vellip;</td><td style = \"text-align: right;\">&vellip;</td></tr><tr><td class = \"rowNumber\" style = \"font-weight: bold; text-align: right;\">4989</td><td style = \"text-align: right;\">2019.0</td><td style = \"text-align: right;\">44319.6</td><td style = \"text-align: right;\">37349.5</td><td style = \"text-align: right;\">113.72</td><td style = \"text-align: right;\">1378.23</td><td style = \"text-align: right;\">61.61</td></tr><tr><td class = \"rowNumber\" style = \"font-weight: bold; text-align: right;\">4990</td><td style = \"text-align: right;\">2022.0</td><td style = \"text-align: right;\">3925.48</td><td style = \"text-align: right;\">4499.38</td><td style = \"text-align: right;\">47.21</td><td style = \"text-align: right;\">79.18</td><td style = \"text-align: right;\">38.1</td></tr><tr><td class = \"rowNumber\" style = \"font-weight: bold; text-align: right;\">4991</td><td style = \"text-align: right;\">2021.0</td><td style = \"text-align: right;\">21794.8</td><td style = \"text-align: right;\">22964.5</td><td style = \"text-align: right;\">90.37</td><td style = \"text-align: right;\">726.54</td><td style = \"text-align: right;\">60.1</td></tr><tr><td class = \"rowNumber\" style = \"font-weight: bold; text-align: right;\">4992</td><td style = \"text-align: right;\">2019.0</td><td style = \"text-align: right;\">26583.1</td><td style = \"text-align: right;\">23562.8</td><td style = \"text-align: right;\">125.57</td><td style = \"text-align: right;\">571.09</td><td style = \"text-align: right;\">31.78</td></tr><tr><td class = \"rowNumber\" style = \"font-weight: bold; text-align: right;\">4993</td><td style = \"text-align: right;\">2018.0</td><td style = \"text-align: right;\">48984.2</td><td style = \"text-align: right;\">49978.4</td><td style = \"text-align: right;\">28.07</td><td style = \"text-align: right;\">1380.08</td><td style = \"text-align: right;\">60.39</td></tr><tr><td class = \"rowNumber\" style = \"font-weight: bold; text-align: right;\">4994</td><td style = \"text-align: right;\">2021.0</td><td style = \"text-align: right;\">42126.6</td><td style = \"text-align: right;\">36406.8</td><td style = \"text-align: right;\">144.3</td><td style = \"text-align: right;\">1138.46</td><td style = \"text-align: right;\">41.26</td></tr><tr><td class = \"rowNumber\" style = \"font-weight: bold; text-align: right;\">4995</td><td style = \"text-align: right;\">2023.0</td><td style = \"text-align: right;\">39980.4</td><td style = \"text-align: right;\">37618.4</td><td style = \"text-align: right;\">32.34</td><td style = \"text-align: right;\">27.08</td><td style = \"text-align: right;\">56.38</td></tr><tr><td class = \"rowNumber\" style = \"font-weight: bold; text-align: right;\">4996</td><td style = \"text-align: right;\">2021.0</td><td style = \"text-align: right;\">47524.7</td><td style = \"text-align: right;\">48058.4</td><td style = \"text-align: right;\">77.41</td><td style = \"text-align: right;\">1087.46</td><td style = \"text-align: right;\">39.73</td></tr><tr><td class = \"rowNumber\" style = \"font-weight: bold; text-align: right;\">4997</td><td style = \"text-align: right;\">2021.0</td><td style = \"text-align: right;\">32337.7</td><td style = \"text-align: right;\">32705.1</td><td style = \"text-align: right;\">194.35</td><td style = \"text-align: right;\">1336.32</td><td style = \"text-align: right;\">64.83</td></tr><tr><td class = \"rowNumber\" style = \"font-weight: bold; text-align: right;\">4998</td><td style = \"text-align: right;\">2018.0</td><td style = \"text-align: right;\">20641.0</td><td style = \"text-align: right;\">22485.3</td><td style = \"text-align: right;\">21.04</td><td style = \"text-align: right;\">16.13</td><td style = \"text-align: right;\">31.23</td></tr><tr><td class = \"rowNumber\" style = \"font-weight: bold; text-align: right;\">4999</td><td style = \"text-align: right;\">2021.0</td><td style = \"text-align: right;\">26566.6</td><td style = \"text-align: right;\">29357.6</td><td style = \"text-align: right;\">197.14</td><td style = \"text-align: right;\">1086.17</td><td style = \"text-align: right;\">69.95</td></tr><tr><td class = \"rowNumber\" style = \"font-weight: bold; text-align: right;\">5000</td><td style = \"text-align: right;\">2024.0</td><td style = \"text-align: right;\">8860.27</td><td style = \"text-align: right;\">7360.38</td><td style = \"text-align: right;\">51.5</td><td style = \"text-align: right;\">879.67</td><td style = \"text-align: right;\">54.27</td></tr></tbody></table></div>"
      ],
      "text/latex": [
       "\\begin{tabular}{r|ccccc}\n",
       "\t& Year & Total Waste (Tons) & Economic Loss (Million \\$) & Avg Waste per Capita (Kg) & \\\\\n",
       "\t\\hline\n",
       "\t& Float64 & Float64 & Float64 & Float64 & \\\\\n",
       "\t\\hline\n",
       "\t1 & 2019.0 & 19268.6 & 18686.7 & 72.69 & $\\dots$ \\\\\n",
       "\t2 & 2019.0 & 3916.97 & 4394.48 & 192.52 & $\\dots$ \\\\\n",
       "\t3 & 2022.0 & 9700.16 & 8909.16 & 166.94 & $\\dots$ \\\\\n",
       "\t4 & 2023.0 & 46299.7 & 40551.2 & 120.19 & $\\dots$ \\\\\n",
       "\t5 & 2023.0 & 33096.6 & 36980.8 & 104.74 & $\\dots$ \\\\\n",
       "\t6 & 2024.0 & 11962.9 & 11196.0 & 136.21 & $\\dots$ \\\\\n",
       "\t7 & 2024.0 & 45038.7 & 39191.2 & 179.27 & $\\dots$ \\\\\n",
       "\t8 & 2019.0 & 12791.2 & 12233.3 & 90.8 & $\\dots$ \\\\\n",
       "\t9 & 2019.0 & 14795.6 & 14347.0 & 128.91 & $\\dots$ \\\\\n",
       "\t10 & 2019.0 & 12118.3 & 13631.2 & 141.75 & $\\dots$ \\\\\n",
       "\t11 & 2024.0 & 39478.7 & 40087.3 & 155.55 & $\\dots$ \\\\\n",
       "\t12 & 2022.0 & 41025.9 & 35437.9 & 49.95 & $\\dots$ \\\\\n",
       "\t13 & 2024.0 & 22924.8 & 22406.2 & 89.59 & $\\dots$ \\\\\n",
       "\t14 & 2018.0 & 29295.1 & 34102.2 & 46.64 & $\\dots$ \\\\\n",
       "\t15 & 2022.0 & 32458.0 & 27905.8 & 46.77 & $\\dots$ \\\\\n",
       "\t16 & 2021.0 & 43264.3 & 44777.9 & 41.81 & $\\dots$ \\\\\n",
       "\t17 & 2021.0 & 23131.1 & 21882.7 & 50.79 & $\\dots$ \\\\\n",
       "\t18 & 2020.0 & 18483.8 & 21071.7 & 198.62 & $\\dots$ \\\\\n",
       "\t19 & 2022.0 & 25829.6 & 20806.3 & 119.62 & $\\dots$ \\\\\n",
       "\t20 & 2018.0 & 11314.1 & 10287.7 & 111.67 & $\\dots$ \\\\\n",
       "\t21 & 2019.0 & 10653.4 & 8992.33 & 74.16 & $\\dots$ \\\\\n",
       "\t22 & 2020.0 & 1322.82 & 1394.01 & 88.85 & $\\dots$ \\\\\n",
       "\t23 & 2023.0 & 33403.3 & 39125.4 & 137.6 & $\\dots$ \\\\\n",
       "\t24 & 2023.0 & 30875.3 & 31341.6 & 198.26 & $\\dots$ \\\\\n",
       "\t25 & 2024.0 & 33085.8 & 28923.1 & 37.71 & $\\dots$ \\\\\n",
       "\t26 & 2018.0 & 12336.2 & 10077.9 & 38.86 & $\\dots$ \\\\\n",
       "\t27 & 2021.0 & 5949.18 & 6656.14 & 35.46 & $\\dots$ \\\\\n",
       "\t28 & 2018.0 & 17470.5 & 16267.2 & 73.76 & $\\dots$ \\\\\n",
       "\t29 & 2021.0 & 41676.2 & 43058.3 & 135.22 & $\\dots$ \\\\\n",
       "\t30 & 2018.0 & 20604.3 & 23257.5 & 31.88 & $\\dots$ \\\\\n",
       "\t$\\dots$ & $\\dots$ & $\\dots$ & $\\dots$ & $\\dots$ &  \\\\\n",
       "\\end{tabular}\n"
      ],
      "text/plain": [
       "\u001b[1m5000×6 DataFrame\u001b[0m\n",
       "\u001b[1m  Row \u001b[0m│\u001b[1m Year    \u001b[0m\u001b[1m Total Waste (Tons) \u001b[0m\u001b[1m Economic Loss (Million $) \u001b[0m\u001b[1m Avg Waste per \u001b[0m ⋯\n",
       "      │\u001b[90m Float64 \u001b[0m\u001b[90m Float64            \u001b[0m\u001b[90m Float64                   \u001b[0m\u001b[90m Float64       \u001b[0m ⋯\n",
       "──────┼─────────────────────────────────────────────────────────────────────────\n",
       "    1 │  2019.0            19268.6                    18686.7                  ⋯\n",
       "    2 │  2019.0             3916.97                    4394.48\n",
       "    3 │  2022.0             9700.16                    8909.16\n",
       "    4 │  2023.0            46299.7                    40551.2\n",
       "    5 │  2023.0            33096.6                    36980.8                  ⋯\n",
       "    6 │  2024.0            11962.9                    11196.0\n",
       "    7 │  2024.0            45038.7                    39191.2\n",
       "    8 │  2019.0            12791.2                    12233.3\n",
       "    9 │  2019.0            14795.6                    14347.0                  ⋯\n",
       "   10 │  2019.0            12118.3                    13631.2\n",
       "   11 │  2024.0            39478.7                    40087.3\n",
       "  ⋮   │    ⋮             ⋮                       ⋮                          ⋮  ⋱\n",
       " 4991 │  2021.0            21794.8                    22964.5\n",
       " 4992 │  2019.0            26583.1                    23562.8                  ⋯\n",
       " 4993 │  2018.0            48984.2                    49978.4\n",
       " 4994 │  2021.0            42126.6                    36406.8\n",
       " 4995 │  2023.0            39980.4                    37618.4\n",
       " 4996 │  2021.0            47524.7                    48058.4                  ⋯\n",
       " 4997 │  2021.0            32337.7                    32705.1\n",
       " 4998 │  2018.0            20641.0                    22485.3\n",
       " 4999 │  2021.0            26566.6                    29357.6\n",
       " 5000 │  2024.0             8860.27                    7360.38                 ⋯\n",
       "\u001b[36m                                                 3 columns and 4979 rows omitted\u001b[0m"
      ]
     },
     "execution_count": 72,
     "metadata": {},
     "output_type": "execute_result"
    }
   ],
   "source": [
    "using MLJ\n",
    "X_encoded = coerce(X, autotype(X, :discrete_to_continuous))\n",
    "X_encoded = MLJ.transform(fit!(machine(ContinuousEncoder(), X_encoded)), X_encoded)"
   ]
  },
  {
   "cell_type": "code",
   "execution_count": 73,
   "id": "0558e0d4",
   "metadata": {},
   "outputs": [
    {
     "data": {
      "text/plain": [
       "DataFrame"
      ]
     },
     "execution_count": 73,
     "metadata": {},
     "output_type": "execute_result"
    }
   ],
   "source": [
    "typeof(y) #IT SHOULD BE A VECTOR float64"
   ]
  },
  {
   "cell_type": "code",
   "execution_count": 75,
   "id": "7decb54d",
   "metadata": {},
   "outputs": [
    {
     "data": {
      "text/plain": [
       "5000"
      ]
     },
     "execution_count": 75,
     "metadata": {},
     "output_type": "execute_result"
    }
   ],
   "source": [
    "nrow(X)"
   ]
  },
  {
   "cell_type": "code",
   "execution_count": 77,
   "id": "a7989d5d",
   "metadata": {},
   "outputs": [
    {
     "data": {
      "text/plain": [
       "5000-element Vector{Float64}:\n",
       " 18686.68\n",
       "  4394.48\n",
       "  8909.16\n",
       " 40551.22\n",
       " 36980.82\n",
       " 11196.04\n",
       " 39191.25\n",
       " 12233.28\n",
       " 14346.97\n",
       " 13631.17\n",
       " 40087.26\n",
       " 35437.9\n",
       " 22406.24\n",
       "     ⋮\n",
       " 37349.47\n",
       "  4499.38\n",
       " 22964.45\n",
       " 23562.82\n",
       " 49978.44\n",
       " 36406.75\n",
       " 37618.45\n",
       " 48058.4\n",
       " 32705.08\n",
       " 22485.33\n",
       " 29357.57\n",
       "  7360.38"
      ]
     },
     "execution_count": 77,
     "metadata": {},
     "output_type": "execute_result"
    }
   ],
   "source": [
    "y = global_food_df[!, Symbol(\"Economic Loss (Million \\$)\")] # gives a vector and not dataframe"
   ]
  },
  {
   "cell_type": "code",
   "execution_count": 78,
   "id": "a06fd709",
   "metadata": {},
   "outputs": [],
   "source": [
    "# Linear Regressor\""
   ]
  },
  {
   "cell_type": "code",
   "execution_count": 79,
   "id": "ade1b02d",
   "metadata": {},
   "outputs": [
    {
     "data": {
      "text/plain": [
       "LinearRegressor"
      ]
     },
     "execution_count": 79,
     "metadata": {},
     "output_type": "execute_result"
    }
   ],
   "source": [
    "LReg = @load LinearRegressor pkg = \"MLJLinearModels\" verbosity=0"
   ]
  },
  {
   "cell_type": "code",
   "execution_count": 82,
   "id": "37777062",
   "metadata": {},
   "outputs": [
    {
     "data": {
      "text/plain": [
       "5000-element Vector{Float64}:\n",
       " 18686.68\n",
       "  4394.48\n",
       "  8909.16\n",
       " 40551.22\n",
       " 36980.82\n",
       " 11196.04\n",
       " 39191.25\n",
       " 12233.28\n",
       " 14346.97\n",
       " 13631.17\n",
       " 40087.26\n",
       " 35437.9\n",
       " 22406.24\n",
       "     ⋮\n",
       " 37349.47\n",
       "  4499.38\n",
       " 22964.45\n",
       " 23562.82\n",
       " 49978.44\n",
       " 36406.75\n",
       " 37618.45\n",
       " 48058.4\n",
       " 32705.08\n",
       " 22485.33\n",
       " 29357.57\n",
       "  7360.38"
      ]
     },
     "execution_count": 82,
     "metadata": {},
     "output_type": "execute_result"
    }
   ],
   "source": [
    "X = select(global_food_df, Not([:Country, Symbol(\"Food Category\"), Symbol(\"Economic Loss (Million \\$)\")]))\n",
    "y = global_food_df[!, Symbol(\"Economic Loss (Million \\$)\")]"
   ]
  },
  {
   "cell_type": "code",
   "execution_count": 83,
   "id": "42c8b6e8",
   "metadata": {},
   "outputs": [
    {
     "data": {
      "text/plain": [
       "LinearRegressor(\n",
       "  fit_intercept = true, \n",
       "  solver = nothing)"
      ]
     },
     "execution_count": 83,
     "metadata": {},
     "output_type": "execute_result"
    }
   ],
   "source": [
    "model = LinearRegressor()"
   ]
  },
  {
   "cell_type": "code",
   "execution_count": 84,
   "id": "43d7d5e5",
   "metadata": {},
   "outputs": [
    {
     "data": {
      "text/plain": [
       "untrained Machine; caches model-specific representations of data\n",
       "  model: LinearRegressor(fit_intercept = true, …)\n",
       "  args: \n",
       "    1:\tSource @727 ⏎ Table{AbstractVector{Continuous}}\n",
       "    2:\tSource @542 ⏎ AbstractVector{Continuous}\n"
      ]
     },
     "execution_count": 84,
     "metadata": {},
     "output_type": "execute_result"
    }
   ],
   "source": [
    "mach = machine(model, X, y)"
   ]
  },
  {
   "cell_type": "code",
   "execution_count": 87,
   "id": "a93802d1",
   "metadata": {},
   "outputs": [
    {
     "name": "stderr",
     "output_type": "stream",
     "text": [
      "\u001b[36m\u001b[1m[ \u001b[22m\u001b[39m\u001b[36m\u001b[1mInfo: \u001b[22m\u001b[39mTraining machine(LinearRegressor(fit_intercept = true, …), …).\n",
      "\u001b[36m\u001b[1m┌ \u001b[22m\u001b[39m\u001b[36m\u001b[1mInfo: \u001b[22m\u001b[39mSolver: Analytical\n",
      "\u001b[36m\u001b[1m│ \u001b[22m\u001b[39m  iterative: Bool false\n",
      "\u001b[36m\u001b[1m└ \u001b[22m\u001b[39m  max_inner: Int64 200\n"
     ]
    },
    {
     "data": {
      "text/plain": [
       "trained Machine; caches model-specific representations of data\n",
       "  model: LinearRegressor(fit_intercept = true, …)\n",
       "  args: \n",
       "    1:\tSource @727 ⏎ Table{AbstractVector{Continuous}}\n",
       "    2:\tSource @542 ⏎ AbstractVector{Continuous}\n"
      ]
     },
     "execution_count": 87,
     "metadata": {},
     "output_type": "execute_result"
    }
   ],
   "source": [
    "fit!(mach)"
   ]
  },
  {
   "cell_type": "code",
   "execution_count": 88,
   "id": "58eea87c",
   "metadata": {},
   "outputs": [
    {
     "name": "stderr",
     "output_type": "stream",
     "text": [
      "\u001b[33mEvaluating over 30 folds: 100%[=========================] Time: 0:00:17\u001b[39m\n"
     ]
    },
    {
     "data": {
      "text/plain": [
       "PerformanceEvaluation object with these fields:\n",
       "  model, measure, operation,\n",
       "  measurement, per_fold, per_observation,\n",
       "  fitted_params_per_fold, report_per_fold,\n",
       "  train_test_rows, resampling, repeats\n",
       "Extract:\n",
       "┌────────────────────────┬───────────┬─────────────┐\n",
       "│\u001b[22m measure                \u001b[0m│\u001b[22m operation \u001b[0m│\u001b[22m measurement \u001b[0m│\n",
       "├────────────────────────┼───────────┼─────────────┤\n",
       "│ RootMeanSquaredError() │ predict   │ 3280.0      │\n",
       "└────────────────────────┴───────────┴─────────────┘\n",
       "┌───────────────────────────────────────────────────────────────────────────────\n",
       "│\u001b[22m per_fold                                                                    \u001b[0m ⋯\n",
       "├───────────────────────────────────────────────────────────────────────────────\n",
       "│ [3520.0, 3340.0, 3350.0, 3160.0, 3270.0, 3230.0, 3200.0, 3230.0, 3360.0, 315 ⋯\n",
       "└───────────────────────────────────────────────────────────────────────────────\n",
       "\u001b[36m                                                               2 columns omitted\u001b[0m\n"
      ]
     },
     "execution_count": 88,
     "metadata": {},
     "output_type": "execute_result"
    }
   ],
   "source": [
    "evaluate!(mach, resampling=CV(nfolds=10,shuffle=true,rng=42), measures=[rms], repeats=3)"
   ]
  },
  {
   "cell_type": "code",
   "execution_count": 89,
   "id": "03fd99fb",
   "metadata": {},
   "outputs": [
    {
     "data": {
      "text/plain": [
       "(coefs = [:Year => 10.320487877395252, Symbol(\"Total Waste (Tons)\") => 0.9992239951708126, Symbol(\"Avg Waste per Capita (Kg)\") => -0.9265884744464812, Symbol(\"Population (Million)\") => 0.0008727224743312643, Symbol(\"Household Waste (%)\") => -5.735722369593319],\n",
       " intercept = -20469.878599793796,)"
      ]
     },
     "execution_count": 89,
     "metadata": {},
     "output_type": "execute_result"
    }
   ],
   "source": [
    "fitted_params(mach)"
   ]
  },
  {
   "cell_type": "code",
   "execution_count": 98,
   "id": "4490298d",
   "metadata": {},
   "outputs": [
    {
     "data": {
      "text/plain": [
       "5000-element Vector{Float64}:\n",
       " 19245.922452384417\n",
       "  3928.1666752058954\n",
       "  9661.200360650022\n",
       " 46378.66777174364\n",
       " 33176.4390210799\n",
       " 12034.591978191886\n",
       " 44862.26343642666\n",
       " 12721.829217288207\n",
       " 14693.836444657514\n",
       " 12101.76282493077\n",
       " 39544.32525998222\n",
       " 41153.182662577354\n",
       " 22982.991780694174\n",
       "     ⋮\n",
       " 44194.82753235076\n",
       "  4058.375534867915\n",
       " 21737.945844508802\n",
       " 26631.513249888434\n",
       " 48931.838798771\n",
       " 42112.407862140644\n",
       " 40004.52112756729\n",
       " 47577.02955990721\n",
       " 32149.69005880459\n",
       " 20783.200498059516\n",
       " 26350.91805285123\n",
       "  8913.954000093461"
      ]
     },
     "execution_count": 98,
     "metadata": {},
     "output_type": "execute_result"
    }
   ],
   "source": [
    "# Predict for the training set\n",
    "train_predictions = MLJ.predict(mach, X)"
   ]
  },
  {
   "cell_type": "code",
   "execution_count": 99,
   "id": "e1a1e206",
   "metadata": {},
   "outputs": [
    {
     "data": {
      "text/plain": [
       "5000-element Vector{Float64}:\n",
       " 19245.922452384417\n",
       "  3928.1666752058954\n",
       "  9661.200360650022\n",
       " 46378.66777174364\n",
       " 33176.4390210799\n",
       " 12034.591978191886\n",
       " 44862.26343642666\n",
       " 12721.829217288207\n",
       " 14693.836444657514\n",
       " 12101.76282493077\n",
       " 39544.32525998222\n",
       " 41153.182662577354\n",
       " 22982.991780694174\n",
       "     ⋮\n",
       " 44194.82753235076\n",
       "  4058.375534867915\n",
       " 21737.945844508802\n",
       " 26631.513249888434\n",
       " 48931.838798771\n",
       " 42112.407862140644\n",
       " 40004.52112756729\n",
       " 47577.02955990721\n",
       " 32149.69005880459\n",
       " 20783.200498059516\n",
       " 26350.91805285123\n",
       "  8913.954000093461"
      ]
     },
     "execution_count": 99,
     "metadata": {},
     "output_type": "execute_result"
    }
   ],
   "source": [
    "# Predict for the testing set\n",
    "test_predictions = MLJ.predict(mach, X)"
   ]
  },
  {
   "cell_type": "code",
   "execution_count": 100,
   "id": "52fc9a70",
   "metadata": {},
   "outputs": [
    {
     "name": "stdout",
     "output_type": "stream",
     "text": [
      "Train RMSE: 3278.4279987633668\n"
     ]
    }
   ],
   "source": [
    "#Evaluate the performance \n",
    "train_rmse = rmse(train_predictions, y)\n",
    "println(\"Train RMSE: $train_rmse\")"
   ]
  },
  {
   "cell_type": "code",
   "execution_count": 101,
   "id": "50b2fbc0",
   "metadata": {},
   "outputs": [
    {
     "name": "stdout",
     "output_type": "stream",
     "text": [
      "Test RMSE: 3278.4279987633668\n"
     ]
    }
   ],
   "source": [
    "#Evaluate the performance \n",
    "test_rmse = rmse(test_predictions, y)\n",
    "println(\"Test RMSE: $test_rmse\")"
   ]
  },
  {
   "cell_type": "code",
   "execution_count": null,
   "id": "943b4e6f",
   "metadata": {},
   "outputs": [],
   "source": []
  }
 ],
 "metadata": {
  "kernelspec": {
   "display_name": "Julia 1.10.9",
   "language": "julia",
   "name": "julia-1.10"
  },
  "language_info": {
   "file_extension": ".jl",
   "mimetype": "application/julia",
   "name": "julia",
   "version": "1.10.9"
  }
 },
 "nbformat": 4,
 "nbformat_minor": 5
}
