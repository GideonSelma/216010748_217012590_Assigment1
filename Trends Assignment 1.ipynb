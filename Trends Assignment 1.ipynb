{
 "cells": [
  {
   "cell_type": "code",
   "execution_count": 1,
   "id": "e0c644c0",
   "metadata": {},
   "outputs": [
    {
     "ename": "LoadError",
     "evalue": "UndefVarError: `Pkg` not defined",
     "output_type": "error",
     "traceback": [
      "UndefVarError: `Pkg` not defined",
      "",
      "Stacktrace:",
      " [1] top-level scope",
      "   @ In[1]:1"
     ]
    }
   ],
   "source": [
    "Pkg.add(\"CSV\")"
   ]
  },
  {
   "cell_type": "code",
   "execution_count": 2,
   "id": "9436052f",
   "metadata": {},
   "outputs": [],
   "source": [
    "import Pkg"
   ]
  },
  {
   "cell_type": "code",
   "execution_count": 3,
   "id": "4da90288",
   "metadata": {},
   "outputs": [
    {
     "name": "stderr",
     "output_type": "stream",
     "text": [
      "\u001b[32m\u001b[1m   Resolving\u001b[22m\u001b[39m package versions...\n",
      "\u001b[32m\u001b[1m  No Changes\u001b[22m\u001b[39m to `C:\\Users\\user\\.julia\\environments\\v1.10\\Project.toml`\n",
      "\u001b[32m\u001b[1m  No Changes\u001b[22m\u001b[39m to `C:\\Users\\user\\.julia\\environments\\v1.10\\Manifest.toml`\n",
      "\u001b[32m\u001b[1mPrecompiling\u001b[22m\u001b[39m packages...\n",
      "         \u001b[91m  ✗ \u001b[39mPluto\n",
      " 666314.2 ms\u001b[32m  ✓ \u001b[39mCairoMakie\n",
      "  1 dependency successfully precompiled in 968 seconds. 407 already precompiled.\n",
      "  \u001b[91m1\u001b[39m dependency errored.\n",
      "  For a report of the errors see `julia> err`. To retry use `pkg> precompile`\n"
     ]
    }
   ],
   "source": [
    "Pkg.add(\"CSV\")"
   ]
  },
  {
   "cell_type": "code",
   "execution_count": 4,
   "id": "e51f8893",
   "metadata": {},
   "outputs": [
    {
     "name": "stderr",
     "output_type": "stream",
     "text": [
      "\u001b[32m\u001b[1m   Resolving\u001b[22m\u001b[39m package versions...\n",
      "\u001b[32m\u001b[1m  No Changes\u001b[22m\u001b[39m to `C:\\Users\\user\\.julia\\environments\\v1.10\\Project.toml`\n",
      "\u001b[32m\u001b[1m  No Changes\u001b[22m\u001b[39m to `C:\\Users\\user\\.julia\\environments\\v1.10\\Manifest.toml`\n",
      "\u001b[32m\u001b[1mPrecompiling\u001b[22m\u001b[39m packages...\n",
      "         \u001b[91m  ✗ \u001b[39mPluto\n",
      "  0 dependencies successfully precompiled in 159 seconds. 408 already precompiled.\n",
      "  \u001b[91m1\u001b[39m dependency errored.\n",
      "  For a report of the errors see `julia> err`. To retry use `pkg> precompile`\n"
     ]
    }
   ],
   "source": [
    "Pkg.add(\"DataFrames\")"
   ]
  },
  {
   "cell_type": "code",
   "execution_count": 5,
   "id": "4fe9a4e3",
   "metadata": {},
   "outputs": [
    {
     "name": "stderr",
     "output_type": "stream",
     "text": [
      "\u001b[32m\u001b[1m   Resolving\u001b[22m\u001b[39m package versions...\n",
      "\u001b[32m\u001b[1m  No Changes\u001b[22m\u001b[39m to `C:\\Users\\user\\.julia\\environments\\v1.10\\Project.toml`\n",
      "\u001b[32m\u001b[1m  No Changes\u001b[22m\u001b[39m to `C:\\Users\\user\\.julia\\environments\\v1.10\\Manifest.toml`\n",
      "\u001b[32m\u001b[1mPrecompiling\u001b[22m\u001b[39m packages...\n",
      "         \u001b[91m  ✗ \u001b[39mPluto\n",
      "  0 dependencies successfully precompiled in 153 seconds. 408 already precompiled.\n",
      "  \u001b[91m1\u001b[39m dependency errored.\n",
      "  For a report of the errors see `julia> err`. To retry use `pkg> precompile`\n"
     ]
    }
   ],
   "source": [
    "Pkg.add(\"MLJ\")"
   ]
  },
  {
   "cell_type": "code",
   "execution_count": 6,
   "id": "a78c1b8e",
   "metadata": {},
   "outputs": [
    {
     "name": "stderr",
     "output_type": "stream",
     "text": [
      "\u001b[32m\u001b[1m   Resolving\u001b[22m\u001b[39m package versions...\n",
      "\u001b[32m\u001b[1m  No Changes\u001b[22m\u001b[39m to `C:\\Users\\user\\.julia\\environments\\v1.10\\Project.toml`\n",
      "\u001b[32m\u001b[1m  No Changes\u001b[22m\u001b[39m to `C:\\Users\\user\\.julia\\environments\\v1.10\\Manifest.toml`\n",
      "\u001b[32m\u001b[1mPrecompiling\u001b[22m\u001b[39m packages...\n",
      "         \u001b[91m  ✗ \u001b[39mPluto\n",
      "  0 dependencies successfully precompiled in 231 seconds. 408 already precompiled.\n",
      "  \u001b[91m1\u001b[39m dependency errored.\n",
      "  For a report of the errors see `julia> err`. To retry use `pkg> precompile`\n"
     ]
    }
   ],
   "source": [
    "Pkg.add(\"MLJLinearModels\")"
   ]
  },
  {
   "cell_type": "code",
   "execution_count": 7,
   "id": "ac52ad9d",
   "metadata": {},
   "outputs": [
    {
     "name": "stderr",
     "output_type": "stream",
     "text": [
      "\u001b[32m\u001b[1m   Resolving\u001b[22m\u001b[39m package versions...\n",
      "\u001b[32m\u001b[1m  No Changes\u001b[22m\u001b[39m to `C:\\Users\\user\\.julia\\environments\\v1.10\\Project.toml`\n",
      "\u001b[32m\u001b[1m  No Changes\u001b[22m\u001b[39m to `C:\\Users\\user\\.julia\\environments\\v1.10\\Manifest.toml`\n",
      "\u001b[32m\u001b[1mPrecompiling\u001b[22m\u001b[39m packages...\n",
      "         \u001b[91m  ✗ \u001b[39mPluto\n",
      "  0 dependencies successfully precompiled in 122 seconds. 408 already precompiled.\n",
      "  \u001b[91m1\u001b[39m dependency errored.\n",
      "  For a report of the errors see `julia> err`. To retry use `pkg> precompile`\n"
     ]
    }
   ],
   "source": [
    "Pkg.add(\"GLM\")"
   ]
  },
  {
   "cell_type": "code",
   "execution_count": 8,
   "id": "52872879",
   "metadata": {},
   "outputs": [
    {
     "name": "stderr",
     "output_type": "stream",
     "text": [
      "\u001b[32m\u001b[1m   Resolving\u001b[22m\u001b[39m package versions...\n",
      "\u001b[32m\u001b[1m  No Changes\u001b[22m\u001b[39m to `C:\\Users\\user\\.julia\\environments\\v1.10\\Project.toml`\n",
      "\u001b[32m\u001b[1m  No Changes\u001b[22m\u001b[39m to `C:\\Users\\user\\.julia\\environments\\v1.10\\Manifest.toml`\n",
      "\u001b[32m\u001b[1mPrecompiling\u001b[22m\u001b[39m packages...\n",
      "         \u001b[91m  ✗ \u001b[39mPluto\n",
      "  0 dependencies successfully precompiled in 129 seconds. 408 already precompiled.\n",
      "  \u001b[91m1\u001b[39m dependency errored.\n",
      "  For a report of the errors see `julia> err`. To retry use `pkg> precompile`\n"
     ]
    }
   ],
   "source": [
    "Pkg.add(\"ScientificTypes\") "
   ]
  },
  {
   "cell_type": "code",
   "execution_count": 9,
   "id": "962a8e4f",
   "metadata": {},
   "outputs": [
    {
     "name": "stderr",
     "output_type": "stream",
     "text": [
      "\u001b[32m\u001b[1m   Resolving\u001b[22m\u001b[39m package versions...\n",
      "\u001b[32m\u001b[1m  No Changes\u001b[22m\u001b[39m to `C:\\Users\\user\\.julia\\environments\\v1.10\\Project.toml`\n",
      "\u001b[32m\u001b[1m  No Changes\u001b[22m\u001b[39m to `C:\\Users\\user\\.julia\\environments\\v1.10\\Manifest.toml`\n",
      "\u001b[32m\u001b[1mPrecompiling\u001b[22m\u001b[39m packages...\n",
      "         \u001b[91m  ✗ \u001b[39mPluto\n",
      "  0 dependencies successfully precompiled in 124 seconds. 408 already precompiled.\n",
      "  \u001b[91m1\u001b[39m dependency errored.\n",
      "  For a report of the errors see `julia> err`. To retry use `pkg> precompile`\n"
     ]
    }
   ],
   "source": [
    "Pkg.add(\"Statistics\") "
   ]
  },
  {
   "cell_type": "code",
   "execution_count": 10,
   "id": "9f5aa77f",
   "metadata": {},
   "outputs": [
    {
     "name": "stderr",
     "output_type": "stream",
     "text": [
      "\u001b[32m\u001b[1m   Resolving\u001b[22m\u001b[39m package versions...\n",
      "\u001b[32m\u001b[1m  No Changes\u001b[22m\u001b[39m to `C:\\Users\\user\\.julia\\environments\\v1.10\\Project.toml`\n",
      "\u001b[32m\u001b[1m  No Changes\u001b[22m\u001b[39m to `C:\\Users\\user\\.julia\\environments\\v1.10\\Manifest.toml`\n",
      "\u001b[32m\u001b[1mPrecompiling\u001b[22m\u001b[39m packages...\n",
      "         \u001b[91m  ✗ \u001b[39mPluto\n",
      "  0 dependencies successfully precompiled in 129 seconds. 408 already precompiled.\n",
      "  \u001b[91m1\u001b[39m dependency errored.\n",
      "  For a report of the errors see `julia> err`. To retry use `pkg> precompile`\n"
     ]
    }
   ],
   "source": [
    "Pkg.add(\"CairoMakie\") "
   ]
  },
  {
   "cell_type": "code",
   "execution_count": 11,
   "id": "04871da7",
   "metadata": {},
   "outputs": [
    {
     "ename": "LoadError",
     "evalue": "The following package names could not be resolved:\n * DataframesMeta (not found in project, manifest or registry)\n\u001b[36m   Suggestions:\u001b[39m \u001b[0m\u001b[1mD\u001b[22m\u001b[0m\u001b[1ma\u001b[22m\u001b[0m\u001b[1mt\u001b[22m\u001b[0m\u001b[1ma\u001b[22m\u001b[0m\u001b[1mF\u001b[22m\u001b[0m\u001b[1mr\u001b[22m\u001b[0m\u001b[1ma\u001b[22m\u001b[0m\u001b[1mm\u001b[22m\u001b[0m\u001b[1me\u001b[22m\u001b[0m\u001b[1ms\u001b[22m\u001b[0m\u001b[1mM\u001b[22m\u001b[0m\u001b[1me\u001b[22m\u001b[0m\u001b[1mt\u001b[22m\u001b[0m\u001b[1ma\u001b[22m \u001b[0m\u001b[1mD\u001b[22m\u001b[0m\u001b[1ma\u001b[22m\u001b[0m\u001b[1mt\u001b[22m\u001b[0m\u001b[1ma\u001b[22m\u001b[0m\u001b[1mF\u001b[22m\u001b[0m\u001b[1mr\u001b[22m\u001b[0m\u001b[1ma\u001b[22m\u001b[0m\u001b[1mm\u001b[22m\u001b[0m\u001b[1me\u001b[22m\u001b[0m\u001b[1ms\u001b[22m Geo\u001b[0m\u001b[1mD\u001b[22m\u001b[0m\u001b[1ma\u001b[22m\u001b[0m\u001b[1mt\u001b[22m\u001b[0m\u001b[1ma\u001b[22m\u001b[0m\u001b[1mF\u001b[22m\u001b[0m\u001b[1mr\u001b[22m\u001b[0m\u001b[1ma\u001b[22m\u001b[0m\u001b[1mm\u001b[22m\u001b[0m\u001b[1me\u001b[22m\u001b[0m\u001b[1ms\u001b[22m Time\u001b[0m\u001b[1mD\u001b[22m\u001b[0m\u001b[1ma\u001b[22m\u001b[0m\u001b[1mt\u001b[22m\u001b[0m\u001b[1ma\u001b[22m\u001b[0m\u001b[1mF\u001b[22m\u001b[0m\u001b[1mr\u001b[22m\u001b[0m\u001b[1ma\u001b[22m\u001b[0m\u001b[1mm\u001b[22m\u001b[0m\u001b[1me\u001b[22m\u001b[0m\u001b[1ms\u001b[22m",
     "output_type": "error",
     "traceback": [
      "The following package names could not be resolved:\n * DataframesMeta (not found in project, manifest or registry)\n\u001b[36m   Suggestions:\u001b[39m \u001b[0m\u001b[1mD\u001b[22m\u001b[0m\u001b[1ma\u001b[22m\u001b[0m\u001b[1mt\u001b[22m\u001b[0m\u001b[1ma\u001b[22m\u001b[0m\u001b[1mF\u001b[22m\u001b[0m\u001b[1mr\u001b[22m\u001b[0m\u001b[1ma\u001b[22m\u001b[0m\u001b[1mm\u001b[22m\u001b[0m\u001b[1me\u001b[22m\u001b[0m\u001b[1ms\u001b[22m\u001b[0m\u001b[1mM\u001b[22m\u001b[0m\u001b[1me\u001b[22m\u001b[0m\u001b[1mt\u001b[22m\u001b[0m\u001b[1ma\u001b[22m \u001b[0m\u001b[1mD\u001b[22m\u001b[0m\u001b[1ma\u001b[22m\u001b[0m\u001b[1mt\u001b[22m\u001b[0m\u001b[1ma\u001b[22m\u001b[0m\u001b[1mF\u001b[22m\u001b[0m\u001b[1mr\u001b[22m\u001b[0m\u001b[1ma\u001b[22m\u001b[0m\u001b[1mm\u001b[22m\u001b[0m\u001b[1me\u001b[22m\u001b[0m\u001b[1ms\u001b[22m Geo\u001b[0m\u001b[1mD\u001b[22m\u001b[0m\u001b[1ma\u001b[22m\u001b[0m\u001b[1mt\u001b[22m\u001b[0m\u001b[1ma\u001b[22m\u001b[0m\u001b[1mF\u001b[22m\u001b[0m\u001b[1mr\u001b[22m\u001b[0m\u001b[1ma\u001b[22m\u001b[0m\u001b[1mm\u001b[22m\u001b[0m\u001b[1me\u001b[22m\u001b[0m\u001b[1ms\u001b[22m Time\u001b[0m\u001b[1mD\u001b[22m\u001b[0m\u001b[1ma\u001b[22m\u001b[0m\u001b[1mt\u001b[22m\u001b[0m\u001b[1ma\u001b[22m\u001b[0m\u001b[1mF\u001b[22m\u001b[0m\u001b[1mr\u001b[22m\u001b[0m\u001b[1ma\u001b[22m\u001b[0m\u001b[1mm\u001b[22m\u001b[0m\u001b[1me\u001b[22m\u001b[0m\u001b[1ms\u001b[22m",
      "",
      "Stacktrace:",
      " [1] pkgerror(msg::String)",
      "   @ Pkg.Types C:\\Users\\user\\AppData\\Local\\Programs\\Julia-1.10.9\\share\\julia\\stdlib\\v1.10\\Pkg\\src\\Types.jl:70",
      " [2] ensure_resolved(ctx::Pkg.Types.Context, manifest::Pkg.Types.Manifest, pkgs::Vector{Pkg.Types.PackageSpec}; registry::Bool)",
      "   @ Pkg.Types C:\\Users\\user\\AppData\\Local\\Programs\\Julia-1.10.9\\share\\julia\\stdlib\\v1.10\\Pkg\\src\\Types.jl:1045",
      " [3] ensure_resolved",
      "   @ C:\\Users\\user\\AppData\\Local\\Programs\\Julia-1.10.9\\share\\julia\\stdlib\\v1.10\\Pkg\\src\\Types.jl:996 [inlined]",
      " [4] add(ctx::Pkg.Types.Context, pkgs::Vector{Pkg.Types.PackageSpec}; preserve::Pkg.Types.PreserveLevel, platform::Base.BinaryPlatforms.Platform, kwargs::@Kwargs{io::IJulia.IJuliaStdio{Base.PipeEndpoint}})",
      "   @ Pkg.API C:\\Users\\user\\AppData\\Local\\Programs\\Julia-1.10.9\\share\\julia\\stdlib\\v1.10\\Pkg\\src\\API.jl:267",
      " [5] add(pkgs::Vector{Pkg.Types.PackageSpec}; io::IJulia.IJuliaStdio{Base.PipeEndpoint}, kwargs::@Kwargs{})",
      "   @ Pkg.API C:\\Users\\user\\AppData\\Local\\Programs\\Julia-1.10.9\\share\\julia\\stdlib\\v1.10\\Pkg\\src\\API.jl:159",
      " [6] add(pkgs::Vector{Pkg.Types.PackageSpec})",
      "   @ Pkg.API C:\\Users\\user\\AppData\\Local\\Programs\\Julia-1.10.9\\share\\julia\\stdlib\\v1.10\\Pkg\\src\\API.jl:148",
      " [7] add",
      "   @ C:\\Users\\user\\AppData\\Local\\Programs\\Julia-1.10.9\\share\\julia\\stdlib\\v1.10\\Pkg\\src\\API.jl:147 [inlined]",
      " [8] add(pkg::String)",
      "   @ Pkg.API C:\\Users\\user\\AppData\\Local\\Programs\\Julia-1.10.9\\share\\julia\\stdlib\\v1.10\\Pkg\\src\\API.jl:146",
      " [9] top-level scope",
      "   @ In[11]:1"
     ]
    }
   ],
   "source": [
    "Pkg.add(\"DataframesMeta\") "
   ]
  },
  {
   "cell_type": "code",
   "execution_count": 12,
   "id": "683c20d4",
   "metadata": {},
   "outputs": [
    {
     "name": "stderr",
     "output_type": "stream",
     "text": [
      "\u001b[32m\u001b[1m   Resolving\u001b[22m\u001b[39m package versions...\n",
      "\u001b[32m\u001b[1m    Updating\u001b[22m\u001b[39m `C:\\Users\\user\\.julia\\environments\\v1.10\\Project.toml`\n",
      "  \u001b[90m[9a3f8284] \u001b[39m\u001b[92m+ Random\u001b[39m\n",
      "\u001b[32m\u001b[1m  No Changes\u001b[22m\u001b[39m to `C:\\Users\\user\\.julia\\environments\\v1.10\\Manifest.toml`\n",
      "\u001b[32m\u001b[1mPrecompiling\u001b[22m\u001b[39m packages...\n",
      "         \u001b[91m  ✗ \u001b[39mPluto\n",
      "  0 dependencies successfully precompiled in 130 seconds. 408 already precompiled.\n",
      "  \u001b[91m1\u001b[39m dependency errored.\n",
      "  For a report of the errors see `julia> err`. To retry use `pkg> precompile`\n"
     ]
    }
   ],
   "source": [
    "Pkg.add(\"Random\")"
   ]
  },
  {
   "cell_type": "code",
   "execution_count": 17,
   "id": "79c494c2",
   "metadata": {},
   "outputs": [
    {
     "ename": "LoadError",
     "evalue": "ParseError:\n\u001b[90m# Error @ \u001b[0;0m\u001b]8;;file://C:/Users/user/In[17]#2:43\u001b\\\u001b[90mIn[17]:2:43\u001b[0;0m\u001b]8;;\u001b\\\nusing CSV, DataFrames\nglobal_food_wastage_dataset = CSV.read(\"C:\u001b[48;2;120;70;70m\\U\u001b[0;0msers\\user\\Documents\\global_food_wastage_dataset.csv\", DataFrame)\n\u001b[90m#                                         └┘ ── \u001b[0;0m\u001b[91minvalid unicode escape sequence\u001b[0;0m",
     "output_type": "error",
     "traceback": [
      "ParseError:\n\u001b[90m# Error @ \u001b[0;0m\u001b]8;;file://C:/Users/user/In[17]#2:43\u001b\\\u001b[90mIn[17]:2:43\u001b[0;0m\u001b]8;;\u001b\\\nusing CSV, DataFrames\nglobal_food_wastage_dataset = CSV.read(\"C:\u001b[48;2;120;70;70m\\U\u001b[0;0msers\\user\\Documents\\global_food_wastage_dataset.csv\", DataFrame)\n\u001b[90m#                                         └┘ ── \u001b[0;0m\u001b[91minvalid unicode escape sequence\u001b[0;0m",
      "",
      "Stacktrace:",
      " [1] top-level scope",
      "   @ In[17]:2"
     ]
    }
   ],
   "source": [
    "using CSV, DataFrames\n",
    "global_food_wastage_dataset = CSV.read(\"C:\\Users\\user\\Documents\\global_food_wastage_dataset.csv\", DataFrame)"
   ]
  },
  {
   "cell_type": "code",
   "execution_count": 18,
   "id": "cae04cd7",
   "metadata": {},
   "outputs": [
    {
     "data": {
      "text/html": [
       "<div><div style = \"float: left;\"><span>5000×8 DataFrame</span></div><div style = \"float: right;\"><span style = \"font-style: italic;\">4975 rows omitted</span></div><div style = \"clear: both;\"></div></div><div class = \"data-frame\" style = \"overflow-x: scroll;\"><table class = \"data-frame\" style = \"margin-bottom: 6px;\"><thead><tr class = \"header\"><th class = \"rowNumber\" style = \"font-weight: bold; text-align: right;\">Row</th><th style = \"text-align: left;\">Country</th><th style = \"text-align: left;\">Year</th><th style = \"text-align: left;\">Food Category</th><th style = \"text-align: left;\">Total Waste (Tons)</th><th style = \"text-align: left;\">Economic Loss (Million $)</th><th style = \"text-align: left;\">Avg Waste per Capita (Kg)</th><th style = \"text-align: left;\">Population (Million)</th><th style = \"text-align: left;\">Household Waste (%)</th></tr><tr class = \"subheader headerLastRow\"><th class = \"rowNumber\" style = \"font-weight: bold; text-align: right;\"></th><th title = \"String15\" style = \"text-align: left;\">String15</th><th title = \"Int32\" style = \"text-align: left;\">Int32</th><th title = \"String31\" style = \"text-align: left;\">String31</th><th title = \"Float64\" style = \"text-align: left;\">Float64</th><th title = \"Float64\" style = \"text-align: left;\">Float64</th><th title = \"Float64\" style = \"text-align: left;\">Float64</th><th title = \"Float64\" style = \"text-align: left;\">Float64</th><th title = \"Float64\" style = \"text-align: left;\">Float64</th></tr></thead><tbody><tr><td class = \"rowNumber\" style = \"font-weight: bold; text-align: right;\">1</td><td style = \"text-align: left;\">Australia</td><td style = \"text-align: right;\">2019</td><td style = \"text-align: left;\">Fruits &amp; Vegetables</td><td style = \"text-align: right;\">19268.6</td><td style = \"text-align: right;\">18686.7</td><td style = \"text-align: right;\">72.69</td><td style = \"text-align: right;\">87.59</td><td style = \"text-align: right;\">53.64</td></tr><tr><td class = \"rowNumber\" style = \"font-weight: bold; text-align: right;\">2</td><td style = \"text-align: left;\">Indonesia</td><td style = \"text-align: right;\">2019</td><td style = \"text-align: left;\">Prepared Food</td><td style = \"text-align: right;\">3916.97</td><td style = \"text-align: right;\">4394.48</td><td style = \"text-align: right;\">192.52</td><td style = \"text-align: right;\">1153.99</td><td style = \"text-align: right;\">30.61</td></tr><tr><td class = \"rowNumber\" style = \"font-weight: bold; text-align: right;\">3</td><td style = \"text-align: left;\">Germany</td><td style = \"text-align: right;\">2022</td><td style = \"text-align: left;\">Dairy Products</td><td style = \"text-align: right;\">9700.16</td><td style = \"text-align: right;\">8909.16</td><td style = \"text-align: right;\">166.94</td><td style = \"text-align: right;\">1006.11</td><td style = \"text-align: right;\">48.08</td></tr><tr><td class = \"rowNumber\" style = \"font-weight: bold; text-align: right;\">4</td><td style = \"text-align: left;\">France</td><td style = \"text-align: right;\">2023</td><td style = \"text-align: left;\">Fruits &amp; Vegetables</td><td style = \"text-align: right;\">46299.7</td><td style = \"text-align: right;\">40551.2</td><td style = \"text-align: right;\">120.19</td><td style = \"text-align: right;\">953.05</td><td style = \"text-align: right;\">31.91</td></tr><tr><td class = \"rowNumber\" style = \"font-weight: bold; text-align: right;\">5</td><td style = \"text-align: left;\">France</td><td style = \"text-align: right;\">2023</td><td style = \"text-align: left;\">Beverages</td><td style = \"text-align: right;\">33096.6</td><td style = \"text-align: right;\">36980.8</td><td style = \"text-align: right;\">104.74</td><td style = \"text-align: right;\">1105.47</td><td style = \"text-align: right;\">36.06</td></tr><tr><td class = \"rowNumber\" style = \"font-weight: bold; text-align: right;\">6</td><td style = \"text-align: left;\">India</td><td style = \"text-align: right;\">2024</td><td style = \"text-align: left;\">Fruits &amp; Vegetables</td><td style = \"text-align: right;\">11962.9</td><td style = \"text-align: right;\">11196.0</td><td style = \"text-align: right;\">136.21</td><td style = \"text-align: right;\">1311.91</td><td style = \"text-align: right;\">37.09</td></tr><tr><td class = \"rowNumber\" style = \"font-weight: bold; text-align: right;\">7</td><td style = \"text-align: left;\">Germany</td><td style = \"text-align: right;\">2024</td><td style = \"text-align: left;\">Prepared Food</td><td style = \"text-align: right;\">45038.7</td><td style = \"text-align: right;\">39191.2</td><td style = \"text-align: right;\">179.27</td><td style = \"text-align: right;\">1349.45</td><td style = \"text-align: right;\">68.93</td></tr><tr><td class = \"rowNumber\" style = \"font-weight: bold; text-align: right;\">8</td><td style = \"text-align: left;\">China</td><td style = \"text-align: right;\">2019</td><td style = \"text-align: left;\">Fruits &amp; Vegetables</td><td style = \"text-align: right;\">12791.2</td><td style = \"text-align: right;\">12233.3</td><td style = \"text-align: right;\">90.8</td><td style = \"text-align: right;\">1229.29</td><td style = \"text-align: right;\">59.9</td></tr><tr><td class = \"rowNumber\" style = \"font-weight: bold; text-align: right;\">9</td><td style = \"text-align: left;\">UK</td><td style = \"text-align: right;\">2019</td><td style = \"text-align: left;\">Meat &amp; Seafood</td><td style = \"text-align: right;\">14795.6</td><td style = \"text-align: right;\">14347.0</td><td style = \"text-align: right;\">128.91</td><td style = \"text-align: right;\">450.33</td><td style = \"text-align: right;\">59.01</td></tr><tr><td class = \"rowNumber\" style = \"font-weight: bold; text-align: right;\">10</td><td style = \"text-align: left;\">India</td><td style = \"text-align: right;\">2019</td><td style = \"text-align: left;\">Grains &amp; Cereals</td><td style = \"text-align: right;\">12118.3</td><td style = \"text-align: right;\">13631.2</td><td style = \"text-align: right;\">141.75</td><td style = \"text-align: right;\">359.26</td><td style = \"text-align: right;\">42.42</td></tr><tr><td class = \"rowNumber\" style = \"font-weight: bold; text-align: right;\">11</td><td style = \"text-align: left;\">South Africa</td><td style = \"text-align: right;\">2024</td><td style = \"text-align: left;\">Frozen Food</td><td style = \"text-align: right;\">39478.7</td><td style = \"text-align: right;\">40087.3</td><td style = \"text-align: right;\">155.55</td><td style = \"text-align: right;\">375.84</td><td style = \"text-align: right;\">31.16</td></tr><tr><td class = \"rowNumber\" style = \"font-weight: bold; text-align: right;\">12</td><td style = \"text-align: left;\">Japan</td><td style = \"text-align: right;\">2022</td><td style = \"text-align: left;\">Frozen Food</td><td style = \"text-align: right;\">41025.9</td><td style = \"text-align: right;\">35437.9</td><td style = \"text-align: right;\">49.95</td><td style = \"text-align: right;\">1219.43</td><td style = \"text-align: right;\">33.79</td></tr><tr><td class = \"rowNumber\" style = \"font-weight: bold; text-align: right;\">13</td><td style = \"text-align: left;\">USA</td><td style = \"text-align: right;\">2024</td><td style = \"text-align: left;\">Beverages</td><td style = \"text-align: right;\">22924.8</td><td style = \"text-align: right;\">22406.2</td><td style = \"text-align: right;\">89.59</td><td style = \"text-align: right;\">836.05</td><td style = \"text-align: right;\">45.43</td></tr><tr><td style = \"text-align: right;\">&vellip;</td><td style = \"text-align: right;\">&vellip;</td><td style = \"text-align: right;\">&vellip;</td><td style = \"text-align: right;\">&vellip;</td><td style = \"text-align: right;\">&vellip;</td><td style = \"text-align: right;\">&vellip;</td><td style = \"text-align: right;\">&vellip;</td><td style = \"text-align: right;\">&vellip;</td><td style = \"text-align: right;\">&vellip;</td></tr><tr><td class = \"rowNumber\" style = \"font-weight: bold; text-align: right;\">4989</td><td style = \"text-align: left;\">Saudi Arabia</td><td style = \"text-align: right;\">2019</td><td style = \"text-align: left;\">Fruits &amp; Vegetables</td><td style = \"text-align: right;\">44319.6</td><td style = \"text-align: right;\">37349.5</td><td style = \"text-align: right;\">113.72</td><td style = \"text-align: right;\">1378.23</td><td style = \"text-align: right;\">61.61</td></tr><tr><td class = \"rowNumber\" style = \"font-weight: bold; text-align: right;\">4990</td><td style = \"text-align: left;\">South Africa</td><td style = \"text-align: right;\">2022</td><td style = \"text-align: left;\">Meat &amp; Seafood</td><td style = \"text-align: right;\">3925.48</td><td style = \"text-align: right;\">4499.38</td><td style = \"text-align: right;\">47.21</td><td style = \"text-align: right;\">79.18</td><td style = \"text-align: right;\">38.1</td></tr><tr><td class = \"rowNumber\" style = \"font-weight: bold; text-align: right;\">4991</td><td style = \"text-align: left;\">UK</td><td style = \"text-align: right;\">2021</td><td style = \"text-align: left;\">Frozen Food</td><td style = \"text-align: right;\">21794.8</td><td style = \"text-align: right;\">22964.5</td><td style = \"text-align: right;\">90.37</td><td style = \"text-align: right;\">726.54</td><td style = \"text-align: right;\">60.1</td></tr><tr><td class = \"rowNumber\" style = \"font-weight: bold; text-align: right;\">4992</td><td style = \"text-align: left;\">France</td><td style = \"text-align: right;\">2019</td><td style = \"text-align: left;\">Meat &amp; Seafood</td><td style = \"text-align: right;\">26583.1</td><td style = \"text-align: right;\">23562.8</td><td style = \"text-align: right;\">125.57</td><td style = \"text-align: right;\">571.09</td><td style = \"text-align: right;\">31.78</td></tr><tr><td class = \"rowNumber\" style = \"font-weight: bold; text-align: right;\">4993</td><td style = \"text-align: left;\">China</td><td style = \"text-align: right;\">2018</td><td style = \"text-align: left;\">Grains &amp; Cereals</td><td style = \"text-align: right;\">48984.2</td><td style = \"text-align: right;\">49978.4</td><td style = \"text-align: right;\">28.07</td><td style = \"text-align: right;\">1380.08</td><td style = \"text-align: right;\">60.39</td></tr><tr><td class = \"rowNumber\" style = \"font-weight: bold; text-align: right;\">4994</td><td style = \"text-align: left;\">France</td><td style = \"text-align: right;\">2021</td><td style = \"text-align: left;\">Grains &amp; Cereals</td><td style = \"text-align: right;\">42126.6</td><td style = \"text-align: right;\">36406.8</td><td style = \"text-align: right;\">144.3</td><td style = \"text-align: right;\">1138.46</td><td style = \"text-align: right;\">41.26</td></tr><tr><td class = \"rowNumber\" style = \"font-weight: bold; text-align: right;\">4995</td><td style = \"text-align: left;\">Indonesia</td><td style = \"text-align: right;\">2023</td><td style = \"text-align: left;\">Prepared Food</td><td style = \"text-align: right;\">39980.4</td><td style = \"text-align: right;\">37618.4</td><td style = \"text-align: right;\">32.34</td><td style = \"text-align: right;\">27.08</td><td style = \"text-align: right;\">56.38</td></tr><tr><td class = \"rowNumber\" style = \"font-weight: bold; text-align: right;\">4996</td><td style = \"text-align: left;\">France</td><td style = \"text-align: right;\">2021</td><td style = \"text-align: left;\">Beverages</td><td style = \"text-align: right;\">47524.7</td><td style = \"text-align: right;\">48058.4</td><td style = \"text-align: right;\">77.41</td><td style = \"text-align: right;\">1087.46</td><td style = \"text-align: right;\">39.73</td></tr><tr><td class = \"rowNumber\" style = \"font-weight: bold; text-align: right;\">4997</td><td style = \"text-align: left;\">Australia</td><td style = \"text-align: right;\">2021</td><td style = \"text-align: left;\">Beverages</td><td style = \"text-align: right;\">32337.7</td><td style = \"text-align: right;\">32705.1</td><td style = \"text-align: right;\">194.35</td><td style = \"text-align: right;\">1336.32</td><td style = \"text-align: right;\">64.83</td></tr><tr><td class = \"rowNumber\" style = \"font-weight: bold; text-align: right;\">4998</td><td style = \"text-align: left;\">China</td><td style = \"text-align: right;\">2018</td><td style = \"text-align: left;\">Meat &amp; Seafood</td><td style = \"text-align: right;\">20641.0</td><td style = \"text-align: right;\">22485.3</td><td style = \"text-align: right;\">21.04</td><td style = \"text-align: right;\">16.13</td><td style = \"text-align: right;\">31.23</td></tr><tr><td class = \"rowNumber\" style = \"font-weight: bold; text-align: right;\">4999</td><td style = \"text-align: left;\">Australia</td><td style = \"text-align: right;\">2021</td><td style = \"text-align: left;\">Beverages</td><td style = \"text-align: right;\">26566.6</td><td style = \"text-align: right;\">29357.6</td><td style = \"text-align: right;\">197.14</td><td style = \"text-align: right;\">1086.17</td><td style = \"text-align: right;\">69.95</td></tr><tr><td class = \"rowNumber\" style = \"font-weight: bold; text-align: right;\">5000</td><td style = \"text-align: left;\">France</td><td style = \"text-align: right;\">2024</td><td style = \"text-align: left;\">Bakery Items</td><td style = \"text-align: right;\">8860.27</td><td style = \"text-align: right;\">7360.38</td><td style = \"text-align: right;\">51.5</td><td style = \"text-align: right;\">879.67</td><td style = \"text-align: right;\">54.27</td></tr></tbody></table></div>"
      ],
      "text/latex": [
       "\\begin{tabular}{r|cccccc}\n",
       "\t& Country & Year & Food Category & Total Waste (Tons) & Economic Loss (Million \\$) & \\\\\n",
       "\t\\hline\n",
       "\t& String15 & Int32 & String31 & Float64 & Float64 & \\\\\n",
       "\t\\hline\n",
       "\t1 & Australia & 2019 & Fruits \\& Vegetables & 19268.6 & 18686.7 & $\\dots$ \\\\\n",
       "\t2 & Indonesia & 2019 & Prepared Food & 3916.97 & 4394.48 & $\\dots$ \\\\\n",
       "\t3 & Germany & 2022 & Dairy Products & 9700.16 & 8909.16 & $\\dots$ \\\\\n",
       "\t4 & France & 2023 & Fruits \\& Vegetables & 46299.7 & 40551.2 & $\\dots$ \\\\\n",
       "\t5 & France & 2023 & Beverages & 33096.6 & 36980.8 & $\\dots$ \\\\\n",
       "\t6 & India & 2024 & Fruits \\& Vegetables & 11962.9 & 11196.0 & $\\dots$ \\\\\n",
       "\t7 & Germany & 2024 & Prepared Food & 45038.7 & 39191.2 & $\\dots$ \\\\\n",
       "\t8 & China & 2019 & Fruits \\& Vegetables & 12791.2 & 12233.3 & $\\dots$ \\\\\n",
       "\t9 & UK & 2019 & Meat \\& Seafood & 14795.6 & 14347.0 & $\\dots$ \\\\\n",
       "\t10 & India & 2019 & Grains \\& Cereals & 12118.3 & 13631.2 & $\\dots$ \\\\\n",
       "\t11 & South Africa & 2024 & Frozen Food & 39478.7 & 40087.3 & $\\dots$ \\\\\n",
       "\t12 & Japan & 2022 & Frozen Food & 41025.9 & 35437.9 & $\\dots$ \\\\\n",
       "\t13 & USA & 2024 & Beverages & 22924.8 & 22406.2 & $\\dots$ \\\\\n",
       "\t14 & France & 2018 & Beverages & 29295.1 & 34102.2 & $\\dots$ \\\\\n",
       "\t15 & USA & 2022 & Bakery Items & 32458.0 & 27905.8 & $\\dots$ \\\\\n",
       "\t16 & USA & 2021 & Meat \\& Seafood & 43264.3 & 44777.9 & $\\dots$ \\\\\n",
       "\t17 & Brazil & 2021 & Frozen Food & 23131.1 & 21882.7 & $\\dots$ \\\\\n",
       "\t18 & Saudi Arabia & 2020 & Prepared Food & 18483.8 & 21071.7 & $\\dots$ \\\\\n",
       "\t19 & UK & 2022 & Meat \\& Seafood & 25829.6 & 20806.3 & $\\dots$ \\\\\n",
       "\t20 & China & 2018 & Prepared Food & 11314.1 & 10287.7 & $\\dots$ \\\\\n",
       "\t21 & Saudi Arabia & 2019 & Fruits \\& Vegetables & 10653.4 & 8992.33 & $\\dots$ \\\\\n",
       "\t22 & Australia & 2020 & Fruits \\& Vegetables & 1322.82 & 1394.01 & $\\dots$ \\\\\n",
       "\t23 & India & 2023 & Meat \\& Seafood & 33403.3 & 39125.4 & $\\dots$ \\\\\n",
       "\t24 & Italy & 2023 & Fruits \\& Vegetables & 30875.3 & 31341.6 & $\\dots$ \\\\\n",
       "\t25 & Saudi Arabia & 2024 & Prepared Food & 33085.8 & 28923.1 & $\\dots$ \\\\\n",
       "\t26 & Germany & 2018 & Beverages & 12336.2 & 10077.9 & $\\dots$ \\\\\n",
       "\t27 & Brazil & 2021 & Bakery Items & 5949.18 & 6656.14 & $\\dots$ \\\\\n",
       "\t28 & France & 2018 & Frozen Food & 17470.5 & 16267.2 & $\\dots$ \\\\\n",
       "\t29 & Spain & 2021 & Fruits \\& Vegetables & 41676.2 & 43058.3 & $\\dots$ \\\\\n",
       "\t30 & Mexico & 2018 & Meat \\& Seafood & 20604.3 & 23257.5 & $\\dots$ \\\\\n",
       "\t$\\dots$ & $\\dots$ & $\\dots$ & $\\dots$ & $\\dots$ & $\\dots$ &  \\\\\n",
       "\\end{tabular}\n"
      ],
      "text/plain": [
       "\u001b[1m5000×8 DataFrame\u001b[0m\n",
       "\u001b[1m  Row \u001b[0m│\u001b[1m Country      \u001b[0m\u001b[1m Year  \u001b[0m\u001b[1m Food Category       \u001b[0m\u001b[1m Total Waste (Tons) \u001b[0m\u001b[1m Economic\u001b[0m ⋯\n",
       "      │\u001b[90m String15     \u001b[0m\u001b[90m Int32 \u001b[0m\u001b[90m String31            \u001b[0m\u001b[90m Float64            \u001b[0m\u001b[90m Float64 \u001b[0m ⋯\n",
       "──────┼─────────────────────────────────────────────────────────────────────────\n",
       "    1 │ Australia      2019  Fruits & Vegetables            19268.6            ⋯\n",
       "    2 │ Indonesia      2019  Prepared Food                   3916.97\n",
       "    3 │ Germany        2022  Dairy Products                  9700.16\n",
       "    4 │ France         2023  Fruits & Vegetables            46299.7\n",
       "    5 │ France         2023  Beverages                      33096.6            ⋯\n",
       "    6 │ India          2024  Fruits & Vegetables            11962.9\n",
       "    7 │ Germany        2024  Prepared Food                  45038.7\n",
       "    8 │ China          2019  Fruits & Vegetables            12791.2\n",
       "    9 │ UK             2019  Meat & Seafood                 14795.6            ⋯\n",
       "   10 │ India          2019  Grains & Cereals               12118.3\n",
       "   11 │ South Africa   2024  Frozen Food                    39478.7\n",
       "  ⋮   │      ⋮          ⋮             ⋮                   ⋮                    ⋱\n",
       " 4991 │ UK             2021  Frozen Food                    21794.8\n",
       " 4992 │ France         2019  Meat & Seafood                 26583.1            ⋯\n",
       " 4993 │ China          2018  Grains & Cereals               48984.2\n",
       " 4994 │ France         2021  Grains & Cereals               42126.6\n",
       " 4995 │ Indonesia      2023  Prepared Food                  39980.4\n",
       " 4996 │ France         2021  Beverages                      47524.7            ⋯\n",
       " 4997 │ Australia      2021  Beverages                      32337.7\n",
       " 4998 │ China          2018  Meat & Seafood                 20641.0\n",
       " 4999 │ Australia      2021  Beverages                      26566.6\n",
       " 5000 │ France         2024  Bakery Items                    8860.27           ⋯\n",
       "\u001b[36m                                                 4 columns and 4979 rows omitted\u001b[0m"
      ]
     },
     "execution_count": 18,
     "metadata": {},
     "output_type": "execute_result"
    }
   ],
   "source": [
    "global_food_wastage_dataset = CSV.read(\"C:\\\\Users\\\\user\\\\Documents\\\\global_food_wastage_dataset.csv\", DataFrame, header=1)"
   ]
  },
  {
   "cell_type": "code",
   "execution_count": 20,
   "id": "0a25c9b1",
   "metadata": {},
   "outputs": [
    {
     "data": {
      "text/html": [
       "<div><div style = \"float: left;\"><span>5000×8 DataFrame</span></div><div style = \"float: right;\"><span style = \"font-style: italic;\">4975 rows omitted</span></div><div style = \"clear: both;\"></div></div><div class = \"data-frame\" style = \"overflow-x: scroll;\"><table class = \"data-frame\" style = \"margin-bottom: 6px;\"><thead><tr class = \"header\"><th class = \"rowNumber\" style = \"font-weight: bold; text-align: right;\">Row</th><th style = \"text-align: left;\">Country</th><th style = \"text-align: left;\">Year</th><th style = \"text-align: left;\">Food Category</th><th style = \"text-align: left;\">Total Waste (Tons)</th><th style = \"text-align: left;\">Economic Loss (Million $)</th><th style = \"text-align: left;\">Avg Waste per Capita (Kg)</th><th style = \"text-align: left;\">Population (Million)</th><th style = \"text-align: left;\">Household Waste (%)</th></tr><tr class = \"subheader headerLastRow\"><th class = \"rowNumber\" style = \"font-weight: bold; text-align: right;\"></th><th title = \"String15\" style = \"text-align: left;\">String15</th><th title = \"Int32\" style = \"text-align: left;\">Int32</th><th title = \"String31\" style = \"text-align: left;\">String31</th><th title = \"Float64\" style = \"text-align: left;\">Float64</th><th title = \"Float64\" style = \"text-align: left;\">Float64</th><th title = \"Float64\" style = \"text-align: left;\">Float64</th><th title = \"Float64\" style = \"text-align: left;\">Float64</th><th title = \"Float64\" style = \"text-align: left;\">Float64</th></tr></thead><tbody><tr><td class = \"rowNumber\" style = \"font-weight: bold; text-align: right;\">1</td><td style = \"text-align: left;\">Australia</td><td style = \"text-align: right;\">2019</td><td style = \"text-align: left;\">Fruits &amp; Vegetables</td><td style = \"text-align: right;\">19268.6</td><td style = \"text-align: right;\">18686.7</td><td style = \"text-align: right;\">72.69</td><td style = \"text-align: right;\">87.59</td><td style = \"text-align: right;\">53.64</td></tr><tr><td class = \"rowNumber\" style = \"font-weight: bold; text-align: right;\">2</td><td style = \"text-align: left;\">Indonesia</td><td style = \"text-align: right;\">2019</td><td style = \"text-align: left;\">Prepared Food</td><td style = \"text-align: right;\">3916.97</td><td style = \"text-align: right;\">4394.48</td><td style = \"text-align: right;\">192.52</td><td style = \"text-align: right;\">1153.99</td><td style = \"text-align: right;\">30.61</td></tr><tr><td class = \"rowNumber\" style = \"font-weight: bold; text-align: right;\">3</td><td style = \"text-align: left;\">Germany</td><td style = \"text-align: right;\">2022</td><td style = \"text-align: left;\">Dairy Products</td><td style = \"text-align: right;\">9700.16</td><td style = \"text-align: right;\">8909.16</td><td style = \"text-align: right;\">166.94</td><td style = \"text-align: right;\">1006.11</td><td style = \"text-align: right;\">48.08</td></tr><tr><td class = \"rowNumber\" style = \"font-weight: bold; text-align: right;\">4</td><td style = \"text-align: left;\">France</td><td style = \"text-align: right;\">2023</td><td style = \"text-align: left;\">Fruits &amp; Vegetables</td><td style = \"text-align: right;\">46299.7</td><td style = \"text-align: right;\">40551.2</td><td style = \"text-align: right;\">120.19</td><td style = \"text-align: right;\">953.05</td><td style = \"text-align: right;\">31.91</td></tr><tr><td class = \"rowNumber\" style = \"font-weight: bold; text-align: right;\">5</td><td style = \"text-align: left;\">France</td><td style = \"text-align: right;\">2023</td><td style = \"text-align: left;\">Beverages</td><td style = \"text-align: right;\">33096.6</td><td style = \"text-align: right;\">36980.8</td><td style = \"text-align: right;\">104.74</td><td style = \"text-align: right;\">1105.47</td><td style = \"text-align: right;\">36.06</td></tr><tr><td class = \"rowNumber\" style = \"font-weight: bold; text-align: right;\">6</td><td style = \"text-align: left;\">India</td><td style = \"text-align: right;\">2024</td><td style = \"text-align: left;\">Fruits &amp; Vegetables</td><td style = \"text-align: right;\">11962.9</td><td style = \"text-align: right;\">11196.0</td><td style = \"text-align: right;\">136.21</td><td style = \"text-align: right;\">1311.91</td><td style = \"text-align: right;\">37.09</td></tr><tr><td class = \"rowNumber\" style = \"font-weight: bold; text-align: right;\">7</td><td style = \"text-align: left;\">Germany</td><td style = \"text-align: right;\">2024</td><td style = \"text-align: left;\">Prepared Food</td><td style = \"text-align: right;\">45038.7</td><td style = \"text-align: right;\">39191.2</td><td style = \"text-align: right;\">179.27</td><td style = \"text-align: right;\">1349.45</td><td style = \"text-align: right;\">68.93</td></tr><tr><td class = \"rowNumber\" style = \"font-weight: bold; text-align: right;\">8</td><td style = \"text-align: left;\">China</td><td style = \"text-align: right;\">2019</td><td style = \"text-align: left;\">Fruits &amp; Vegetables</td><td style = \"text-align: right;\">12791.2</td><td style = \"text-align: right;\">12233.3</td><td style = \"text-align: right;\">90.8</td><td style = \"text-align: right;\">1229.29</td><td style = \"text-align: right;\">59.9</td></tr><tr><td class = \"rowNumber\" style = \"font-weight: bold; text-align: right;\">9</td><td style = \"text-align: left;\">UK</td><td style = \"text-align: right;\">2019</td><td style = \"text-align: left;\">Meat &amp; Seafood</td><td style = \"text-align: right;\">14795.6</td><td style = \"text-align: right;\">14347.0</td><td style = \"text-align: right;\">128.91</td><td style = \"text-align: right;\">450.33</td><td style = \"text-align: right;\">59.01</td></tr><tr><td class = \"rowNumber\" style = \"font-weight: bold; text-align: right;\">10</td><td style = \"text-align: left;\">India</td><td style = \"text-align: right;\">2019</td><td style = \"text-align: left;\">Grains &amp; Cereals</td><td style = \"text-align: right;\">12118.3</td><td style = \"text-align: right;\">13631.2</td><td style = \"text-align: right;\">141.75</td><td style = \"text-align: right;\">359.26</td><td style = \"text-align: right;\">42.42</td></tr><tr><td class = \"rowNumber\" style = \"font-weight: bold; text-align: right;\">11</td><td style = \"text-align: left;\">South Africa</td><td style = \"text-align: right;\">2024</td><td style = \"text-align: left;\">Frozen Food</td><td style = \"text-align: right;\">39478.7</td><td style = \"text-align: right;\">40087.3</td><td style = \"text-align: right;\">155.55</td><td style = \"text-align: right;\">375.84</td><td style = \"text-align: right;\">31.16</td></tr><tr><td class = \"rowNumber\" style = \"font-weight: bold; text-align: right;\">12</td><td style = \"text-align: left;\">Japan</td><td style = \"text-align: right;\">2022</td><td style = \"text-align: left;\">Frozen Food</td><td style = \"text-align: right;\">41025.9</td><td style = \"text-align: right;\">35437.9</td><td style = \"text-align: right;\">49.95</td><td style = \"text-align: right;\">1219.43</td><td style = \"text-align: right;\">33.79</td></tr><tr><td class = \"rowNumber\" style = \"font-weight: bold; text-align: right;\">13</td><td style = \"text-align: left;\">USA</td><td style = \"text-align: right;\">2024</td><td style = \"text-align: left;\">Beverages</td><td style = \"text-align: right;\">22924.8</td><td style = \"text-align: right;\">22406.2</td><td style = \"text-align: right;\">89.59</td><td style = \"text-align: right;\">836.05</td><td style = \"text-align: right;\">45.43</td></tr><tr><td style = \"text-align: right;\">&vellip;</td><td style = \"text-align: right;\">&vellip;</td><td style = \"text-align: right;\">&vellip;</td><td style = \"text-align: right;\">&vellip;</td><td style = \"text-align: right;\">&vellip;</td><td style = \"text-align: right;\">&vellip;</td><td style = \"text-align: right;\">&vellip;</td><td style = \"text-align: right;\">&vellip;</td><td style = \"text-align: right;\">&vellip;</td></tr><tr><td class = \"rowNumber\" style = \"font-weight: bold; text-align: right;\">4989</td><td style = \"text-align: left;\">Saudi Arabia</td><td style = \"text-align: right;\">2019</td><td style = \"text-align: left;\">Fruits &amp; Vegetables</td><td style = \"text-align: right;\">44319.6</td><td style = \"text-align: right;\">37349.5</td><td style = \"text-align: right;\">113.72</td><td style = \"text-align: right;\">1378.23</td><td style = \"text-align: right;\">61.61</td></tr><tr><td class = \"rowNumber\" style = \"font-weight: bold; text-align: right;\">4990</td><td style = \"text-align: left;\">South Africa</td><td style = \"text-align: right;\">2022</td><td style = \"text-align: left;\">Meat &amp; Seafood</td><td style = \"text-align: right;\">3925.48</td><td style = \"text-align: right;\">4499.38</td><td style = \"text-align: right;\">47.21</td><td style = \"text-align: right;\">79.18</td><td style = \"text-align: right;\">38.1</td></tr><tr><td class = \"rowNumber\" style = \"font-weight: bold; text-align: right;\">4991</td><td style = \"text-align: left;\">UK</td><td style = \"text-align: right;\">2021</td><td style = \"text-align: left;\">Frozen Food</td><td style = \"text-align: right;\">21794.8</td><td style = \"text-align: right;\">22964.5</td><td style = \"text-align: right;\">90.37</td><td style = \"text-align: right;\">726.54</td><td style = \"text-align: right;\">60.1</td></tr><tr><td class = \"rowNumber\" style = \"font-weight: bold; text-align: right;\">4992</td><td style = \"text-align: left;\">France</td><td style = \"text-align: right;\">2019</td><td style = \"text-align: left;\">Meat &amp; Seafood</td><td style = \"text-align: right;\">26583.1</td><td style = \"text-align: right;\">23562.8</td><td style = \"text-align: right;\">125.57</td><td style = \"text-align: right;\">571.09</td><td style = \"text-align: right;\">31.78</td></tr><tr><td class = \"rowNumber\" style = \"font-weight: bold; text-align: right;\">4993</td><td style = \"text-align: left;\">China</td><td style = \"text-align: right;\">2018</td><td style = \"text-align: left;\">Grains &amp; Cereals</td><td style = \"text-align: right;\">48984.2</td><td style = \"text-align: right;\">49978.4</td><td style = \"text-align: right;\">28.07</td><td style = \"text-align: right;\">1380.08</td><td style = \"text-align: right;\">60.39</td></tr><tr><td class = \"rowNumber\" style = \"font-weight: bold; text-align: right;\">4994</td><td style = \"text-align: left;\">France</td><td style = \"text-align: right;\">2021</td><td style = \"text-align: left;\">Grains &amp; Cereals</td><td style = \"text-align: right;\">42126.6</td><td style = \"text-align: right;\">36406.8</td><td style = \"text-align: right;\">144.3</td><td style = \"text-align: right;\">1138.46</td><td style = \"text-align: right;\">41.26</td></tr><tr><td class = \"rowNumber\" style = \"font-weight: bold; text-align: right;\">4995</td><td style = \"text-align: left;\">Indonesia</td><td style = \"text-align: right;\">2023</td><td style = \"text-align: left;\">Prepared Food</td><td style = \"text-align: right;\">39980.4</td><td style = \"text-align: right;\">37618.4</td><td style = \"text-align: right;\">32.34</td><td style = \"text-align: right;\">27.08</td><td style = \"text-align: right;\">56.38</td></tr><tr><td class = \"rowNumber\" style = \"font-weight: bold; text-align: right;\">4996</td><td style = \"text-align: left;\">France</td><td style = \"text-align: right;\">2021</td><td style = \"text-align: left;\">Beverages</td><td style = \"text-align: right;\">47524.7</td><td style = \"text-align: right;\">48058.4</td><td style = \"text-align: right;\">77.41</td><td style = \"text-align: right;\">1087.46</td><td style = \"text-align: right;\">39.73</td></tr><tr><td class = \"rowNumber\" style = \"font-weight: bold; text-align: right;\">4997</td><td style = \"text-align: left;\">Australia</td><td style = \"text-align: right;\">2021</td><td style = \"text-align: left;\">Beverages</td><td style = \"text-align: right;\">32337.7</td><td style = \"text-align: right;\">32705.1</td><td style = \"text-align: right;\">194.35</td><td style = \"text-align: right;\">1336.32</td><td style = \"text-align: right;\">64.83</td></tr><tr><td class = \"rowNumber\" style = \"font-weight: bold; text-align: right;\">4998</td><td style = \"text-align: left;\">China</td><td style = \"text-align: right;\">2018</td><td style = \"text-align: left;\">Meat &amp; Seafood</td><td style = \"text-align: right;\">20641.0</td><td style = \"text-align: right;\">22485.3</td><td style = \"text-align: right;\">21.04</td><td style = \"text-align: right;\">16.13</td><td style = \"text-align: right;\">31.23</td></tr><tr><td class = \"rowNumber\" style = \"font-weight: bold; text-align: right;\">4999</td><td style = \"text-align: left;\">Australia</td><td style = \"text-align: right;\">2021</td><td style = \"text-align: left;\">Beverages</td><td style = \"text-align: right;\">26566.6</td><td style = \"text-align: right;\">29357.6</td><td style = \"text-align: right;\">197.14</td><td style = \"text-align: right;\">1086.17</td><td style = \"text-align: right;\">69.95</td></tr><tr><td class = \"rowNumber\" style = \"font-weight: bold; text-align: right;\">5000</td><td style = \"text-align: left;\">France</td><td style = \"text-align: right;\">2024</td><td style = \"text-align: left;\">Bakery Items</td><td style = \"text-align: right;\">8860.27</td><td style = \"text-align: right;\">7360.38</td><td style = \"text-align: right;\">51.5</td><td style = \"text-align: right;\">879.67</td><td style = \"text-align: right;\">54.27</td></tr></tbody></table></div>"
      ],
      "text/latex": [
       "\\begin{tabular}{r|cccccc}\n",
       "\t& Country & Year & Food Category & Total Waste (Tons) & Economic Loss (Million \\$) & \\\\\n",
       "\t\\hline\n",
       "\t& String15 & Int32 & String31 & Float64 & Float64 & \\\\\n",
       "\t\\hline\n",
       "\t1 & Australia & 2019 & Fruits \\& Vegetables & 19268.6 & 18686.7 & $\\dots$ \\\\\n",
       "\t2 & Indonesia & 2019 & Prepared Food & 3916.97 & 4394.48 & $\\dots$ \\\\\n",
       "\t3 & Germany & 2022 & Dairy Products & 9700.16 & 8909.16 & $\\dots$ \\\\\n",
       "\t4 & France & 2023 & Fruits \\& Vegetables & 46299.7 & 40551.2 & $\\dots$ \\\\\n",
       "\t5 & France & 2023 & Beverages & 33096.6 & 36980.8 & $\\dots$ \\\\\n",
       "\t6 & India & 2024 & Fruits \\& Vegetables & 11962.9 & 11196.0 & $\\dots$ \\\\\n",
       "\t7 & Germany & 2024 & Prepared Food & 45038.7 & 39191.2 & $\\dots$ \\\\\n",
       "\t8 & China & 2019 & Fruits \\& Vegetables & 12791.2 & 12233.3 & $\\dots$ \\\\\n",
       "\t9 & UK & 2019 & Meat \\& Seafood & 14795.6 & 14347.0 & $\\dots$ \\\\\n",
       "\t10 & India & 2019 & Grains \\& Cereals & 12118.3 & 13631.2 & $\\dots$ \\\\\n",
       "\t11 & South Africa & 2024 & Frozen Food & 39478.7 & 40087.3 & $\\dots$ \\\\\n",
       "\t12 & Japan & 2022 & Frozen Food & 41025.9 & 35437.9 & $\\dots$ \\\\\n",
       "\t13 & USA & 2024 & Beverages & 22924.8 & 22406.2 & $\\dots$ \\\\\n",
       "\t14 & France & 2018 & Beverages & 29295.1 & 34102.2 & $\\dots$ \\\\\n",
       "\t15 & USA & 2022 & Bakery Items & 32458.0 & 27905.8 & $\\dots$ \\\\\n",
       "\t16 & USA & 2021 & Meat \\& Seafood & 43264.3 & 44777.9 & $\\dots$ \\\\\n",
       "\t17 & Brazil & 2021 & Frozen Food & 23131.1 & 21882.7 & $\\dots$ \\\\\n",
       "\t18 & Saudi Arabia & 2020 & Prepared Food & 18483.8 & 21071.7 & $\\dots$ \\\\\n",
       "\t19 & UK & 2022 & Meat \\& Seafood & 25829.6 & 20806.3 & $\\dots$ \\\\\n",
       "\t20 & China & 2018 & Prepared Food & 11314.1 & 10287.7 & $\\dots$ \\\\\n",
       "\t21 & Saudi Arabia & 2019 & Fruits \\& Vegetables & 10653.4 & 8992.33 & $\\dots$ \\\\\n",
       "\t22 & Australia & 2020 & Fruits \\& Vegetables & 1322.82 & 1394.01 & $\\dots$ \\\\\n",
       "\t23 & India & 2023 & Meat \\& Seafood & 33403.3 & 39125.4 & $\\dots$ \\\\\n",
       "\t24 & Italy & 2023 & Fruits \\& Vegetables & 30875.3 & 31341.6 & $\\dots$ \\\\\n",
       "\t25 & Saudi Arabia & 2024 & Prepared Food & 33085.8 & 28923.1 & $\\dots$ \\\\\n",
       "\t26 & Germany & 2018 & Beverages & 12336.2 & 10077.9 & $\\dots$ \\\\\n",
       "\t27 & Brazil & 2021 & Bakery Items & 5949.18 & 6656.14 & $\\dots$ \\\\\n",
       "\t28 & France & 2018 & Frozen Food & 17470.5 & 16267.2 & $\\dots$ \\\\\n",
       "\t29 & Spain & 2021 & Fruits \\& Vegetables & 41676.2 & 43058.3 & $\\dots$ \\\\\n",
       "\t30 & Mexico & 2018 & Meat \\& Seafood & 20604.3 & 23257.5 & $\\dots$ \\\\\n",
       "\t$\\dots$ & $\\dots$ & $\\dots$ & $\\dots$ & $\\dots$ & $\\dots$ &  \\\\\n",
       "\\end{tabular}\n"
      ],
      "text/plain": [
       "\u001b[1m5000×8 DataFrame\u001b[0m\n",
       "\u001b[1m  Row \u001b[0m│\u001b[1m Country      \u001b[0m\u001b[1m Year  \u001b[0m\u001b[1m Food Category       \u001b[0m\u001b[1m Total Waste (Tons) \u001b[0m\u001b[1m Economic\u001b[0m ⋯\n",
       "      │\u001b[90m String15     \u001b[0m\u001b[90m Int32 \u001b[0m\u001b[90m String31            \u001b[0m\u001b[90m Float64            \u001b[0m\u001b[90m Float64 \u001b[0m ⋯\n",
       "──────┼─────────────────────────────────────────────────────────────────────────\n",
       "    1 │ Australia      2019  Fruits & Vegetables            19268.6            ⋯\n",
       "    2 │ Indonesia      2019  Prepared Food                   3916.97\n",
       "    3 │ Germany        2022  Dairy Products                  9700.16\n",
       "    4 │ France         2023  Fruits & Vegetables            46299.7\n",
       "    5 │ France         2023  Beverages                      33096.6            ⋯\n",
       "    6 │ India          2024  Fruits & Vegetables            11962.9\n",
       "    7 │ Germany        2024  Prepared Food                  45038.7\n",
       "    8 │ China          2019  Fruits & Vegetables            12791.2\n",
       "    9 │ UK             2019  Meat & Seafood                 14795.6            ⋯\n",
       "   10 │ India          2019  Grains & Cereals               12118.3\n",
       "   11 │ South Africa   2024  Frozen Food                    39478.7\n",
       "  ⋮   │      ⋮          ⋮             ⋮                   ⋮                    ⋱\n",
       " 4991 │ UK             2021  Frozen Food                    21794.8\n",
       " 4992 │ France         2019  Meat & Seafood                 26583.1            ⋯\n",
       " 4993 │ China          2018  Grains & Cereals               48984.2\n",
       " 4994 │ France         2021  Grains & Cereals               42126.6\n",
       " 4995 │ Indonesia      2023  Prepared Food                  39980.4\n",
       " 4996 │ France         2021  Beverages                      47524.7            ⋯\n",
       " 4997 │ Australia      2021  Beverages                      32337.7\n",
       " 4998 │ China          2018  Meat & Seafood                 20641.0\n",
       " 4999 │ Australia      2021  Beverages                      26566.6\n",
       " 5000 │ France         2024  Bakery Items                    8860.27           ⋯\n",
       "\u001b[36m                                                 4 columns and 4979 rows omitted\u001b[0m"
      ]
     },
     "execution_count": 20,
     "metadata": {},
     "output_type": "execute_result"
    }
   ],
   "source": [
    "df = CSV.read(\"C:\\\\Users\\\\user\\\\Documents\\\\global_food_wastage_dataset.csv\", DataFrame)"
   ]
  },
  {
   "cell_type": "code",
   "execution_count": 21,
   "id": "43b3d3dc",
   "metadata": {},
   "outputs": [
    {
     "data": {
      "text/html": [
       "<div><div style = \"float: left;\"><span>5×8 DataFrame</span></div><div style = \"clear: both;\"></div></div><div class = \"data-frame\" style = \"overflow-x: scroll;\"><table class = \"data-frame\" style = \"margin-bottom: 6px;\"><thead><tr class = \"header\"><th class = \"rowNumber\" style = \"font-weight: bold; text-align: right;\">Row</th><th style = \"text-align: left;\">Country</th><th style = \"text-align: left;\">Year</th><th style = \"text-align: left;\">Food Category</th><th style = \"text-align: left;\">Total Waste (Tons)</th><th style = \"text-align: left;\">Economic Loss (Million $)</th><th style = \"text-align: left;\">Avg Waste per Capita (Kg)</th><th style = \"text-align: left;\">Population (Million)</th><th style = \"text-align: left;\">Household Waste (%)</th></tr><tr class = \"subheader headerLastRow\"><th class = \"rowNumber\" style = \"font-weight: bold; text-align: right;\"></th><th title = \"String15\" style = \"text-align: left;\">String15</th><th title = \"Int32\" style = \"text-align: left;\">Int32</th><th title = \"String31\" style = \"text-align: left;\">String31</th><th title = \"Float64\" style = \"text-align: left;\">Float64</th><th title = \"Float64\" style = \"text-align: left;\">Float64</th><th title = \"Float64\" style = \"text-align: left;\">Float64</th><th title = \"Float64\" style = \"text-align: left;\">Float64</th><th title = \"Float64\" style = \"text-align: left;\">Float64</th></tr></thead><tbody><tr><td class = \"rowNumber\" style = \"font-weight: bold; text-align: right;\">1</td><td style = \"text-align: left;\">Australia</td><td style = \"text-align: right;\">2019</td><td style = \"text-align: left;\">Fruits &amp; Vegetables</td><td style = \"text-align: right;\">19268.6</td><td style = \"text-align: right;\">18686.7</td><td style = \"text-align: right;\">72.69</td><td style = \"text-align: right;\">87.59</td><td style = \"text-align: right;\">53.64</td></tr><tr><td class = \"rowNumber\" style = \"font-weight: bold; text-align: right;\">2</td><td style = \"text-align: left;\">Indonesia</td><td style = \"text-align: right;\">2019</td><td style = \"text-align: left;\">Prepared Food</td><td style = \"text-align: right;\">3916.97</td><td style = \"text-align: right;\">4394.48</td><td style = \"text-align: right;\">192.52</td><td style = \"text-align: right;\">1153.99</td><td style = \"text-align: right;\">30.61</td></tr><tr><td class = \"rowNumber\" style = \"font-weight: bold; text-align: right;\">3</td><td style = \"text-align: left;\">Germany</td><td style = \"text-align: right;\">2022</td><td style = \"text-align: left;\">Dairy Products</td><td style = \"text-align: right;\">9700.16</td><td style = \"text-align: right;\">8909.16</td><td style = \"text-align: right;\">166.94</td><td style = \"text-align: right;\">1006.11</td><td style = \"text-align: right;\">48.08</td></tr><tr><td class = \"rowNumber\" style = \"font-weight: bold; text-align: right;\">4</td><td style = \"text-align: left;\">France</td><td style = \"text-align: right;\">2023</td><td style = \"text-align: left;\">Fruits &amp; Vegetables</td><td style = \"text-align: right;\">46299.7</td><td style = \"text-align: right;\">40551.2</td><td style = \"text-align: right;\">120.19</td><td style = \"text-align: right;\">953.05</td><td style = \"text-align: right;\">31.91</td></tr><tr><td class = \"rowNumber\" style = \"font-weight: bold; text-align: right;\">5</td><td style = \"text-align: left;\">France</td><td style = \"text-align: right;\">2023</td><td style = \"text-align: left;\">Beverages</td><td style = \"text-align: right;\">33096.6</td><td style = \"text-align: right;\">36980.8</td><td style = \"text-align: right;\">104.74</td><td style = \"text-align: right;\">1105.47</td><td style = \"text-align: right;\">36.06</td></tr></tbody></table></div>"
      ],
      "text/latex": [
       "\\begin{tabular}{r|cccccc}\n",
       "\t& Country & Year & Food Category & Total Waste (Tons) & Economic Loss (Million \\$) & \\\\\n",
       "\t\\hline\n",
       "\t& String15 & Int32 & String31 & Float64 & Float64 & \\\\\n",
       "\t\\hline\n",
       "\t1 & Australia & 2019 & Fruits \\& Vegetables & 19268.6 & 18686.7 & $\\dots$ \\\\\n",
       "\t2 & Indonesia & 2019 & Prepared Food & 3916.97 & 4394.48 & $\\dots$ \\\\\n",
       "\t3 & Germany & 2022 & Dairy Products & 9700.16 & 8909.16 & $\\dots$ \\\\\n",
       "\t4 & France & 2023 & Fruits \\& Vegetables & 46299.7 & 40551.2 & $\\dots$ \\\\\n",
       "\t5 & France & 2023 & Beverages & 33096.6 & 36980.8 & $\\dots$ \\\\\n",
       "\\end{tabular}\n"
      ],
      "text/plain": [
       "\u001b[1m5×8 DataFrame\u001b[0m\n",
       "\u001b[1m Row \u001b[0m│\u001b[1m Country   \u001b[0m\u001b[1m Year  \u001b[0m\u001b[1m Food Category       \u001b[0m\u001b[1m Total Waste (Tons) \u001b[0m\u001b[1m Economic Los\u001b[0m ⋯\n",
       "     │\u001b[90m String15  \u001b[0m\u001b[90m Int32 \u001b[0m\u001b[90m String31            \u001b[0m\u001b[90m Float64            \u001b[0m\u001b[90m Float64     \u001b[0m ⋯\n",
       "─────┼──────────────────────────────────────────────────────────────────────────\n",
       "   1 │ Australia   2019  Fruits & Vegetables            19268.6                ⋯\n",
       "   2 │ Indonesia   2019  Prepared Food                   3916.97\n",
       "   3 │ Germany     2022  Dairy Products                  9700.16\n",
       "   4 │ France      2023  Fruits & Vegetables            46299.7\n",
       "   5 │ France      2023  Beverages                      33096.6                ⋯\n",
       "\u001b[36m                                                               4 columns omitted\u001b[0m"
      ]
     },
     "execution_count": 21,
     "metadata": {},
     "output_type": "execute_result"
    }
   ],
   "source": [
    "first(df,5)"
   ]
  },
  {
   "cell_type": "code",
   "execution_count": 24,
   "id": "be629f9c",
   "metadata": {},
   "outputs": [
    {
     "data": {
      "text/plain": [
       "8-element Vector{Int32}:\n",
       " 0\n",
       " 0\n",
       " 0\n",
       " 0\n",
       " 0\n",
       " 0\n",
       " 0\n",
       " 0"
      ]
     },
     "execution_count": 24,
     "metadata": {},
     "output_type": "execute_result"
    }
   ],
   "source": [
    "map(col -> sum(ismissing, col), eachcol(df))"
   ]
  },
  {
   "cell_type": "code",
   "execution_count": 25,
   "id": "1a86553a",
   "metadata": {},
   "outputs": [
    {
     "name": "stdout",
     "output_type": "stream",
     "text": [
      "[\"Country\", \"Year\", \"Food Category\", \"Total Waste (Tons)\", \"Economic Loss (Million \\$)\", \"Avg Waste per Capita (Kg)\", \"Population (Million)\", \"Household Waste (%)\"]\n"
     ]
    }
   ],
   "source": [
    "println(names(df))"
   ]
  },
  {
   "cell_type": "code",
   "execution_count": 26,
   "id": "a77c1c4c",
   "metadata": {},
   "outputs": [
    {
     "data": {
      "text/html": [
       "<div><div style = \"float: left;\"><span>0×8 DataFrame</span></div><div style = \"clear: both;\"></div></div><div class = \"data-frame\" style = \"overflow-x: scroll;\"><table class = \"data-frame\" style = \"margin-bottom: 6px;\"><thead><tr class = \"header\"><th class = \"rowNumber\" style = \"font-weight: bold; text-align: right;\">Row</th><th style = \"text-align: left;\">Country</th><th style = \"text-align: left;\">Year</th><th style = \"text-align: left;\">Food Category</th><th style = \"text-align: left;\">Total Waste (Tons)</th><th style = \"text-align: left;\">Economic Loss (Million $)</th><th style = \"text-align: left;\">Avg Waste per Capita (Kg)</th><th style = \"text-align: left;\">Population (Million)</th><th style = \"text-align: left;\">Household Waste (%)</th></tr><tr class = \"subheader headerLastRow\"><th class = \"rowNumber\" style = \"font-weight: bold; text-align: right;\"></th><th title = \"String15\" style = \"text-align: left;\">String15</th><th title = \"Int32\" style = \"text-align: left;\">Int32</th><th title = \"String31\" style = \"text-align: left;\">String31</th><th title = \"Float64\" style = \"text-align: left;\">Float64</th><th title = \"Float64\" style = \"text-align: left;\">Float64</th><th title = \"Float64\" style = \"text-align: left;\">Float64</th><th title = \"Float64\" style = \"text-align: left;\">Float64</th><th title = \"Float64\" style = \"text-align: left;\">Float64</th></tr></thead><tbody></tbody></table></div>"
      ],
      "text/latex": [
       "\\begin{tabular}{r|ccccccc}\n",
       "\t& Country & Year & Food Category & Total Waste (Tons) & Economic Loss (Million \\$) & Avg Waste per Capita (Kg) & \\\\\n",
       "\t\\hline\n",
       "\t& String15 & Int32 & String31 & Float64 & Float64 & Float64 & \\\\\n",
       "\t\\hline\n",
       "\\end{tabular}\n"
      ],
      "text/plain": [
       "\u001b[1m0×8 DataFrame\u001b[0m\n",
       "\u001b[1m Row \u001b[0m│\u001b[1m Country  \u001b[0m\u001b[1m Year  \u001b[0m\u001b[1m Food Category \u001b[0m\u001b[1m Total Waste (Tons) \u001b[0m\u001b[1m Economic Loss (Mill\u001b[0m ⋯\n",
       "     │\u001b[90m String15 \u001b[0m\u001b[90m Int32 \u001b[0m\u001b[90m String31      \u001b[0m\u001b[90m Float64            \u001b[0m\u001b[90m Float64            \u001b[0m ⋯\n",
       "─────┴──────────────────────────────────────────────────────────────────────────\n",
       "\u001b[36m                                                               4 columns omitted\u001b[0m"
      ]
     },
     "execution_count": 26,
     "metadata": {},
     "output_type": "execute_result"
    }
   ],
   "source": [
    "fruit_df = filter(row -> row.\"Food Category\" == \"Fruit\", df)"
   ]
  },
  {
   "cell_type": "code",
   "execution_count": 27,
   "id": "f84f0aea",
   "metadata": {},
   "outputs": [
    {
     "data": {
      "text/html": [
       "<div><div style = \"float: left;\"><span>0×8 DataFrame</span></div><div style = \"clear: both;\"></div></div><div class = \"data-frame\" style = \"overflow-x: scroll;\"><table class = \"data-frame\" style = \"margin-bottom: 6px;\"><thead><tr class = \"header\"><th class = \"rowNumber\" style = \"font-weight: bold; text-align: right;\">Row</th><th style = \"text-align: left;\">Country</th><th style = \"text-align: left;\">Year</th><th style = \"text-align: left;\">Food Category</th><th style = \"text-align: left;\">Total Waste (Tons)</th><th style = \"text-align: left;\">Economic Loss (Million $)</th><th style = \"text-align: left;\">Avg Waste per Capita (Kg)</th><th style = \"text-align: left;\">Population (Million)</th><th style = \"text-align: left;\">Household Waste (%)</th></tr><tr class = \"subheader headerLastRow\"><th class = \"rowNumber\" style = \"font-weight: bold; text-align: right;\"></th><th title = \"String15\" style = \"text-align: left;\">String15</th><th title = \"Int32\" style = \"text-align: left;\">Int32</th><th title = \"String31\" style = \"text-align: left;\">String31</th><th title = \"Float64\" style = \"text-align: left;\">Float64</th><th title = \"Float64\" style = \"text-align: left;\">Float64</th><th title = \"Float64\" style = \"text-align: left;\">Float64</th><th title = \"Float64\" style = \"text-align: left;\">Float64</th><th title = \"Float64\" style = \"text-align: left;\">Float64</th></tr></thead><tbody></tbody></table></div>"
      ],
      "text/latex": [
       "\\begin{tabular}{r|ccccccc}\n",
       "\t& Country & Year & Food Category & Total Waste (Tons) & Economic Loss (Million \\$) & Avg Waste per Capita (Kg) & \\\\\n",
       "\t\\hline\n",
       "\t& String15 & Int32 & String31 & Float64 & Float64 & Float64 & \\\\\n",
       "\t\\hline\n",
       "\\end{tabular}\n"
      ],
      "text/plain": [
       "\u001b[1m0×8 DataFrame\u001b[0m\n",
       "\u001b[1m Row \u001b[0m│\u001b[1m Country  \u001b[0m\u001b[1m Year  \u001b[0m\u001b[1m Food Category \u001b[0m\u001b[1m Total Waste (Tons) \u001b[0m\u001b[1m Economic Loss (Mill\u001b[0m ⋯\n",
       "     │\u001b[90m String15 \u001b[0m\u001b[90m Int32 \u001b[0m\u001b[90m String31      \u001b[0m\u001b[90m Float64            \u001b[0m\u001b[90m Float64            \u001b[0m ⋯\n",
       "─────┴──────────────────────────────────────────────────────────────────────────\n",
       "\u001b[36m                                                               4 columns omitted\u001b[0m"
      ]
     },
     "execution_count": 27,
     "metadata": {},
     "output_type": "execute_result"
    }
   ],
   "source": [
    "first(fruit_df, 5)"
   ]
  },
  {
   "cell_type": "code",
   "execution_count": 29,
   "id": "0d7be1f6",
   "metadata": {},
   "outputs": [
    {
     "data": {
      "text/plain": [
       "Float64[]"
      ]
     },
     "execution_count": 29,
     "metadata": {},
     "output_type": "execute_result"
    }
   ],
   "source": [
    "fruit_features = select(fruit_df, Not([\"Economic Loss (Million \\$)\", \"Food Category\", \"Country\"]))\n",
    "fruit_target = fruit_df[!, \"Economic Loss (Million \\$)\"]"
   ]
  },
  {
   "cell_type": "code",
   "execution_count": 30,
   "id": "98bf47d6",
   "metadata": {},
   "outputs": [
    {
     "data": {
      "text/html": [
       "<div><div style = \"float: left;\"><span>0×8 DataFrame</span></div><div style = \"clear: both;\"></div></div><div class = \"data-frame\" style = \"overflow-x: scroll;\"><table class = \"data-frame\" style = \"margin-bottom: 6px;\"><thead><tr class = \"header\"><th class = \"rowNumber\" style = \"font-weight: bold; text-align: right;\">Row</th><th style = \"text-align: left;\">Country</th><th style = \"text-align: left;\">Year</th><th style = \"text-align: left;\">Food Category</th><th style = \"text-align: left;\">Total Waste (Tons)</th><th style = \"text-align: left;\">Economic Loss (Million $)</th><th style = \"text-align: left;\">Avg Waste per Capita (Kg)</th><th style = \"text-align: left;\">Population (Million)</th><th style = \"text-align: left;\">Household Waste (%)</th></tr><tr class = \"subheader headerLastRow\"><th class = \"rowNumber\" style = \"font-weight: bold; text-align: right;\"></th><th title = \"String15\" style = \"text-align: left;\">String15</th><th title = \"Int32\" style = \"text-align: left;\">Int32</th><th title = \"String31\" style = \"text-align: left;\">String31</th><th title = \"Float64\" style = \"text-align: left;\">Float64</th><th title = \"Float64\" style = \"text-align: left;\">Float64</th><th title = \"Float64\" style = \"text-align: left;\">Float64</th><th title = \"Float64\" style = \"text-align: left;\">Float64</th><th title = \"Float64\" style = \"text-align: left;\">Float64</th></tr></thead><tbody></tbody></table></div>"
      ],
      "text/latex": [
       "\\begin{tabular}{r|ccccccc}\n",
       "\t& Country & Year & Food Category & Total Waste (Tons) & Economic Loss (Million \\$) & Avg Waste per Capita (Kg) & \\\\\n",
       "\t\\hline\n",
       "\t& String15 & Int32 & String31 & Float64 & Float64 & Float64 & \\\\\n",
       "\t\\hline\n",
       "\\end{tabular}\n"
      ],
      "text/plain": [
       "\u001b[1m0×8 DataFrame\u001b[0m\n",
       "\u001b[1m Row \u001b[0m│\u001b[1m Country  \u001b[0m\u001b[1m Year  \u001b[0m\u001b[1m Food Category \u001b[0m\u001b[1m Total Waste (Tons) \u001b[0m\u001b[1m Economic Loss (Mill\u001b[0m ⋯\n",
       "     │\u001b[90m String15 \u001b[0m\u001b[90m Int32 \u001b[0m\u001b[90m String31      \u001b[0m\u001b[90m Float64            \u001b[0m\u001b[90m Float64            \u001b[0m ⋯\n",
       "─────┴──────────────────────────────────────────────────────────────────────────\n",
       "\u001b[36m                                                               4 columns omitted\u001b[0m"
      ]
     },
     "execution_count": 30,
     "metadata": {},
     "output_type": "execute_result"
    }
   ],
   "source": [
    "fruit_df = filter(row -> row.\"Food Category\" == \"Fruit\", df)"
   ]
  },
  {
   "cell_type": "code",
   "execution_count": 31,
   "id": "4680f5d0",
   "metadata": {},
   "outputs": [
    {
     "name": "stdout",
     "output_type": "stream",
     "text": [
      "String31[\"Fruits & Vegetables\", \"Prepared Food\", \"Dairy Products\", \"Beverages\", \"Meat & Seafood\", \"Grains & Cereals\", \"Frozen Food\", \"Bakery Items\"]\n"
     ]
    }
   ],
   "source": [
    "println(unique(df.\"Food Category\"))"
   ]
  },
  {
   "cell_type": "code",
   "execution_count": 32,
   "id": "94f24586",
   "metadata": {},
   "outputs": [
    {
     "data": {
      "text/html": [
       "<div><div style = \"float: left;\"><span>620×8 DataFrame</span></div><div style = \"float: right;\"><span style = \"font-style: italic;\">595 rows omitted</span></div><div style = \"clear: both;\"></div></div><div class = \"data-frame\" style = \"overflow-x: scroll;\"><table class = \"data-frame\" style = \"margin-bottom: 6px;\"><thead><tr class = \"header\"><th class = \"rowNumber\" style = \"font-weight: bold; text-align: right;\">Row</th><th style = \"text-align: left;\">Country</th><th style = \"text-align: left;\">Year</th><th style = \"text-align: left;\">Food Category</th><th style = \"text-align: left;\">Total Waste (Tons)</th><th style = \"text-align: left;\">Economic Loss (Million $)</th><th style = \"text-align: left;\">Avg Waste per Capita (Kg)</th><th style = \"text-align: left;\">Population (Million)</th><th style = \"text-align: left;\">Household Waste (%)</th></tr><tr class = \"subheader headerLastRow\"><th class = \"rowNumber\" style = \"font-weight: bold; text-align: right;\"></th><th title = \"String15\" style = \"text-align: left;\">String15</th><th title = \"Int32\" style = \"text-align: left;\">Int32</th><th title = \"String31\" style = \"text-align: left;\">String31</th><th title = \"Float64\" style = \"text-align: left;\">Float64</th><th title = \"Float64\" style = \"text-align: left;\">Float64</th><th title = \"Float64\" style = \"text-align: left;\">Float64</th><th title = \"Float64\" style = \"text-align: left;\">Float64</th><th title = \"Float64\" style = \"text-align: left;\">Float64</th></tr></thead><tbody><tr><td class = \"rowNumber\" style = \"font-weight: bold; text-align: right;\">1</td><td style = \"text-align: left;\">Australia</td><td style = \"text-align: right;\">2019</td><td style = \"text-align: left;\">Fruits &amp; Vegetables</td><td style = \"text-align: right;\">19268.6</td><td style = \"text-align: right;\">18686.7</td><td style = \"text-align: right;\">72.69</td><td style = \"text-align: right;\">87.59</td><td style = \"text-align: right;\">53.64</td></tr><tr><td class = \"rowNumber\" style = \"font-weight: bold; text-align: right;\">2</td><td style = \"text-align: left;\">France</td><td style = \"text-align: right;\">2023</td><td style = \"text-align: left;\">Fruits &amp; Vegetables</td><td style = \"text-align: right;\">46299.7</td><td style = \"text-align: right;\">40551.2</td><td style = \"text-align: right;\">120.19</td><td style = \"text-align: right;\">953.05</td><td style = \"text-align: right;\">31.91</td></tr><tr><td class = \"rowNumber\" style = \"font-weight: bold; text-align: right;\">3</td><td style = \"text-align: left;\">India</td><td style = \"text-align: right;\">2024</td><td style = \"text-align: left;\">Fruits &amp; Vegetables</td><td style = \"text-align: right;\">11962.9</td><td style = \"text-align: right;\">11196.0</td><td style = \"text-align: right;\">136.21</td><td style = \"text-align: right;\">1311.91</td><td style = \"text-align: right;\">37.09</td></tr><tr><td class = \"rowNumber\" style = \"font-weight: bold; text-align: right;\">4</td><td style = \"text-align: left;\">China</td><td style = \"text-align: right;\">2019</td><td style = \"text-align: left;\">Fruits &amp; Vegetables</td><td style = \"text-align: right;\">12791.2</td><td style = \"text-align: right;\">12233.3</td><td style = \"text-align: right;\">90.8</td><td style = \"text-align: right;\">1229.29</td><td style = \"text-align: right;\">59.9</td></tr><tr><td class = \"rowNumber\" style = \"font-weight: bold; text-align: right;\">5</td><td style = \"text-align: left;\">Saudi Arabia</td><td style = \"text-align: right;\">2019</td><td style = \"text-align: left;\">Fruits &amp; Vegetables</td><td style = \"text-align: right;\">10653.4</td><td style = \"text-align: right;\">8992.33</td><td style = \"text-align: right;\">74.16</td><td style = \"text-align: right;\">37.76</td><td style = \"text-align: right;\">46.44</td></tr><tr><td class = \"rowNumber\" style = \"font-weight: bold; text-align: right;\">6</td><td style = \"text-align: left;\">Australia</td><td style = \"text-align: right;\">2020</td><td style = \"text-align: left;\">Fruits &amp; Vegetables</td><td style = \"text-align: right;\">1322.82</td><td style = \"text-align: right;\">1394.01</td><td style = \"text-align: right;\">88.85</td><td style = \"text-align: right;\">205.78</td><td style = \"text-align: right;\">30.63</td></tr><tr><td class = \"rowNumber\" style = \"font-weight: bold; text-align: right;\">7</td><td style = \"text-align: left;\">Italy</td><td style = \"text-align: right;\">2023</td><td style = \"text-align: left;\">Fruits &amp; Vegetables</td><td style = \"text-align: right;\">30875.3</td><td style = \"text-align: right;\">31341.6</td><td style = \"text-align: right;\">198.26</td><td style = \"text-align: right;\">349.04</td><td style = \"text-align: right;\">52.64</td></tr><tr><td class = \"rowNumber\" style = \"font-weight: bold; text-align: right;\">8</td><td style = \"text-align: left;\">Spain</td><td style = \"text-align: right;\">2021</td><td style = \"text-align: left;\">Fruits &amp; Vegetables</td><td style = \"text-align: right;\">41676.2</td><td style = \"text-align: right;\">43058.3</td><td style = \"text-align: right;\">135.22</td><td style = \"text-align: right;\">1325.54</td><td style = \"text-align: right;\">54.32</td></tr><tr><td class = \"rowNumber\" style = \"font-weight: bold; text-align: right;\">9</td><td style = \"text-align: left;\">Italy</td><td style = \"text-align: right;\">2024</td><td style = \"text-align: left;\">Fruits &amp; Vegetables</td><td style = \"text-align: right;\">20238.7</td><td style = \"text-align: right;\">18395.9</td><td style = \"text-align: right;\">22.64</td><td style = \"text-align: right;\">467.6</td><td style = \"text-align: right;\">50.9</td></tr><tr><td class = \"rowNumber\" style = \"font-weight: bold; text-align: right;\">10</td><td style = \"text-align: left;\">Saudi Arabia</td><td style = \"text-align: right;\">2024</td><td style = \"text-align: left;\">Fruits &amp; Vegetables</td><td style = \"text-align: right;\">1104.56</td><td style = \"text-align: right;\">1300.14</td><td style = \"text-align: right;\">134.77</td><td style = \"text-align: right;\">906.42</td><td style = \"text-align: right;\">37.85</td></tr><tr><td class = \"rowNumber\" style = \"font-weight: bold; text-align: right;\">11</td><td style = \"text-align: left;\">Germany</td><td style = \"text-align: right;\">2024</td><td style = \"text-align: left;\">Fruits &amp; Vegetables</td><td style = \"text-align: right;\">26112.0</td><td style = \"text-align: right;\">21589.3</td><td style = \"text-align: right;\">168.69</td><td style = \"text-align: right;\">1172.25</td><td style = \"text-align: right;\">50.31</td></tr><tr><td class = \"rowNumber\" style = \"font-weight: bold; text-align: right;\">12</td><td style = \"text-align: left;\">Italy</td><td style = \"text-align: right;\">2018</td><td style = \"text-align: left;\">Fruits &amp; Vegetables</td><td style = \"text-align: right;\">24353.8</td><td style = \"text-align: right;\">26604.2</td><td style = \"text-align: right;\">188.03</td><td style = \"text-align: right;\">430.09</td><td style = \"text-align: right;\">31.28</td></tr><tr><td class = \"rowNumber\" style = \"font-weight: bold; text-align: right;\">13</td><td style = \"text-align: left;\">France</td><td style = \"text-align: right;\">2022</td><td style = \"text-align: left;\">Fruits &amp; Vegetables</td><td style = \"text-align: right;\">23626.7</td><td style = \"text-align: right;\">24156.1</td><td style = \"text-align: right;\">198.38</td><td style = \"text-align: right;\">745.17</td><td style = \"text-align: right;\">66.68</td></tr><tr><td style = \"text-align: right;\">&vellip;</td><td style = \"text-align: right;\">&vellip;</td><td style = \"text-align: right;\">&vellip;</td><td style = \"text-align: right;\">&vellip;</td><td style = \"text-align: right;\">&vellip;</td><td style = \"text-align: right;\">&vellip;</td><td style = \"text-align: right;\">&vellip;</td><td style = \"text-align: right;\">&vellip;</td><td style = \"text-align: right;\">&vellip;</td></tr><tr><td class = \"rowNumber\" style = \"font-weight: bold; text-align: right;\">609</td><td style = \"text-align: left;\">Italy</td><td style = \"text-align: right;\">2020</td><td style = \"text-align: left;\">Fruits &amp; Vegetables</td><td style = \"text-align: right;\">13664.5</td><td style = \"text-align: right;\">13738.8</td><td style = \"text-align: right;\">32.01</td><td style = \"text-align: right;\">1166.68</td><td style = \"text-align: right;\">64.57</td></tr><tr><td class = \"rowNumber\" style = \"font-weight: bold; text-align: right;\">610</td><td style = \"text-align: left;\">Argentina</td><td style = \"text-align: right;\">2021</td><td style = \"text-align: left;\">Fruits &amp; Vegetables</td><td style = \"text-align: right;\">21033.2</td><td style = \"text-align: right;\">19354.7</td><td style = \"text-align: right;\">142.3</td><td style = \"text-align: right;\">457.37</td><td style = \"text-align: right;\">34.65</td></tr><tr><td class = \"rowNumber\" style = \"font-weight: bold; text-align: right;\">611</td><td style = \"text-align: left;\">Saudi Arabia</td><td style = \"text-align: right;\">2021</td><td style = \"text-align: left;\">Fruits &amp; Vegetables</td><td style = \"text-align: right;\">4577.91</td><td style = \"text-align: right;\">4783.99</td><td style = \"text-align: right;\">74.87</td><td style = \"text-align: right;\">1287.29</td><td style = \"text-align: right;\">66.46</td></tr><tr><td class = \"rowNumber\" style = \"font-weight: bold; text-align: right;\">612</td><td style = \"text-align: left;\">India</td><td style = \"text-align: right;\">2020</td><td style = \"text-align: left;\">Fruits &amp; Vegetables</td><td style = \"text-align: right;\">18287.5</td><td style = \"text-align: right;\">20891.5</td><td style = \"text-align: right;\">48.07</td><td style = \"text-align: right;\">748.71</td><td style = \"text-align: right;\">59.28</td></tr><tr><td class = \"rowNumber\" style = \"font-weight: bold; text-align: right;\">613</td><td style = \"text-align: left;\">France</td><td style = \"text-align: right;\">2022</td><td style = \"text-align: left;\">Fruits &amp; Vegetables</td><td style = \"text-align: right;\">1050.83</td><td style = \"text-align: right;\">927.65</td><td style = \"text-align: right;\">30.01</td><td style = \"text-align: right;\">107.0</td><td style = \"text-align: right;\">49.22</td></tr><tr><td class = \"rowNumber\" style = \"font-weight: bold; text-align: right;\">614</td><td style = \"text-align: left;\">Mexico</td><td style = \"text-align: right;\">2024</td><td style = \"text-align: left;\">Fruits &amp; Vegetables</td><td style = \"text-align: right;\">5026.34</td><td style = \"text-align: right;\">4505.63</td><td style = \"text-align: right;\">180.57</td><td style = \"text-align: right;\">621.12</td><td style = \"text-align: right;\">58.77</td></tr><tr><td class = \"rowNumber\" style = \"font-weight: bold; text-align: right;\">615</td><td style = \"text-align: left;\">France</td><td style = \"text-align: right;\">2019</td><td style = \"text-align: left;\">Fruits &amp; Vegetables</td><td style = \"text-align: right;\">28422.7</td><td style = \"text-align: right;\">24748.0</td><td style = \"text-align: right;\">66.73</td><td style = \"text-align: right;\">265.49</td><td style = \"text-align: right;\">41.64</td></tr><tr><td class = \"rowNumber\" style = \"font-weight: bold; text-align: right;\">616</td><td style = \"text-align: left;\">Australia</td><td style = \"text-align: right;\">2020</td><td style = \"text-align: left;\">Fruits &amp; Vegetables</td><td style = \"text-align: right;\">33225.1</td><td style = \"text-align: right;\">30909.6</td><td style = \"text-align: right;\">160.74</td><td style = \"text-align: right;\">1210.52</td><td style = \"text-align: right;\">31.86</td></tr><tr><td class = \"rowNumber\" style = \"font-weight: bold; text-align: right;\">617</td><td style = \"text-align: left;\">Canada</td><td style = \"text-align: right;\">2021</td><td style = \"text-align: left;\">Fruits &amp; Vegetables</td><td style = \"text-align: right;\">44681.2</td><td style = \"text-align: right;\">45270.3</td><td style = \"text-align: right;\">90.79</td><td style = \"text-align: right;\">92.56</td><td style = \"text-align: right;\">58.65</td></tr><tr><td class = \"rowNumber\" style = \"font-weight: bold; text-align: right;\">618</td><td style = \"text-align: left;\">South Africa</td><td style = \"text-align: right;\">2018</td><td style = \"text-align: left;\">Fruits &amp; Vegetables</td><td style = \"text-align: right;\">46466.9</td><td style = \"text-align: right;\">46343.3</td><td style = \"text-align: right;\">182.33</td><td style = \"text-align: right;\">640.21</td><td style = \"text-align: right;\">69.91</td></tr><tr><td class = \"rowNumber\" style = \"font-weight: bold; text-align: right;\">619</td><td style = \"text-align: left;\">Brazil</td><td style = \"text-align: right;\">2018</td><td style = \"text-align: left;\">Fruits &amp; Vegetables</td><td style = \"text-align: right;\">18801.2</td><td style = \"text-align: right;\">18488.3</td><td style = \"text-align: right;\">55.01</td><td style = \"text-align: right;\">927.52</td><td style = \"text-align: right;\">51.69</td></tr><tr><td class = \"rowNumber\" style = \"font-weight: bold; text-align: right;\">620</td><td style = \"text-align: left;\">Saudi Arabia</td><td style = \"text-align: right;\">2019</td><td style = \"text-align: left;\">Fruits &amp; Vegetables</td><td style = \"text-align: right;\">44319.6</td><td style = \"text-align: right;\">37349.5</td><td style = \"text-align: right;\">113.72</td><td style = \"text-align: right;\">1378.23</td><td style = \"text-align: right;\">61.61</td></tr></tbody></table></div>"
      ],
      "text/latex": [
       "\\begin{tabular}{r|cccccc}\n",
       "\t& Country & Year & Food Category & Total Waste (Tons) & Economic Loss (Million \\$) & \\\\\n",
       "\t\\hline\n",
       "\t& String15 & Int32 & String31 & Float64 & Float64 & \\\\\n",
       "\t\\hline\n",
       "\t1 & Australia & 2019 & Fruits \\& Vegetables & 19268.6 & 18686.7 & $\\dots$ \\\\\n",
       "\t2 & France & 2023 & Fruits \\& Vegetables & 46299.7 & 40551.2 & $\\dots$ \\\\\n",
       "\t3 & India & 2024 & Fruits \\& Vegetables & 11962.9 & 11196.0 & $\\dots$ \\\\\n",
       "\t4 & China & 2019 & Fruits \\& Vegetables & 12791.2 & 12233.3 & $\\dots$ \\\\\n",
       "\t5 & Saudi Arabia & 2019 & Fruits \\& Vegetables & 10653.4 & 8992.33 & $\\dots$ \\\\\n",
       "\t6 & Australia & 2020 & Fruits \\& Vegetables & 1322.82 & 1394.01 & $\\dots$ \\\\\n",
       "\t7 & Italy & 2023 & Fruits \\& Vegetables & 30875.3 & 31341.6 & $\\dots$ \\\\\n",
       "\t8 & Spain & 2021 & Fruits \\& Vegetables & 41676.2 & 43058.3 & $\\dots$ \\\\\n",
       "\t9 & Italy & 2024 & Fruits \\& Vegetables & 20238.7 & 18395.9 & $\\dots$ \\\\\n",
       "\t10 & Saudi Arabia & 2024 & Fruits \\& Vegetables & 1104.56 & 1300.14 & $\\dots$ \\\\\n",
       "\t11 & Germany & 2024 & Fruits \\& Vegetables & 26112.0 & 21589.3 & $\\dots$ \\\\\n",
       "\t12 & Italy & 2018 & Fruits \\& Vegetables & 24353.8 & 26604.2 & $\\dots$ \\\\\n",
       "\t13 & France & 2022 & Fruits \\& Vegetables & 23626.7 & 24156.1 & $\\dots$ \\\\\n",
       "\t14 & Brazil & 2022 & Fruits \\& Vegetables & 37440.2 & 33827.9 & $\\dots$ \\\\\n",
       "\t15 & Japan & 2023 & Fruits \\& Vegetables & 2192.54 & 2459.51 & $\\dots$ \\\\\n",
       "\t16 & Argentina & 2020 & Fruits \\& Vegetables & 48169.2 & 53898.6 & $\\dots$ \\\\\n",
       "\t17 & South Africa & 2024 & Fruits \\& Vegetables & 16964.0 & 19065.8 & $\\dots$ \\\\\n",
       "\t18 & Germany & 2020 & Fruits \\& Vegetables & 1474.15 & 1540.57 & $\\dots$ \\\\\n",
       "\t19 & Russia & 2019 & Fruits \\& Vegetables & 27030.7 & 27392.4 & $\\dots$ \\\\\n",
       "\t20 & Argentina & 2024 & Fruits \\& Vegetables & 34377.5 & 29795.0 & $\\dots$ \\\\\n",
       "\t21 & UK & 2021 & Fruits \\& Vegetables & 24046.9 & 22580.8 & $\\dots$ \\\\\n",
       "\t22 & Italy & 2023 & Fruits \\& Vegetables & 31130.3 & 36622.7 & $\\dots$ \\\\\n",
       "\t23 & Brazil & 2019 & Fruits \\& Vegetables & 31515.3 & 37428.5 & $\\dots$ \\\\\n",
       "\t24 & Australia & 2020 & Fruits \\& Vegetables & 45457.0 & 47399.8 & $\\dots$ \\\\\n",
       "\t25 & Turkey & 2018 & Fruits \\& Vegetables & 38921.0 & 38773.3 & $\\dots$ \\\\\n",
       "\t26 & Spain & 2022 & Fruits \\& Vegetables & 49894.0 & 42739.2 & $\\dots$ \\\\\n",
       "\t27 & South Korea & 2019 & Fruits \\& Vegetables & 39896.9 & 34365.6 & $\\dots$ \\\\\n",
       "\t28 & Spain & 2019 & Fruits \\& Vegetables & 16133.8 & 15262.8 & $\\dots$ \\\\\n",
       "\t29 & South Korea & 2023 & Fruits \\& Vegetables & 41482.6 & 46333.1 & $\\dots$ \\\\\n",
       "\t30 & Indonesia & 2021 & Fruits \\& Vegetables & 46273.8 & 53925.1 & $\\dots$ \\\\\n",
       "\t$\\dots$ & $\\dots$ & $\\dots$ & $\\dots$ & $\\dots$ & $\\dots$ &  \\\\\n",
       "\\end{tabular}\n"
      ],
      "text/plain": [
       "\u001b[1m620×8 DataFrame\u001b[0m\n",
       "\u001b[1m Row \u001b[0m│\u001b[1m Country      \u001b[0m\u001b[1m Year  \u001b[0m\u001b[1m Food Category       \u001b[0m\u001b[1m Total Waste (Tons) \u001b[0m\u001b[1m Economic \u001b[0m ⋯\n",
       "     │\u001b[90m String15     \u001b[0m\u001b[90m Int32 \u001b[0m\u001b[90m String31            \u001b[0m\u001b[90m Float64            \u001b[0m\u001b[90m Float64  \u001b[0m ⋯\n",
       "─────┼──────────────────────────────────────────────────────────────────────────\n",
       "   1 │ Australia      2019  Fruits & Vegetables            19268.6             ⋯\n",
       "   2 │ France         2023  Fruits & Vegetables            46299.7\n",
       "   3 │ India          2024  Fruits & Vegetables            11962.9\n",
       "   4 │ China          2019  Fruits & Vegetables            12791.2\n",
       "   5 │ Saudi Arabia   2019  Fruits & Vegetables            10653.4             ⋯\n",
       "   6 │ Australia      2020  Fruits & Vegetables             1322.82\n",
       "   7 │ Italy          2023  Fruits & Vegetables            30875.3\n",
       "   8 │ Spain          2021  Fruits & Vegetables            41676.2\n",
       "   9 │ Italy          2024  Fruits & Vegetables            20238.7             ⋯\n",
       "  10 │ Saudi Arabia   2024  Fruits & Vegetables             1104.56\n",
       "  11 │ Germany        2024  Fruits & Vegetables            26112.0\n",
       "  ⋮  │      ⋮          ⋮             ⋮                   ⋮                     ⋱\n",
       " 611 │ Saudi Arabia   2021  Fruits & Vegetables             4577.91\n",
       " 612 │ India          2020  Fruits & Vegetables            18287.5             ⋯\n",
       " 613 │ France         2022  Fruits & Vegetables             1050.83\n",
       " 614 │ Mexico         2024  Fruits & Vegetables             5026.34\n",
       " 615 │ France         2019  Fruits & Vegetables            28422.7\n",
       " 616 │ Australia      2020  Fruits & Vegetables            33225.1             ⋯\n",
       " 617 │ Canada         2021  Fruits & Vegetables            44681.2\n",
       " 618 │ South Africa   2018  Fruits & Vegetables            46466.9\n",
       " 619 │ Brazil         2018  Fruits & Vegetables            18801.2\n",
       " 620 │ Saudi Arabia   2019  Fruits & Vegetables            44319.6             ⋯\n",
       "\u001b[36m                                                  4 columns and 599 rows omitted\u001b[0m"
      ]
     },
     "execution_count": 32,
     "metadata": {},
     "output_type": "execute_result"
    }
   ],
   "source": [
    "fruit_df = filter(row -> row.\"Food Category\" == \"Fruits & Vegetables\", df)"
   ]
  },
  {
   "cell_type": "code",
   "execution_count": 33,
   "id": "497ca0f1",
   "metadata": {},
   "outputs": [
    {
     "name": "stdout",
     "output_type": "stream",
     "text": [
      "(620, 8)\n"
     ]
    },
    {
     "data": {
      "text/html": [
       "<div><div style = \"float: left;\"><span>5×8 DataFrame</span></div><div style = \"clear: both;\"></div></div><div class = \"data-frame\" style = \"overflow-x: scroll;\"><table class = \"data-frame\" style = \"margin-bottom: 6px;\"><thead><tr class = \"header\"><th class = \"rowNumber\" style = \"font-weight: bold; text-align: right;\">Row</th><th style = \"text-align: left;\">Country</th><th style = \"text-align: left;\">Year</th><th style = \"text-align: left;\">Food Category</th><th style = \"text-align: left;\">Total Waste (Tons)</th><th style = \"text-align: left;\">Economic Loss (Million $)</th><th style = \"text-align: left;\">Avg Waste per Capita (Kg)</th><th style = \"text-align: left;\">Population (Million)</th><th style = \"text-align: left;\">Household Waste (%)</th></tr><tr class = \"subheader headerLastRow\"><th class = \"rowNumber\" style = \"font-weight: bold; text-align: right;\"></th><th title = \"String15\" style = \"text-align: left;\">String15</th><th title = \"Int32\" style = \"text-align: left;\">Int32</th><th title = \"String31\" style = \"text-align: left;\">String31</th><th title = \"Float64\" style = \"text-align: left;\">Float64</th><th title = \"Float64\" style = \"text-align: left;\">Float64</th><th title = \"Float64\" style = \"text-align: left;\">Float64</th><th title = \"Float64\" style = \"text-align: left;\">Float64</th><th title = \"Float64\" style = \"text-align: left;\">Float64</th></tr></thead><tbody><tr><td class = \"rowNumber\" style = \"font-weight: bold; text-align: right;\">1</td><td style = \"text-align: left;\">Australia</td><td style = \"text-align: right;\">2019</td><td style = \"text-align: left;\">Fruits &amp; Vegetables</td><td style = \"text-align: right;\">19268.6</td><td style = \"text-align: right;\">18686.7</td><td style = \"text-align: right;\">72.69</td><td style = \"text-align: right;\">87.59</td><td style = \"text-align: right;\">53.64</td></tr><tr><td class = \"rowNumber\" style = \"font-weight: bold; text-align: right;\">2</td><td style = \"text-align: left;\">France</td><td style = \"text-align: right;\">2023</td><td style = \"text-align: left;\">Fruits &amp; Vegetables</td><td style = \"text-align: right;\">46299.7</td><td style = \"text-align: right;\">40551.2</td><td style = \"text-align: right;\">120.19</td><td style = \"text-align: right;\">953.05</td><td style = \"text-align: right;\">31.91</td></tr><tr><td class = \"rowNumber\" style = \"font-weight: bold; text-align: right;\">3</td><td style = \"text-align: left;\">India</td><td style = \"text-align: right;\">2024</td><td style = \"text-align: left;\">Fruits &amp; Vegetables</td><td style = \"text-align: right;\">11962.9</td><td style = \"text-align: right;\">11196.0</td><td style = \"text-align: right;\">136.21</td><td style = \"text-align: right;\">1311.91</td><td style = \"text-align: right;\">37.09</td></tr><tr><td class = \"rowNumber\" style = \"font-weight: bold; text-align: right;\">4</td><td style = \"text-align: left;\">China</td><td style = \"text-align: right;\">2019</td><td style = \"text-align: left;\">Fruits &amp; Vegetables</td><td style = \"text-align: right;\">12791.2</td><td style = \"text-align: right;\">12233.3</td><td style = \"text-align: right;\">90.8</td><td style = \"text-align: right;\">1229.29</td><td style = \"text-align: right;\">59.9</td></tr><tr><td class = \"rowNumber\" style = \"font-weight: bold; text-align: right;\">5</td><td style = \"text-align: left;\">Saudi Arabia</td><td style = \"text-align: right;\">2019</td><td style = \"text-align: left;\">Fruits &amp; Vegetables</td><td style = \"text-align: right;\">10653.4</td><td style = \"text-align: right;\">8992.33</td><td style = \"text-align: right;\">74.16</td><td style = \"text-align: right;\">37.76</td><td style = \"text-align: right;\">46.44</td></tr></tbody></table></div>"
      ],
      "text/latex": [
       "\\begin{tabular}{r|cccccc}\n",
       "\t& Country & Year & Food Category & Total Waste (Tons) & Economic Loss (Million \\$) & \\\\\n",
       "\t\\hline\n",
       "\t& String15 & Int32 & String31 & Float64 & Float64 & \\\\\n",
       "\t\\hline\n",
       "\t1 & Australia & 2019 & Fruits \\& Vegetables & 19268.6 & 18686.7 & $\\dots$ \\\\\n",
       "\t2 & France & 2023 & Fruits \\& Vegetables & 46299.7 & 40551.2 & $\\dots$ \\\\\n",
       "\t3 & India & 2024 & Fruits \\& Vegetables & 11962.9 & 11196.0 & $\\dots$ \\\\\n",
       "\t4 & China & 2019 & Fruits \\& Vegetables & 12791.2 & 12233.3 & $\\dots$ \\\\\n",
       "\t5 & Saudi Arabia & 2019 & Fruits \\& Vegetables & 10653.4 & 8992.33 & $\\dots$ \\\\\n",
       "\\end{tabular}\n"
      ],
      "text/plain": [
       "\u001b[1m5×8 DataFrame\u001b[0m\n",
       "\u001b[1m Row \u001b[0m│\u001b[1m Country      \u001b[0m\u001b[1m Year  \u001b[0m\u001b[1m Food Category       \u001b[0m\u001b[1m Total Waste (Tons) \u001b[0m\u001b[1m Economic \u001b[0m ⋯\n",
       "     │\u001b[90m String15     \u001b[0m\u001b[90m Int32 \u001b[0m\u001b[90m String31            \u001b[0m\u001b[90m Float64            \u001b[0m\u001b[90m Float64  \u001b[0m ⋯\n",
       "─────┼──────────────────────────────────────────────────────────────────────────\n",
       "   1 │ Australia      2019  Fruits & Vegetables             19268.6            ⋯\n",
       "   2 │ France         2023  Fruits & Vegetables             46299.7\n",
       "   3 │ India          2024  Fruits & Vegetables             11962.9\n",
       "   4 │ China          2019  Fruits & Vegetables             12791.2\n",
       "   5 │ Saudi Arabia   2019  Fruits & Vegetables             10653.4            ⋯\n",
       "\u001b[36m                                                               4 columns omitted\u001b[0m"
      ]
     },
     "execution_count": 33,
     "metadata": {},
     "output_type": "execute_result"
    }
   ],
   "source": [
    "println(size(fruit_df))\n",
    "first(fruit_df, 5)"
   ]
  },
  {
   "cell_type": "code",
   "execution_count": 34,
   "id": "bba86bfd",
   "metadata": {},
   "outputs": [
    {
     "name": "stderr",
     "output_type": "stream",
     "text": [
      "\u001b[32m\u001b[1mPrecompiling\u001b[22m\u001b[39m packages...\n",
      "  63909.7 ms\u001b[32m  ✓ \u001b[39m\u001b[90mTransducers → TransducersDataFramesExt\u001b[39m\n",
      "  1 dependency successfully precompiled in 73 seconds. 52 already precompiled.\n"
     ]
    }
   ],
   "source": [
    "using DataFrames, MLJ, CSV, GLM"
   ]
  },
  {
   "cell_type": "code",
   "execution_count": 39,
   "id": "5b59065d",
   "metadata": {},
   "outputs": [
    {
     "data": {
      "text/html": [
       "<div><div style = \"float: left;\"><span>620×8 DataFrame</span></div><div style = \"float: right;\"><span style = \"font-style: italic;\">595 rows omitted</span></div><div style = \"clear: both;\"></div></div><div class = \"data-frame\" style = \"overflow-x: scroll;\"><table class = \"data-frame\" style = \"margin-bottom: 6px;\"><thead><tr class = \"header\"><th class = \"rowNumber\" style = \"font-weight: bold; text-align: right;\">Row</th><th style = \"text-align: left;\">Country</th><th style = \"text-align: left;\">Year</th><th style = \"text-align: left;\">Food Category</th><th style = \"text-align: left;\">Total_Waste_Tons</th><th style = \"text-align: left;\">Economic_Loss_Million</th><th style = \"text-align: left;\">Avg_Waste_per_Capita_Kg</th><th style = \"text-align: left;\">Population_Million</th><th style = \"text-align: left;\">Household_Waste_Percent</th></tr><tr class = \"subheader headerLastRow\"><th class = \"rowNumber\" style = \"font-weight: bold; text-align: right;\"></th><th title = \"String15\" style = \"text-align: left;\">String15</th><th title = \"Int32\" style = \"text-align: left;\">Int32</th><th title = \"String31\" style = \"text-align: left;\">String31</th><th title = \"Float64\" style = \"text-align: left;\">Float64</th><th title = \"Float64\" style = \"text-align: left;\">Float64</th><th title = \"Float64\" style = \"text-align: left;\">Float64</th><th title = \"Float64\" style = \"text-align: left;\">Float64</th><th title = \"Float64\" style = \"text-align: left;\">Float64</th></tr></thead><tbody><tr><td class = \"rowNumber\" style = \"font-weight: bold; text-align: right;\">1</td><td style = \"text-align: left;\">Australia</td><td style = \"text-align: right;\">2019</td><td style = \"text-align: left;\">Fruits &amp; Vegetables</td><td style = \"text-align: right;\">19268.6</td><td style = \"text-align: right;\">18686.7</td><td style = \"text-align: right;\">72.69</td><td style = \"text-align: right;\">87.59</td><td style = \"text-align: right;\">53.64</td></tr><tr><td class = \"rowNumber\" style = \"font-weight: bold; text-align: right;\">2</td><td style = \"text-align: left;\">France</td><td style = \"text-align: right;\">2023</td><td style = \"text-align: left;\">Fruits &amp; Vegetables</td><td style = \"text-align: right;\">46299.7</td><td style = \"text-align: right;\">40551.2</td><td style = \"text-align: right;\">120.19</td><td style = \"text-align: right;\">953.05</td><td style = \"text-align: right;\">31.91</td></tr><tr><td class = \"rowNumber\" style = \"font-weight: bold; text-align: right;\">3</td><td style = \"text-align: left;\">India</td><td style = \"text-align: right;\">2024</td><td style = \"text-align: left;\">Fruits &amp; Vegetables</td><td style = \"text-align: right;\">11962.9</td><td style = \"text-align: right;\">11196.0</td><td style = \"text-align: right;\">136.21</td><td style = \"text-align: right;\">1311.91</td><td style = \"text-align: right;\">37.09</td></tr><tr><td class = \"rowNumber\" style = \"font-weight: bold; text-align: right;\">4</td><td style = \"text-align: left;\">China</td><td style = \"text-align: right;\">2019</td><td style = \"text-align: left;\">Fruits &amp; Vegetables</td><td style = \"text-align: right;\">12791.2</td><td style = \"text-align: right;\">12233.3</td><td style = \"text-align: right;\">90.8</td><td style = \"text-align: right;\">1229.29</td><td style = \"text-align: right;\">59.9</td></tr><tr><td class = \"rowNumber\" style = \"font-weight: bold; text-align: right;\">5</td><td style = \"text-align: left;\">Saudi Arabia</td><td style = \"text-align: right;\">2019</td><td style = \"text-align: left;\">Fruits &amp; Vegetables</td><td style = \"text-align: right;\">10653.4</td><td style = \"text-align: right;\">8992.33</td><td style = \"text-align: right;\">74.16</td><td style = \"text-align: right;\">37.76</td><td style = \"text-align: right;\">46.44</td></tr><tr><td class = \"rowNumber\" style = \"font-weight: bold; text-align: right;\">6</td><td style = \"text-align: left;\">Australia</td><td style = \"text-align: right;\">2020</td><td style = \"text-align: left;\">Fruits &amp; Vegetables</td><td style = \"text-align: right;\">1322.82</td><td style = \"text-align: right;\">1394.01</td><td style = \"text-align: right;\">88.85</td><td style = \"text-align: right;\">205.78</td><td style = \"text-align: right;\">30.63</td></tr><tr><td class = \"rowNumber\" style = \"font-weight: bold; text-align: right;\">7</td><td style = \"text-align: left;\">Italy</td><td style = \"text-align: right;\">2023</td><td style = \"text-align: left;\">Fruits &amp; Vegetables</td><td style = \"text-align: right;\">30875.3</td><td style = \"text-align: right;\">31341.6</td><td style = \"text-align: right;\">198.26</td><td style = \"text-align: right;\">349.04</td><td style = \"text-align: right;\">52.64</td></tr><tr><td class = \"rowNumber\" style = \"font-weight: bold; text-align: right;\">8</td><td style = \"text-align: left;\">Spain</td><td style = \"text-align: right;\">2021</td><td style = \"text-align: left;\">Fruits &amp; Vegetables</td><td style = \"text-align: right;\">41676.2</td><td style = \"text-align: right;\">43058.3</td><td style = \"text-align: right;\">135.22</td><td style = \"text-align: right;\">1325.54</td><td style = \"text-align: right;\">54.32</td></tr><tr><td class = \"rowNumber\" style = \"font-weight: bold; text-align: right;\">9</td><td style = \"text-align: left;\">Italy</td><td style = \"text-align: right;\">2024</td><td style = \"text-align: left;\">Fruits &amp; Vegetables</td><td style = \"text-align: right;\">20238.7</td><td style = \"text-align: right;\">18395.9</td><td style = \"text-align: right;\">22.64</td><td style = \"text-align: right;\">467.6</td><td style = \"text-align: right;\">50.9</td></tr><tr><td class = \"rowNumber\" style = \"font-weight: bold; text-align: right;\">10</td><td style = \"text-align: left;\">Saudi Arabia</td><td style = \"text-align: right;\">2024</td><td style = \"text-align: left;\">Fruits &amp; Vegetables</td><td style = \"text-align: right;\">1104.56</td><td style = \"text-align: right;\">1300.14</td><td style = \"text-align: right;\">134.77</td><td style = \"text-align: right;\">906.42</td><td style = \"text-align: right;\">37.85</td></tr><tr><td class = \"rowNumber\" style = \"font-weight: bold; text-align: right;\">11</td><td style = \"text-align: left;\">Germany</td><td style = \"text-align: right;\">2024</td><td style = \"text-align: left;\">Fruits &amp; Vegetables</td><td style = \"text-align: right;\">26112.0</td><td style = \"text-align: right;\">21589.3</td><td style = \"text-align: right;\">168.69</td><td style = \"text-align: right;\">1172.25</td><td style = \"text-align: right;\">50.31</td></tr><tr><td class = \"rowNumber\" style = \"font-weight: bold; text-align: right;\">12</td><td style = \"text-align: left;\">Italy</td><td style = \"text-align: right;\">2018</td><td style = \"text-align: left;\">Fruits &amp; Vegetables</td><td style = \"text-align: right;\">24353.8</td><td style = \"text-align: right;\">26604.2</td><td style = \"text-align: right;\">188.03</td><td style = \"text-align: right;\">430.09</td><td style = \"text-align: right;\">31.28</td></tr><tr><td class = \"rowNumber\" style = \"font-weight: bold; text-align: right;\">13</td><td style = \"text-align: left;\">France</td><td style = \"text-align: right;\">2022</td><td style = \"text-align: left;\">Fruits &amp; Vegetables</td><td style = \"text-align: right;\">23626.7</td><td style = \"text-align: right;\">24156.1</td><td style = \"text-align: right;\">198.38</td><td style = \"text-align: right;\">745.17</td><td style = \"text-align: right;\">66.68</td></tr><tr><td style = \"text-align: right;\">&vellip;</td><td style = \"text-align: right;\">&vellip;</td><td style = \"text-align: right;\">&vellip;</td><td style = \"text-align: right;\">&vellip;</td><td style = \"text-align: right;\">&vellip;</td><td style = \"text-align: right;\">&vellip;</td><td style = \"text-align: right;\">&vellip;</td><td style = \"text-align: right;\">&vellip;</td><td style = \"text-align: right;\">&vellip;</td></tr><tr><td class = \"rowNumber\" style = \"font-weight: bold; text-align: right;\">609</td><td style = \"text-align: left;\">Italy</td><td style = \"text-align: right;\">2020</td><td style = \"text-align: left;\">Fruits &amp; Vegetables</td><td style = \"text-align: right;\">13664.5</td><td style = \"text-align: right;\">13738.8</td><td style = \"text-align: right;\">32.01</td><td style = \"text-align: right;\">1166.68</td><td style = \"text-align: right;\">64.57</td></tr><tr><td class = \"rowNumber\" style = \"font-weight: bold; text-align: right;\">610</td><td style = \"text-align: left;\">Argentina</td><td style = \"text-align: right;\">2021</td><td style = \"text-align: left;\">Fruits &amp; Vegetables</td><td style = \"text-align: right;\">21033.2</td><td style = \"text-align: right;\">19354.7</td><td style = \"text-align: right;\">142.3</td><td style = \"text-align: right;\">457.37</td><td style = \"text-align: right;\">34.65</td></tr><tr><td class = \"rowNumber\" style = \"font-weight: bold; text-align: right;\">611</td><td style = \"text-align: left;\">Saudi Arabia</td><td style = \"text-align: right;\">2021</td><td style = \"text-align: left;\">Fruits &amp; Vegetables</td><td style = \"text-align: right;\">4577.91</td><td style = \"text-align: right;\">4783.99</td><td style = \"text-align: right;\">74.87</td><td style = \"text-align: right;\">1287.29</td><td style = \"text-align: right;\">66.46</td></tr><tr><td class = \"rowNumber\" style = \"font-weight: bold; text-align: right;\">612</td><td style = \"text-align: left;\">India</td><td style = \"text-align: right;\">2020</td><td style = \"text-align: left;\">Fruits &amp; Vegetables</td><td style = \"text-align: right;\">18287.5</td><td style = \"text-align: right;\">20891.5</td><td style = \"text-align: right;\">48.07</td><td style = \"text-align: right;\">748.71</td><td style = \"text-align: right;\">59.28</td></tr><tr><td class = \"rowNumber\" style = \"font-weight: bold; text-align: right;\">613</td><td style = \"text-align: left;\">France</td><td style = \"text-align: right;\">2022</td><td style = \"text-align: left;\">Fruits &amp; Vegetables</td><td style = \"text-align: right;\">1050.83</td><td style = \"text-align: right;\">927.65</td><td style = \"text-align: right;\">30.01</td><td style = \"text-align: right;\">107.0</td><td style = \"text-align: right;\">49.22</td></tr><tr><td class = \"rowNumber\" style = \"font-weight: bold; text-align: right;\">614</td><td style = \"text-align: left;\">Mexico</td><td style = \"text-align: right;\">2024</td><td style = \"text-align: left;\">Fruits &amp; Vegetables</td><td style = \"text-align: right;\">5026.34</td><td style = \"text-align: right;\">4505.63</td><td style = \"text-align: right;\">180.57</td><td style = \"text-align: right;\">621.12</td><td style = \"text-align: right;\">58.77</td></tr><tr><td class = \"rowNumber\" style = \"font-weight: bold; text-align: right;\">615</td><td style = \"text-align: left;\">France</td><td style = \"text-align: right;\">2019</td><td style = \"text-align: left;\">Fruits &amp; Vegetables</td><td style = \"text-align: right;\">28422.7</td><td style = \"text-align: right;\">24748.0</td><td style = \"text-align: right;\">66.73</td><td style = \"text-align: right;\">265.49</td><td style = \"text-align: right;\">41.64</td></tr><tr><td class = \"rowNumber\" style = \"font-weight: bold; text-align: right;\">616</td><td style = \"text-align: left;\">Australia</td><td style = \"text-align: right;\">2020</td><td style = \"text-align: left;\">Fruits &amp; Vegetables</td><td style = \"text-align: right;\">33225.1</td><td style = \"text-align: right;\">30909.6</td><td style = \"text-align: right;\">160.74</td><td style = \"text-align: right;\">1210.52</td><td style = \"text-align: right;\">31.86</td></tr><tr><td class = \"rowNumber\" style = \"font-weight: bold; text-align: right;\">617</td><td style = \"text-align: left;\">Canada</td><td style = \"text-align: right;\">2021</td><td style = \"text-align: left;\">Fruits &amp; Vegetables</td><td style = \"text-align: right;\">44681.2</td><td style = \"text-align: right;\">45270.3</td><td style = \"text-align: right;\">90.79</td><td style = \"text-align: right;\">92.56</td><td style = \"text-align: right;\">58.65</td></tr><tr><td class = \"rowNumber\" style = \"font-weight: bold; text-align: right;\">618</td><td style = \"text-align: left;\">South Africa</td><td style = \"text-align: right;\">2018</td><td style = \"text-align: left;\">Fruits &amp; Vegetables</td><td style = \"text-align: right;\">46466.9</td><td style = \"text-align: right;\">46343.3</td><td style = \"text-align: right;\">182.33</td><td style = \"text-align: right;\">640.21</td><td style = \"text-align: right;\">69.91</td></tr><tr><td class = \"rowNumber\" style = \"font-weight: bold; text-align: right;\">619</td><td style = \"text-align: left;\">Brazil</td><td style = \"text-align: right;\">2018</td><td style = \"text-align: left;\">Fruits &amp; Vegetables</td><td style = \"text-align: right;\">18801.2</td><td style = \"text-align: right;\">18488.3</td><td style = \"text-align: right;\">55.01</td><td style = \"text-align: right;\">927.52</td><td style = \"text-align: right;\">51.69</td></tr><tr><td class = \"rowNumber\" style = \"font-weight: bold; text-align: right;\">620</td><td style = \"text-align: left;\">Saudi Arabia</td><td style = \"text-align: right;\">2019</td><td style = \"text-align: left;\">Fruits &amp; Vegetables</td><td style = \"text-align: right;\">44319.6</td><td style = \"text-align: right;\">37349.5</td><td style = \"text-align: right;\">113.72</td><td style = \"text-align: right;\">1378.23</td><td style = \"text-align: right;\">61.61</td></tr></tbody></table></div>"
      ],
      "text/latex": [
       "\\begin{tabular}{r|cccccc}\n",
       "\t& Country & Year & Food Category & Total\\_Waste\\_Tons & Economic\\_Loss\\_Million & \\\\\n",
       "\t\\hline\n",
       "\t& String15 & Int32 & String31 & Float64 & Float64 & \\\\\n",
       "\t\\hline\n",
       "\t1 & Australia & 2019 & Fruits \\& Vegetables & 19268.6 & 18686.7 & $\\dots$ \\\\\n",
       "\t2 & France & 2023 & Fruits \\& Vegetables & 46299.7 & 40551.2 & $\\dots$ \\\\\n",
       "\t3 & India & 2024 & Fruits \\& Vegetables & 11962.9 & 11196.0 & $\\dots$ \\\\\n",
       "\t4 & China & 2019 & Fruits \\& Vegetables & 12791.2 & 12233.3 & $\\dots$ \\\\\n",
       "\t5 & Saudi Arabia & 2019 & Fruits \\& Vegetables & 10653.4 & 8992.33 & $\\dots$ \\\\\n",
       "\t6 & Australia & 2020 & Fruits \\& Vegetables & 1322.82 & 1394.01 & $\\dots$ \\\\\n",
       "\t7 & Italy & 2023 & Fruits \\& Vegetables & 30875.3 & 31341.6 & $\\dots$ \\\\\n",
       "\t8 & Spain & 2021 & Fruits \\& Vegetables & 41676.2 & 43058.3 & $\\dots$ \\\\\n",
       "\t9 & Italy & 2024 & Fruits \\& Vegetables & 20238.7 & 18395.9 & $\\dots$ \\\\\n",
       "\t10 & Saudi Arabia & 2024 & Fruits \\& Vegetables & 1104.56 & 1300.14 & $\\dots$ \\\\\n",
       "\t11 & Germany & 2024 & Fruits \\& Vegetables & 26112.0 & 21589.3 & $\\dots$ \\\\\n",
       "\t12 & Italy & 2018 & Fruits \\& Vegetables & 24353.8 & 26604.2 & $\\dots$ \\\\\n",
       "\t13 & France & 2022 & Fruits \\& Vegetables & 23626.7 & 24156.1 & $\\dots$ \\\\\n",
       "\t14 & Brazil & 2022 & Fruits \\& Vegetables & 37440.2 & 33827.9 & $\\dots$ \\\\\n",
       "\t15 & Japan & 2023 & Fruits \\& Vegetables & 2192.54 & 2459.51 & $\\dots$ \\\\\n",
       "\t16 & Argentina & 2020 & Fruits \\& Vegetables & 48169.2 & 53898.6 & $\\dots$ \\\\\n",
       "\t17 & South Africa & 2024 & Fruits \\& Vegetables & 16964.0 & 19065.8 & $\\dots$ \\\\\n",
       "\t18 & Germany & 2020 & Fruits \\& Vegetables & 1474.15 & 1540.57 & $\\dots$ \\\\\n",
       "\t19 & Russia & 2019 & Fruits \\& Vegetables & 27030.7 & 27392.4 & $\\dots$ \\\\\n",
       "\t20 & Argentina & 2024 & Fruits \\& Vegetables & 34377.5 & 29795.0 & $\\dots$ \\\\\n",
       "\t21 & UK & 2021 & Fruits \\& Vegetables & 24046.9 & 22580.8 & $\\dots$ \\\\\n",
       "\t22 & Italy & 2023 & Fruits \\& Vegetables & 31130.3 & 36622.7 & $\\dots$ \\\\\n",
       "\t23 & Brazil & 2019 & Fruits \\& Vegetables & 31515.3 & 37428.5 & $\\dots$ \\\\\n",
       "\t24 & Australia & 2020 & Fruits \\& Vegetables & 45457.0 & 47399.8 & $\\dots$ \\\\\n",
       "\t25 & Turkey & 2018 & Fruits \\& Vegetables & 38921.0 & 38773.3 & $\\dots$ \\\\\n",
       "\t26 & Spain & 2022 & Fruits \\& Vegetables & 49894.0 & 42739.2 & $\\dots$ \\\\\n",
       "\t27 & South Korea & 2019 & Fruits \\& Vegetables & 39896.9 & 34365.6 & $\\dots$ \\\\\n",
       "\t28 & Spain & 2019 & Fruits \\& Vegetables & 16133.8 & 15262.8 & $\\dots$ \\\\\n",
       "\t29 & South Korea & 2023 & Fruits \\& Vegetables & 41482.6 & 46333.1 & $\\dots$ \\\\\n",
       "\t30 & Indonesia & 2021 & Fruits \\& Vegetables & 46273.8 & 53925.1 & $\\dots$ \\\\\n",
       "\t$\\dots$ & $\\dots$ & $\\dots$ & $\\dots$ & $\\dots$ & $\\dots$ &  \\\\\n",
       "\\end{tabular}\n"
      ],
      "text/plain": [
       "\u001b[1m620×8 DataFrame\u001b[0m\n",
       "\u001b[1m Row \u001b[0m│\u001b[1m Country      \u001b[0m\u001b[1m Year  \u001b[0m\u001b[1m Food Category       \u001b[0m\u001b[1m Total_Waste_Tons \u001b[0m\u001b[1m Economic_Lo\u001b[0m ⋯\n",
       "     │\u001b[90m String15     \u001b[0m\u001b[90m Int32 \u001b[0m\u001b[90m String31            \u001b[0m\u001b[90m Float64          \u001b[0m\u001b[90m Float64    \u001b[0m ⋯\n",
       "─────┼──────────────────────────────────────────────────────────────────────────\n",
       "   1 │ Australia      2019  Fruits & Vegetables          19268.6               ⋯\n",
       "   2 │ France         2023  Fruits & Vegetables          46299.7\n",
       "   3 │ India          2024  Fruits & Vegetables          11962.9\n",
       "   4 │ China          2019  Fruits & Vegetables          12791.2\n",
       "   5 │ Saudi Arabia   2019  Fruits & Vegetables          10653.4               ⋯\n",
       "   6 │ Australia      2020  Fruits & Vegetables           1322.82\n",
       "   7 │ Italy          2023  Fruits & Vegetables          30875.3\n",
       "   8 │ Spain          2021  Fruits & Vegetables          41676.2\n",
       "   9 │ Italy          2024  Fruits & Vegetables          20238.7               ⋯\n",
       "  10 │ Saudi Arabia   2024  Fruits & Vegetables           1104.56\n",
       "  11 │ Germany        2024  Fruits & Vegetables          26112.0\n",
       "  ⋮  │      ⋮          ⋮             ⋮                  ⋮                    ⋮ ⋱\n",
       " 611 │ Saudi Arabia   2021  Fruits & Vegetables           4577.91\n",
       " 612 │ India          2020  Fruits & Vegetables          18287.5               ⋯\n",
       " 613 │ France         2022  Fruits & Vegetables           1050.83\n",
       " 614 │ Mexico         2024  Fruits & Vegetables           5026.34\n",
       " 615 │ France         2019  Fruits & Vegetables          28422.7\n",
       " 616 │ Australia      2020  Fruits & Vegetables          33225.1               ⋯\n",
       " 617 │ Canada         2021  Fruits & Vegetables          44681.2\n",
       " 618 │ South Africa   2018  Fruits & Vegetables          46466.9\n",
       " 619 │ Brazil         2018  Fruits & Vegetables          18801.2\n",
       " 620 │ Saudi Arabia   2019  Fruits & Vegetables          44319.6               ⋯\n",
       "\u001b[36m                                                  4 columns and 599 rows omitted\u001b[0m"
      ]
     },
     "execution_count": 39,
     "metadata": {},
     "output_type": "execute_result"
    }
   ],
   "source": [
    "rename!(fruit_df, Dict(\n",
    "    \"Economic Loss (Million \\$)\" => \"Economic_Loss_Million\",\n",
    "    \"Total Waste (Tons)\" => \"Total_Waste_Tons\",\n",
    "    \"Avg Waste per Capita (Kg)\" => \"Avg_Waste_per_Capita_Kg\",\n",
    "    \"Population (Million)\" => \"Population_Million\",\n",
    "    \"Household Waste (%)\" => \"Household_Waste_Percent\"\n",
    "))"
   ]
  },
  {
   "cell_type": "code",
   "execution_count": 43,
   "id": "4702928b",
   "metadata": {},
   "outputs": [
    {
     "ename": "LoadError",
     "evalue": "ParseError:\n\u001b[90m# Error @ \u001b[0;0m\u001b]8;;file://C:/Users/user/In[43]#3:37\u001b\\\u001b[90mIn[43]:3:37\u001b[0;0m\u001b]8;;\u001b\\\n    Symbol(\"Food Category\") => :Food_Category,\n    Symbol(\"Economic Loss (Million $\u001b[48;2;120;70;70m\u001b[0;0m)\") => :Economic_Loss_Million\n\u001b[90m#                                   └ ── \u001b[0;0m\u001b[91midentifier or parenthesized expression expected after $ in string\u001b[0;0m",
     "output_type": "error",
     "traceback": [
      "ParseError:\n\u001b[90m# Error @ \u001b[0;0m\u001b]8;;file://C:/Users/user/In[43]#3:37\u001b\\\u001b[90mIn[43]:3:37\u001b[0;0m\u001b]8;;\u001b\\\n    Symbol(\"Food Category\") => :Food_Category,\n    Symbol(\"Economic Loss (Million $\u001b[48;2;120;70;70m\u001b[0;0m)\") => :Economic_Loss_Million\n\u001b[90m#                                   └ ── \u001b[0;0m\u001b[91midentifier or parenthesized expression expected after $ in string\u001b[0;0m",
      "",
      "Stacktrace:",
      " [1] top-level scope",
      "   @ In[43]:3"
     ]
    }
   ],
   "source": [
    "rename!(fruit_df, Dict(\n",
    "    Symbol(\"Food Category\") => :Food_Category,\n",
    "    Symbol(\"Economic Loss (Million $)\") => :Economic_Loss_Million\n",
    "))"
   ]
  },
  {
   "cell_type": "code",
   "execution_count": 41,
   "id": "cd2a6113",
   "metadata": {},
   "outputs": [
    {
     "ename": "LoadError",
     "evalue": "MethodError: no method matching table(::MLJModelInterface.FullInterface, ::DataFrame)\n\n\u001b[0mClosest candidates are:\n\u001b[0m  table(\u001b[91m::MLJModelInterface.LightInterface\u001b[39m, ::Any; kw...)\n\u001b[0m\u001b[90m   @\u001b[39m \u001b[32mMLJModelInterface\u001b[39m \u001b[90mC:\\Users\\user\\.julia\\packages\\MLJModelInterface\\y9x5A\\src\\\u001b[39m\u001b[90m\u001b[4mdata_utils.jl:285\u001b[24m\u001b[39m\n\u001b[0m  table(::Any; kw...)\n\u001b[0m\u001b[90m   @\u001b[39m \u001b[32mMLJModelInterface\u001b[39m \u001b[90mC:\\Users\\user\\.julia\\packages\\MLJModelInterface\\y9x5A\\src\\\u001b[39m\u001b[90m\u001b[4mdata_utils.jl:283\u001b[24m\u001b[39m\n\u001b[0m  table(::MLJModelInterface.FullInterface, \u001b[91m::NamedTuple\u001b[39m; prototype)\n\u001b[0m\u001b[90m   @\u001b[39m \u001b[33mMLJBase\u001b[39m \u001b[90mC:\\Users\\user\\.julia\\packages\\MLJBase\\7nGJF\\src\\interface\\\u001b[39m\u001b[90m\u001b[4mdata_utils.jl:40\u001b[24m\u001b[39m\n\u001b[0m  ...\n",
     "output_type": "error",
     "traceback": [
      "MethodError: no method matching table(::MLJModelInterface.FullInterface, ::DataFrame)\n\n\u001b[0mClosest candidates are:\n\u001b[0m  table(\u001b[91m::MLJModelInterface.LightInterface\u001b[39m, ::Any; kw...)\n\u001b[0m\u001b[90m   @\u001b[39m \u001b[32mMLJModelInterface\u001b[39m \u001b[90mC:\\Users\\user\\.julia\\packages\\MLJModelInterface\\y9x5A\\src\\\u001b[39m\u001b[90m\u001b[4mdata_utils.jl:285\u001b[24m\u001b[39m\n\u001b[0m  table(::Any; kw...)\n\u001b[0m\u001b[90m   @\u001b[39m \u001b[32mMLJModelInterface\u001b[39m \u001b[90mC:\\Users\\user\\.julia\\packages\\MLJModelInterface\\y9x5A\\src\\\u001b[39m\u001b[90m\u001b[4mdata_utils.jl:283\u001b[24m\u001b[39m\n\u001b[0m  table(::MLJModelInterface.FullInterface, \u001b[91m::NamedTuple\u001b[39m; prototype)\n\u001b[0m\u001b[90m   @\u001b[39m \u001b[33mMLJBase\u001b[39m \u001b[90mC:\\Users\\user\\.julia\\packages\\MLJBase\\7nGJF\\src\\interface\\\u001b[39m\u001b[90m\u001b[4mdata_utils.jl:40\u001b[24m\u001b[39m\n\u001b[0m  ...\n",
      "",
      "Stacktrace:",
      " [1] table(X::DataFrame; kw::@Kwargs{})",
      "   @ MLJModelInterface C:\\Users\\user\\.julia\\packages\\MLJModelInterface\\y9x5A\\src\\data_utils.jl:283",
      " [2] top-level scope",
      "   @ In[41]:2"
     ]
    }
   ],
   "source": [
    "# Convert to MLJ table\n",
    "fruit_X = MLJ.table(fruit_features)\n",
    "fruit_y = fruit_target"
   ]
  },
  {
   "cell_type": "code",
   "execution_count": null,
   "id": "f68903e2",
   "metadata": {},
   "outputs": [],
   "source": []
  }
 ],
 "metadata": {
  "kernelspec": {
   "display_name": "Julia 1.10.9",
   "language": "julia",
   "name": "julia-1.10"
  },
  "language_info": {
   "file_extension": ".jl",
   "mimetype": "application/julia",
   "name": "julia",
   "version": "1.10.9"
  }
 },
 "nbformat": 4,
 "nbformat_minor": 5
}
